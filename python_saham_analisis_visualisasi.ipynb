{
  "nbformat": 4,
  "nbformat_minor": 0,
  "metadata": {
    "colab": {
      "name": "python-saham-analisis-visualisasi.ipynb",
      "provenance": [],
      "collapsed_sections": [],
      "authorship_tag": "ABX9TyNaKk8cgVtaylI+aM0hSFQK",
      "include_colab_link": true
    },
    "kernelspec": {
      "name": "python3",
      "display_name": "Python 3"
    }
  },
  "cells": [
    {
      "cell_type": "markdown",
      "metadata": {
        "id": "view-in-github",
        "colab_type": "text"
      },
      "source": [
        "<a href=\"https://colab.research.google.com/github/anakstei/python-saham-analisis-visualisasi/blob/main/python_saham_analisis_visualisasi.ipynb\" target=\"_parent\"><img src=\"https://colab.research.google.com/assets/colab-badge.svg\" alt=\"Open In Colab\"/></a>"
      ]
    },
    {
      "cell_type": "markdown",
      "metadata": {
        "id": "biwlgcDBygiY"
      },
      "source": [
        "# **Analisis dan Visualisasi Data Saham Menggunakan Python — Part 1**"
      ]
    },
    {
      "cell_type": "markdown",
      "metadata": {
        "id": "9OY8quQjyYUr"
      },
      "source": [
        "### Import libraries"
      ]
    },
    {
      "cell_type": "code",
      "metadata": {
        "colab": {
          "base_uri": "https://localhost:8080/"
        },
        "id": "avsekgNGo4l0",
        "outputId": "3223be6a-bf7f-412b-c53e-e7a92e0a8abe"
      },
      "source": [
        "# Install yfinance library\r\n",
        "# https://pypi.org/project/yfinance/\r\n",
        "!pip install yfinance"
      ],
      "execution_count": 2,
      "outputs": [
        {
          "output_type": "stream",
          "text": [
            "Collecting yfinance\n",
            "  Downloading https://files.pythonhosted.org/packages/7a/e8/b9d7104d3a4bf39924799067592d9e59119fcfc900a425a12e80a3123ec8/yfinance-0.1.55.tar.gz\n",
            "Requirement already satisfied: pandas>=0.24 in /usr/local/lib/python3.7/dist-packages (from yfinance) (1.1.5)\n",
            "Requirement already satisfied: numpy>=1.15 in /usr/local/lib/python3.7/dist-packages (from yfinance) (1.19.5)\n",
            "Requirement already satisfied: requests>=2.20 in /usr/local/lib/python3.7/dist-packages (from yfinance) (2.23.0)\n",
            "Requirement already satisfied: multitasking>=0.0.7 in /usr/local/lib/python3.7/dist-packages (from yfinance) (0.0.9)\n",
            "Collecting lxml>=4.5.1\n",
            "\u001b[?25l  Downloading https://files.pythonhosted.org/packages/d2/88/b25778f17e5320c1c58f8c5060fb5b037288e162bd7554c30799e9ea90db/lxml-4.6.2-cp37-cp37m-manylinux1_x86_64.whl (5.5MB)\n",
            "\u001b[K     |████████████████████████████████| 5.5MB 15.4MB/s \n",
            "\u001b[?25hRequirement already satisfied: pytz>=2017.2 in /usr/local/lib/python3.7/dist-packages (from pandas>=0.24->yfinance) (2018.9)\n",
            "Requirement already satisfied: python-dateutil>=2.7.3 in /usr/local/lib/python3.7/dist-packages (from pandas>=0.24->yfinance) (2.8.1)\n",
            "Requirement already satisfied: certifi>=2017.4.17 in /usr/local/lib/python3.7/dist-packages (from requests>=2.20->yfinance) (2020.12.5)\n",
            "Requirement already satisfied: chardet<4,>=3.0.2 in /usr/local/lib/python3.7/dist-packages (from requests>=2.20->yfinance) (3.0.4)\n",
            "Requirement already satisfied: idna<3,>=2.5 in /usr/local/lib/python3.7/dist-packages (from requests>=2.20->yfinance) (2.10)\n",
            "Requirement already satisfied: urllib3!=1.25.0,!=1.25.1,<1.26,>=1.21.1 in /usr/local/lib/python3.7/dist-packages (from requests>=2.20->yfinance) (1.24.3)\n",
            "Requirement already satisfied: six>=1.5 in /usr/local/lib/python3.7/dist-packages (from python-dateutil>=2.7.3->pandas>=0.24->yfinance) (1.15.0)\n",
            "Building wheels for collected packages: yfinance\n",
            "  Building wheel for yfinance (setup.py) ... \u001b[?25l\u001b[?25hdone\n",
            "  Created wheel for yfinance: filename=yfinance-0.1.55-py2.py3-none-any.whl size=22616 sha256=159a795d90a865655f38f9296f10eb81d686e3e2eba7ab9dbea48dfa0afcd6a4\n",
            "  Stored in directory: /root/.cache/pip/wheels/04/98/cc/2702a4242d60bdc14f48b4557c427ded1fe92aedf257d4565c\n",
            "Successfully built yfinance\n",
            "Installing collected packages: lxml, yfinance\n",
            "  Found existing installation: lxml 4.2.6\n",
            "    Uninstalling lxml-4.2.6:\n",
            "      Successfully uninstalled lxml-4.2.6\n",
            "Successfully installed lxml-4.6.2 yfinance-0.1.55\n"
          ],
          "name": "stdout"
        }
      ]
    },
    {
      "cell_type": "code",
      "metadata": {
        "id": "5DfCM_8-pFgE"
      },
      "source": [
        "# Import libraries\r\n",
        "import pandas as pd\r\n",
        "import matplotlib.pyplot as plt\r\n",
        "import seaborn as sns\r\n",
        "import plotly.express as px\r\n",
        "import plotly.figure_factory as ff\r\n",
        "import yfinance as yf"
      ],
      "execution_count": 4,
      "outputs": []
    },
    {
      "cell_type": "markdown",
      "metadata": {
        "id": "YVSQtoStyLGO"
      },
      "source": [
        "### Test yfinance"
      ]
    },
    {
      "cell_type": "code",
      "metadata": {
        "id": "O6m0EJJFu7H9"
      },
      "source": [
        "bbca = yf.Ticker(\"BBCA.JK\")"
      ],
      "execution_count": 75,
      "outputs": []
    },
    {
      "cell_type": "code",
      "metadata": {
        "colab": {
          "base_uri": "https://localhost:8080/"
        },
        "id": "skn8IQ9Evj2e",
        "outputId": "64d7e38a-9803-4485-f345-a85173efbf20"
      },
      "source": [
        "# Get stock info\r\n",
        "bbca.info"
      ],
      "execution_count": 76,
      "outputs": [
        {
          "output_type": "execute_result",
          "data": {
            "text/plain": [
              "{'52WeekChange': 0.12905979,\n",
              " 'SandP52WeekChange': 0.4136821,\n",
              " 'address1': 'Menara BCA',\n",
              " 'address2': 'Grand Indonesia Jl. M.H. Thamrin No. 1',\n",
              " 'algorithm': None,\n",
              " 'annualHoldingsTurnover': None,\n",
              " 'annualReportExpenseRatio': None,\n",
              " 'ask': 33525,\n",
              " 'askSize': 0,\n",
              " 'averageDailyVolume10Day': 23731271,\n",
              " 'averageVolume': 18795986,\n",
              " 'averageVolume10days': 23731271,\n",
              " 'beta': 0.528512,\n",
              " 'beta3Year': None,\n",
              " 'bid': 33500,\n",
              " 'bidSize': 0,\n",
              " 'bookValue': 7487.173,\n",
              " 'category': None,\n",
              " 'circulatingSupply': None,\n",
              " 'city': 'Jakarta',\n",
              " 'companyOfficers': [],\n",
              " 'country': 'Indonesia',\n",
              " 'currency': 'IDR',\n",
              " 'dateShortInterest': None,\n",
              " 'dayHigh': 33600,\n",
              " 'dayLow': 33100,\n",
              " 'dividendRate': 553,\n",
              " 'dividendYield': 0.0165,\n",
              " 'earningsQuarterlyGrowth': -0.072,\n",
              " 'enterpriseToEbitda': None,\n",
              " 'enterpriseToRevenue': 9.188,\n",
              " 'enterpriseValue': 583706322403328,\n",
              " 'exDividendDate': 1607472000,\n",
              " 'exchange': 'JKT',\n",
              " 'exchangeTimezoneName': 'Asia/Jakarta',\n",
              " 'exchangeTimezoneShortName': 'WIB',\n",
              " 'expireDate': None,\n",
              " 'fax': '62 21 2358 8300',\n",
              " 'fiftyDayAverage': 34346.43,\n",
              " 'fiftyTwoWeekHigh': 36900,\n",
              " 'fiftyTwoWeekLow': 21625,\n",
              " 'fiveYearAverageReturn': None,\n",
              " 'fiveYearAvgDividendYield': 1.22,\n",
              " 'floatShares': 9799133724,\n",
              " 'forwardEps': 1204.84,\n",
              " 'forwardPE': 27.825272,\n",
              " 'fromCurrency': None,\n",
              " 'fullTimeEmployees': 26123,\n",
              " 'fundFamily': None,\n",
              " 'fundInceptionDate': None,\n",
              " 'gmtOffSetMilliseconds': '25200000',\n",
              " 'heldPercentInsiders': 0.59733003,\n",
              " 'heldPercentInstitutions': 0.21236,\n",
              " 'impliedSharesOutstanding': None,\n",
              " 'industry': 'Banks—Regional',\n",
              " 'isEsgPopulated': False,\n",
              " 'lastCapGain': None,\n",
              " 'lastDividendDate': 1607472000,\n",
              " 'lastDividendValue': 98,\n",
              " 'lastFiscalYearEnd': 1609372800,\n",
              " 'lastMarket': None,\n",
              " 'lastSplitDate': 1201478400,\n",
              " 'lastSplitFactor': '2:1',\n",
              " 'legalType': None,\n",
              " 'logo_url': 'https://logo.clearbit.com/bca.co.id',\n",
              " 'longBusinessSummary': 'PT Bank Central Asia Tbk, together with its subsidiaries, provides banking products and services to individual, corporate, and small and medium enterprise customers in Indonesia and internationally. It offers deposits accounts, loans, transaction banking services, electronic banking services, cash management services, credit cards, bancassurance products, mutual fund and treasury investment products, credit facilities, standby LC/bank guarantees, export import facilities, local LC, and foreign exchange facilities. The company also provides investment financing, working capital financing, auto and multipurpose financing, operating lease, other financing activities, money lending and remittance, securities brokerage dealing and securities issuance underwriting, general or loss insurance, life insurance, Sharia banking, and venture capital services. As of December 31, 2020, it operated 1,248 offices comprising 139 main branches, 874 sub-branches, and 235 cash offices; and 17,623 automated teller machines. PT Bank Central Asia Tbk was founded in 1955 and is headquartered in Jakarta, Indonesia. PT Bank Central Asia Tbk is a subsidiary of PT Dwimuria Investama Andalan.',\n",
              " 'longName': 'PT Bank Central Asia Tbk',\n",
              " 'market': 'id_market',\n",
              " 'marketCap': 826558872813568,\n",
              " 'maxAge': 1,\n",
              " 'maxSupply': None,\n",
              " 'messageBoardId': 'finmb_1945186',\n",
              " 'morningStarOverallRating': None,\n",
              " 'morningStarRiskRating': None,\n",
              " 'mostRecentQuarter': 1609372800,\n",
              " 'navPrice': None,\n",
              " 'netIncomeToCommon': 27131109179392,\n",
              " 'nextFiscalYearEnd': 1672444800,\n",
              " 'open': 33600,\n",
              " 'openInterest': None,\n",
              " 'payoutRatio': 0.50270003,\n",
              " 'pegRatio': None,\n",
              " 'phone': '62 21 2358 8000',\n",
              " 'previousClose': 33025,\n",
              " 'priceHint': 2,\n",
              " 'priceToBook': 4.4776583,\n",
              " 'priceToSalesTrailing12Months': 13.010275,\n",
              " 'profitMargins': 0.42705002,\n",
              " 'quoteType': 'EQUITY',\n",
              " 'regularMarketDayHigh': 33600,\n",
              " 'regularMarketDayLow': 33100,\n",
              " 'regularMarketOpen': 33600,\n",
              " 'regularMarketPreviousClose': 33025,\n",
              " 'regularMarketPrice': 33600,\n",
              " 'regularMarketVolume': 10060400,\n",
              " 'revenueQuarterlyGrowth': None,\n",
              " 'sector': 'Financial Services',\n",
              " 'sharesOutstanding': 24654999552,\n",
              " 'sharesPercentSharesOut': None,\n",
              " 'sharesShort': None,\n",
              " 'sharesShortPreviousMonthDate': None,\n",
              " 'sharesShortPriorMonth': None,\n",
              " 'shortName': 'Bank Central Asia Tbk.',\n",
              " 'shortPercentOfFloat': None,\n",
              " 'shortRatio': None,\n",
              " 'startDate': None,\n",
              " 'strikePrice': None,\n",
              " 'symbol': 'BBCA.JK',\n",
              " 'threeYearAverageReturn': None,\n",
              " 'toCurrency': None,\n",
              " 'totalAssets': None,\n",
              " 'tradeable': False,\n",
              " 'trailingAnnualDividendRate': 455,\n",
              " 'trailingAnnualDividendYield': 0.013777441,\n",
              " 'trailingEps': 1100,\n",
              " 'trailingPE': 30.477272,\n",
              " 'twoHundredDayAverage': 32150.887,\n",
              " 'volume': 10060400,\n",
              " 'volume24Hr': None,\n",
              " 'volumeAllCurrencies': None,\n",
              " 'website': 'http://www.bca.co.id',\n",
              " 'yield': None,\n",
              " 'ytdReturn': None,\n",
              " 'zip': '10310'}"
            ]
          },
          "metadata": {
            "tags": []
          },
          "execution_count": 76
        }
      ]
    },
    {
      "cell_type": "code",
      "metadata": {
        "id": "JgHTo1_xvlF-"
      },
      "source": [
        "# Get historical market data\r\n",
        "hist = bbca.history(period=\"max\")\r\n",
        "# hist = bbca.history(start=\"2020-02-15\", end=\"2021-02-15\")"
      ],
      "execution_count": 77,
      "outputs": []
    },
    {
      "cell_type": "code",
      "metadata": {
        "colab": {
          "base_uri": "https://localhost:8080/"
        },
        "id": "M2q0xbbvvvLV",
        "outputId": "54d5ae46-b279-468b-8cfc-0a71f4fec16a"
      },
      "source": [
        "type(hist)"
      ],
      "execution_count": 78,
      "outputs": [
        {
          "output_type": "execute_result",
          "data": {
            "text/plain": [
              "pandas.core.frame.DataFrame"
            ]
          },
          "metadata": {
            "tags": []
          },
          "execution_count": 78
        }
      ]
    },
    {
      "cell_type": "code",
      "metadata": {
        "colab": {
          "base_uri": "https://localhost:8080/",
          "height": 450
        },
        "id": "9cYDC4pjvyg9",
        "outputId": "d4f34f6c-e2e4-4d8f-d356-931a1dd7cb05"
      },
      "source": [
        "hist"
      ],
      "execution_count": 79,
      "outputs": [
        {
          "output_type": "execute_result",
          "data": {
            "text/html": [
              "<div>\n",
              "<style scoped>\n",
              "    .dataframe tbody tr th:only-of-type {\n",
              "        vertical-align: middle;\n",
              "    }\n",
              "\n",
              "    .dataframe tbody tr th {\n",
              "        vertical-align: top;\n",
              "    }\n",
              "\n",
              "    .dataframe thead th {\n",
              "        text-align: right;\n",
              "    }\n",
              "</style>\n",
              "<table border=\"1\" class=\"dataframe\">\n",
              "  <thead>\n",
              "    <tr style=\"text-align: right;\">\n",
              "      <th></th>\n",
              "      <th>Open</th>\n",
              "      <th>High</th>\n",
              "      <th>Low</th>\n",
              "      <th>Close</th>\n",
              "      <th>Volume</th>\n",
              "      <th>Dividends</th>\n",
              "      <th>Stock Splits</th>\n",
              "    </tr>\n",
              "    <tr>\n",
              "      <th>Date</th>\n",
              "      <th></th>\n",
              "      <th></th>\n",
              "      <th></th>\n",
              "      <th></th>\n",
              "      <th></th>\n",
              "      <th></th>\n",
              "      <th></th>\n",
              "    </tr>\n",
              "  </thead>\n",
              "  <tbody>\n",
              "    <tr>\n",
              "      <th>2004-06-08</th>\n",
              "      <td>553.559837</td>\n",
              "      <td>569.375832</td>\n",
              "      <td>553.559837</td>\n",
              "      <td>561.467834</td>\n",
              "      <td>99830000.0</td>\n",
              "      <td>0.0</td>\n",
              "      <td>0.0</td>\n",
              "    </tr>\n",
              "    <tr>\n",
              "      <th>2004-06-09</th>\n",
              "      <td>561.468037</td>\n",
              "      <td>577.284038</td>\n",
              "      <td>553.560037</td>\n",
              "      <td>569.376038</td>\n",
              "      <td>58858000.0</td>\n",
              "      <td>0.0</td>\n",
              "      <td>0.0</td>\n",
              "    </tr>\n",
              "    <tr>\n",
              "      <th>2004-06-10</th>\n",
              "      <td>569.376038</td>\n",
              "      <td>569.376038</td>\n",
              "      <td>561.468037</td>\n",
              "      <td>569.376038</td>\n",
              "      <td>33118000.0</td>\n",
              "      <td>0.0</td>\n",
              "      <td>0.0</td>\n",
              "    </tr>\n",
              "    <tr>\n",
              "      <th>2004-06-11</th>\n",
              "      <td>561.468037</td>\n",
              "      <td>569.376038</td>\n",
              "      <td>561.468037</td>\n",
              "      <td>569.376038</td>\n",
              "      <td>27166000.0</td>\n",
              "      <td>0.0</td>\n",
              "      <td>0.0</td>\n",
              "    </tr>\n",
              "    <tr>\n",
              "      <th>2004-06-14</th>\n",
              "      <td>569.375832</td>\n",
              "      <td>569.375832</td>\n",
              "      <td>553.559837</td>\n",
              "      <td>561.467834</td>\n",
              "      <td>31708000.0</td>\n",
              "      <td>0.0</td>\n",
              "      <td>0.0</td>\n",
              "    </tr>\n",
              "    <tr>\n",
              "      <th>...</th>\n",
              "      <td>...</td>\n",
              "      <td>...</td>\n",
              "      <td>...</td>\n",
              "      <td>...</td>\n",
              "      <td>...</td>\n",
              "      <td>...</td>\n",
              "      <td>...</td>\n",
              "    </tr>\n",
              "    <tr>\n",
              "      <th>2021-03-04</th>\n",
              "      <td>34525.000000</td>\n",
              "      <td>35000.000000</td>\n",
              "      <td>33600.000000</td>\n",
              "      <td>33600.000000</td>\n",
              "      <td>24160500.0</td>\n",
              "      <td>0.0</td>\n",
              "      <td>0.0</td>\n",
              "    </tr>\n",
              "    <tr>\n",
              "      <th>2021-03-05</th>\n",
              "      <td>33600.000000</td>\n",
              "      <td>34625.000000</td>\n",
              "      <td>33600.000000</td>\n",
              "      <td>34000.000000</td>\n",
              "      <td>22374300.0</td>\n",
              "      <td>0.0</td>\n",
              "      <td>0.0</td>\n",
              "    </tr>\n",
              "    <tr>\n",
              "      <th>2021-03-08</th>\n",
              "      <td>34750.000000</td>\n",
              "      <td>34750.000000</td>\n",
              "      <td>33600.000000</td>\n",
              "      <td>33600.000000</td>\n",
              "      <td>18176600.0</td>\n",
              "      <td>0.0</td>\n",
              "      <td>0.0</td>\n",
              "    </tr>\n",
              "    <tr>\n",
              "      <th>2021-03-09</th>\n",
              "      <td>33500.000000</td>\n",
              "      <td>33575.000000</td>\n",
              "      <td>33000.000000</td>\n",
              "      <td>33025.000000</td>\n",
              "      <td>27116400.0</td>\n",
              "      <td>0.0</td>\n",
              "      <td>0.0</td>\n",
              "    </tr>\n",
              "    <tr>\n",
              "      <th>2021-03-10</th>\n",
              "      <td>33600.000000</td>\n",
              "      <td>33600.000000</td>\n",
              "      <td>33100.000000</td>\n",
              "      <td>33525.000000</td>\n",
              "      <td>10060400.0</td>\n",
              "      <td>0.0</td>\n",
              "      <td>0.0</td>\n",
              "    </tr>\n",
              "  </tbody>\n",
              "</table>\n",
              "<p>4164 rows × 7 columns</p>\n",
              "</div>"
            ],
            "text/plain": [
              "                    Open          High  ...  Dividends  Stock Splits\n",
              "Date                                    ...                         \n",
              "2004-06-08    553.559837    569.375832  ...        0.0           0.0\n",
              "2004-06-09    561.468037    577.284038  ...        0.0           0.0\n",
              "2004-06-10    569.376038    569.376038  ...        0.0           0.0\n",
              "2004-06-11    561.468037    569.376038  ...        0.0           0.0\n",
              "2004-06-14    569.375832    569.375832  ...        0.0           0.0\n",
              "...                  ...           ...  ...        ...           ...\n",
              "2021-03-04  34525.000000  35000.000000  ...        0.0           0.0\n",
              "2021-03-05  33600.000000  34625.000000  ...        0.0           0.0\n",
              "2021-03-08  34750.000000  34750.000000  ...        0.0           0.0\n",
              "2021-03-09  33500.000000  33575.000000  ...        0.0           0.0\n",
              "2021-03-10  33600.000000  33600.000000  ...        0.0           0.0\n",
              "\n",
              "[4164 rows x 7 columns]"
            ]
          },
          "metadata": {
            "tags": []
          },
          "execution_count": 79
        }
      ]
    },
    {
      "cell_type": "markdown",
      "metadata": {
        "id": "itPvzNQv3syN"
      },
      "source": [
        "### Data visualization using Plotly"
      ]
    },
    {
      "cell_type": "code",
      "metadata": {
        "id": "ur4fMpHj4krG"
      },
      "source": [
        "# From Ryan Ahmed, Python & Machine Learning for Financial Analysis, Udemy Course\r\n",
        "def interactive_plot(df, title):\r\n",
        "  fig = px.line(title=title)\r\n",
        "  for i in df.columns[1:]:\r\n",
        "    fig.add_scatter(x=df['Date'], y=df[i], name=i)\r\n",
        "  fig.show()"
      ],
      "execution_count": 80,
      "outputs": []
    },
    {
      "cell_type": "code",
      "metadata": {
        "id": "qyINkOBp4-rz"
      },
      "source": [
        "# Drop all columns except Date and Close\r\n",
        "hist.drop(['Open', 'High', 'Low', 'Volume', 'Dividends', 'Stock Splits'], axis=1, inplace=True)\r\n",
        "hist.reset_index(level=0, inplace=True)"
      ],
      "execution_count": 81,
      "outputs": []
    },
    {
      "cell_type": "code",
      "metadata": {
        "colab": {
          "base_uri": "https://localhost:8080/",
          "height": 419
        },
        "id": "6lzBbgth6YTl",
        "outputId": "cc6bbbac-6b22-41a7-c283-8092dc9de052"
      },
      "source": [
        "hist"
      ],
      "execution_count": 83,
      "outputs": [
        {
          "output_type": "execute_result",
          "data": {
            "text/html": [
              "<div>\n",
              "<style scoped>\n",
              "    .dataframe tbody tr th:only-of-type {\n",
              "        vertical-align: middle;\n",
              "    }\n",
              "\n",
              "    .dataframe tbody tr th {\n",
              "        vertical-align: top;\n",
              "    }\n",
              "\n",
              "    .dataframe thead th {\n",
              "        text-align: right;\n",
              "    }\n",
              "</style>\n",
              "<table border=\"1\" class=\"dataframe\">\n",
              "  <thead>\n",
              "    <tr style=\"text-align: right;\">\n",
              "      <th></th>\n",
              "      <th>Date</th>\n",
              "      <th>Close</th>\n",
              "    </tr>\n",
              "  </thead>\n",
              "  <tbody>\n",
              "    <tr>\n",
              "      <th>0</th>\n",
              "      <td>2004-06-08</td>\n",
              "      <td>561.467834</td>\n",
              "    </tr>\n",
              "    <tr>\n",
              "      <th>1</th>\n",
              "      <td>2004-06-09</td>\n",
              "      <td>569.376038</td>\n",
              "    </tr>\n",
              "    <tr>\n",
              "      <th>2</th>\n",
              "      <td>2004-06-10</td>\n",
              "      <td>569.376038</td>\n",
              "    </tr>\n",
              "    <tr>\n",
              "      <th>3</th>\n",
              "      <td>2004-06-11</td>\n",
              "      <td>569.376038</td>\n",
              "    </tr>\n",
              "    <tr>\n",
              "      <th>4</th>\n",
              "      <td>2004-06-14</td>\n",
              "      <td>561.467834</td>\n",
              "    </tr>\n",
              "    <tr>\n",
              "      <th>...</th>\n",
              "      <td>...</td>\n",
              "      <td>...</td>\n",
              "    </tr>\n",
              "    <tr>\n",
              "      <th>4159</th>\n",
              "      <td>2021-03-04</td>\n",
              "      <td>33600.000000</td>\n",
              "    </tr>\n",
              "    <tr>\n",
              "      <th>4160</th>\n",
              "      <td>2021-03-05</td>\n",
              "      <td>34000.000000</td>\n",
              "    </tr>\n",
              "    <tr>\n",
              "      <th>4161</th>\n",
              "      <td>2021-03-08</td>\n",
              "      <td>33600.000000</td>\n",
              "    </tr>\n",
              "    <tr>\n",
              "      <th>4162</th>\n",
              "      <td>2021-03-09</td>\n",
              "      <td>33025.000000</td>\n",
              "    </tr>\n",
              "    <tr>\n",
              "      <th>4163</th>\n",
              "      <td>2021-03-10</td>\n",
              "      <td>33525.000000</td>\n",
              "    </tr>\n",
              "  </tbody>\n",
              "</table>\n",
              "<p>4164 rows × 2 columns</p>\n",
              "</div>"
            ],
            "text/plain": [
              "           Date         Close\n",
              "0    2004-06-08    561.467834\n",
              "1    2004-06-09    569.376038\n",
              "2    2004-06-10    569.376038\n",
              "3    2004-06-11    569.376038\n",
              "4    2004-06-14    561.467834\n",
              "...         ...           ...\n",
              "4159 2021-03-04  33600.000000\n",
              "4160 2021-03-05  34000.000000\n",
              "4161 2021-03-08  33600.000000\n",
              "4162 2021-03-09  33025.000000\n",
              "4163 2021-03-10  33525.000000\n",
              "\n",
              "[4164 rows x 2 columns]"
            ]
          },
          "metadata": {
            "tags": []
          },
          "execution_count": 83
        }
      ]
    },
    {
      "cell_type": "code",
      "metadata": {
        "colab": {
          "base_uri": "https://localhost:8080/",
          "height": 542
        },
        "id": "8XkuhAyr6n_w",
        "outputId": "f4142621-a38e-45d3-8ff1-40a0673c5f85"
      },
      "source": [
        "interactive_plot(hist, 'BBCA Stock Price')"
      ],
      "execution_count": 84,
      "outputs": [
        {
          "output_type": "display_data",
          "data": {
            "text/html": [
              "<html>\n",
              "<head><meta charset=\"utf-8\" /></head>\n",
              "<body>\n",
              "    <div>\n",
              "            <script src=\"https://cdnjs.cloudflare.com/ajax/libs/mathjax/2.7.5/MathJax.js?config=TeX-AMS-MML_SVG\"></script><script type=\"text/javascript\">if (window.MathJax) {MathJax.Hub.Config({SVG: {font: \"STIX-Web\"}});}</script>\n",
              "                <script type=\"text/javascript\">window.PlotlyConfig = {MathJaxConfig: 'local'};</script>\n",
              "        <script src=\"https://cdn.plot.ly/plotly-latest.min.js\"></script>    \n",
              "            <div id=\"4bba7c42-c958-4d41-928b-f695634e4516\" class=\"plotly-graph-div\" style=\"height:525px; width:100%;\"></div>\n",
              "            <script type=\"text/javascript\">\n",
              "                \n",
              "                    window.PLOTLYENV=window.PLOTLYENV || {};\n",
              "                    \n",
              "                if (document.getElementById(\"4bba7c42-c958-4d41-928b-f695634e4516\")) {\n",
              "                    Plotly.newPlot(\n",
              "                        '4bba7c42-c958-4d41-928b-f695634e4516',\n",
              "                        [{\"name\": \"Close\", \"type\": \"scatter\", \"x\": [\"2004-06-08T00:00:00\", \"2004-06-09T00:00:00\", \"2004-06-10T00:00:00\", \"2004-06-11T00:00:00\", \"2004-06-14T00:00:00\", \"2004-06-15T00:00:00\", \"2004-06-16T00:00:00\", \"2004-06-17T00:00:00\", \"2004-06-18T00:00:00\", \"2004-06-21T00:00:00\", \"2004-06-22T00:00:00\", \"2004-06-23T00:00:00\", \"2004-06-24T00:00:00\", \"2004-06-25T00:00:00\", \"2004-06-28T00:00:00\", \"2004-06-29T00:00:00\", \"2004-06-30T00:00:00\", \"2004-07-01T00:00:00\", \"2004-07-02T00:00:00\", \"2004-07-05T00:00:00\", \"2004-07-06T00:00:00\", \"2004-07-07T00:00:00\", \"2004-07-08T00:00:00\", \"2004-07-09T00:00:00\", \"2004-07-12T00:00:00\", \"2004-07-13T00:00:00\", \"2004-07-14T00:00:00\", \"2004-07-15T00:00:00\", \"2004-07-16T00:00:00\", \"2004-07-19T00:00:00\", \"2004-07-20T00:00:00\", \"2004-07-21T00:00:00\", \"2004-07-22T00:00:00\", \"2004-07-23T00:00:00\", \"2004-07-26T00:00:00\", \"2004-07-27T00:00:00\", \"2004-07-28T00:00:00\", \"2004-07-29T00:00:00\", \"2004-07-30T00:00:00\", \"2004-08-02T00:00:00\", \"2004-08-03T00:00:00\", \"2004-08-04T00:00:00\", \"2004-08-05T00:00:00\", \"2004-08-06T00:00:00\", \"2004-08-09T00:00:00\", \"2004-08-10T00:00:00\", \"2004-08-11T00:00:00\", \"2004-08-12T00:00:00\", \"2004-08-13T00:00:00\", \"2004-08-16T00:00:00\", \"2004-08-17T00:00:00\", \"2004-08-18T00:00:00\", \"2004-08-19T00:00:00\", \"2004-08-20T00:00:00\", \"2004-08-23T00:00:00\", \"2004-08-24T00:00:00\", \"2004-08-25T00:00:00\", \"2004-08-26T00:00:00\", \"2004-08-27T00:00:00\", \"2004-08-30T00:00:00\", \"2004-08-31T00:00:00\", \"2004-09-01T00:00:00\", \"2004-09-02T00:00:00\", \"2004-09-03T00:00:00\", \"2004-09-06T00:00:00\", \"2004-09-07T00:00:00\", \"2004-09-08T00:00:00\", \"2004-09-09T00:00:00\", \"2004-09-10T00:00:00\", \"2004-09-13T00:00:00\", \"2004-09-14T00:00:00\", \"2004-09-15T00:00:00\", \"2004-09-16T00:00:00\", \"2004-09-17T00:00:00\", \"2004-09-20T00:00:00\", \"2004-09-21T00:00:00\", \"2004-09-22T00:00:00\", \"2004-09-23T00:00:00\", \"2004-09-24T00:00:00\", \"2004-09-27T00:00:00\", \"2004-09-28T00:00:00\", \"2004-09-29T00:00:00\", \"2004-09-30T00:00:00\", \"2004-10-01T00:00:00\", \"2004-10-04T00:00:00\", \"2004-10-05T00:00:00\", \"2004-10-06T00:00:00\", \"2004-10-07T00:00:00\", \"2004-10-08T00:00:00\", \"2004-10-11T00:00:00\", \"2004-10-12T00:00:00\", \"2004-10-13T00:00:00\", \"2004-10-14T00:00:00\", \"2004-10-15T00:00:00\", \"2004-10-18T00:00:00\", \"2004-10-19T00:00:00\", \"2004-10-20T00:00:00\", \"2004-10-21T00:00:00\", \"2004-10-22T00:00:00\", \"2004-10-25T00:00:00\", \"2004-10-26T00:00:00\", \"2004-10-27T00:00:00\", \"2004-10-28T00:00:00\", \"2004-10-29T00:00:00\", \"2004-11-01T00:00:00\", \"2004-11-02T00:00:00\", \"2004-11-03T00:00:00\", \"2004-11-04T00:00:00\", \"2004-11-05T00:00:00\", \"2004-11-08T00:00:00\", \"2004-11-09T00:00:00\", \"2004-11-10T00:00:00\", \"2004-11-11T00:00:00\", \"2004-11-12T00:00:00\", \"2004-11-15T00:00:00\", \"2004-11-16T00:00:00\", \"2004-11-17T00:00:00\", \"2004-11-18T00:00:00\", \"2004-11-19T00:00:00\", \"2004-11-22T00:00:00\", \"2004-11-23T00:00:00\", \"2004-11-24T00:00:00\", \"2004-11-25T00:00:00\", \"2004-11-26T00:00:00\", \"2004-11-29T00:00:00\", \"2004-11-30T00:00:00\", \"2004-12-01T00:00:00\", \"2004-12-02T00:00:00\", \"2004-12-03T00:00:00\", \"2004-12-06T00:00:00\", \"2004-12-07T00:00:00\", \"2004-12-08T00:00:00\", \"2004-12-09T00:00:00\", \"2004-12-10T00:00:00\", \"2004-12-13T00:00:00\", \"2004-12-14T00:00:00\", \"2004-12-15T00:00:00\", \"2004-12-16T00:00:00\", \"2004-12-17T00:00:00\", \"2004-12-20T00:00:00\", \"2004-12-21T00:00:00\", \"2004-12-22T00:00:00\", \"2004-12-23T00:00:00\", \"2004-12-24T00:00:00\", \"2004-12-27T00:00:00\", \"2004-12-28T00:00:00\", \"2004-12-29T00:00:00\", \"2004-12-30T00:00:00\", \"2004-12-31T00:00:00\", \"2005-01-03T00:00:00\", \"2005-01-04T00:00:00\", \"2005-01-05T00:00:00\", \"2005-01-06T00:00:00\", \"2005-01-07T00:00:00\", \"2005-01-10T00:00:00\", \"2005-01-11T00:00:00\", \"2005-01-12T00:00:00\", \"2005-01-13T00:00:00\", \"2005-01-14T00:00:00\", \"2005-01-17T00:00:00\", \"2005-01-18T00:00:00\", \"2005-01-19T00:00:00\", \"2005-01-20T00:00:00\", \"2005-01-24T00:00:00\", \"2005-01-25T00:00:00\", \"2005-01-26T00:00:00\", \"2005-01-27T00:00:00\", \"2005-01-28T00:00:00\", \"2005-01-31T00:00:00\", \"2005-02-01T00:00:00\", \"2005-02-02T00:00:00\", \"2005-02-03T00:00:00\", \"2005-02-04T00:00:00\", \"2005-02-07T00:00:00\", \"2005-02-08T00:00:00\", \"2005-02-11T00:00:00\", \"2005-02-14T00:00:00\", \"2005-02-15T00:00:00\", \"2005-02-16T00:00:00\", \"2005-02-17T00:00:00\", \"2005-02-18T00:00:00\", \"2005-02-21T00:00:00\", \"2005-02-22T00:00:00\", \"2005-02-23T00:00:00\", \"2005-02-24T00:00:00\", \"2005-02-25T00:00:00\", \"2005-02-28T00:00:00\", \"2005-03-01T00:00:00\", \"2005-03-02T00:00:00\", \"2005-03-03T00:00:00\", \"2005-03-04T00:00:00\", \"2005-03-07T00:00:00\", \"2005-03-08T00:00:00\", \"2005-03-09T00:00:00\", \"2005-03-10T00:00:00\", \"2005-03-14T00:00:00\", \"2005-03-15T00:00:00\", \"2005-03-16T00:00:00\", \"2005-03-17T00:00:00\", \"2005-03-18T00:00:00\", \"2005-03-21T00:00:00\", \"2005-03-22T00:00:00\", \"2005-03-23T00:00:00\", \"2005-03-24T00:00:00\", \"2005-03-28T00:00:00\", \"2005-03-29T00:00:00\", \"2005-03-30T00:00:00\", \"2005-03-31T00:00:00\", \"2005-04-01T00:00:00\", \"2005-04-04T00:00:00\", \"2005-04-05T00:00:00\", \"2005-04-06T00:00:00\", \"2005-04-07T00:00:00\", \"2005-04-08T00:00:00\", \"2005-04-11T00:00:00\", \"2005-04-12T00:00:00\", \"2005-04-13T00:00:00\", \"2005-04-14T00:00:00\", \"2005-04-15T00:00:00\", \"2005-04-18T00:00:00\", \"2005-04-19T00:00:00\", \"2005-04-20T00:00:00\", \"2005-04-21T00:00:00\", \"2005-04-25T00:00:00\", \"2005-04-26T00:00:00\", \"2005-04-27T00:00:00\", \"2005-04-28T00:00:00\", \"2005-04-29T00:00:00\", \"2005-05-02T00:00:00\", \"2005-05-03T00:00:00\", \"2005-05-04T00:00:00\", \"2005-05-06T00:00:00\", \"2005-05-09T00:00:00\", \"2005-05-10T00:00:00\", \"2005-05-11T00:00:00\", \"2005-05-12T00:00:00\", \"2005-05-13T00:00:00\", \"2005-05-16T00:00:00\", \"2005-05-17T00:00:00\", \"2005-05-18T00:00:00\", \"2005-05-19T00:00:00\", \"2005-05-20T00:00:00\", \"2005-05-23T00:00:00\", \"2005-05-25T00:00:00\", \"2005-05-26T00:00:00\", \"2005-05-27T00:00:00\", \"2005-05-30T00:00:00\", \"2005-05-31T00:00:00\", \"2005-06-01T00:00:00\", \"2005-06-02T00:00:00\", \"2005-06-03T00:00:00\", \"2005-06-06T00:00:00\", \"2005-06-07T00:00:00\", \"2005-06-08T00:00:00\", \"2005-06-09T00:00:00\", \"2005-06-10T00:00:00\", \"2005-06-13T00:00:00\", \"2005-06-14T00:00:00\", \"2005-06-15T00:00:00\", \"2005-06-16T00:00:00\", \"2005-06-17T00:00:00\", \"2005-06-20T00:00:00\", \"2005-06-21T00:00:00\", \"2005-06-22T00:00:00\", \"2005-06-23T00:00:00\", \"2005-06-24T00:00:00\", \"2005-06-27T00:00:00\", \"2005-06-28T00:00:00\", \"2005-06-29T00:00:00\", \"2005-06-30T00:00:00\", \"2005-07-01T00:00:00\", \"2005-07-04T00:00:00\", \"2005-07-05T00:00:00\", \"2005-07-06T00:00:00\", \"2005-07-07T00:00:00\", \"2005-07-08T00:00:00\", \"2005-07-11T00:00:00\", \"2005-07-12T00:00:00\", \"2005-07-13T00:00:00\", \"2005-07-14T00:00:00\", \"2005-07-15T00:00:00\", \"2005-07-18T00:00:00\", \"2005-07-19T00:00:00\", \"2005-07-20T00:00:00\", \"2005-07-21T00:00:00\", \"2005-07-22T00:00:00\", \"2005-07-25T00:00:00\", \"2005-07-26T00:00:00\", \"2005-07-27T00:00:00\", \"2005-07-28T00:00:00\", \"2005-07-29T00:00:00\", \"2005-08-01T00:00:00\", \"2005-08-02T00:00:00\", \"2005-08-03T00:00:00\", \"2005-08-04T00:00:00\", \"2005-08-05T00:00:00\", \"2005-08-08T00:00:00\", \"2005-08-09T00:00:00\", \"2005-08-10T00:00:00\", \"2005-08-11T00:00:00\", \"2005-08-12T00:00:00\", \"2005-08-15T00:00:00\", \"2005-08-16T00:00:00\", \"2005-08-18T00:00:00\", \"2005-08-19T00:00:00\", \"2005-08-22T00:00:00\", \"2005-08-23T00:00:00\", \"2005-08-24T00:00:00\", \"2005-08-25T00:00:00\", \"2005-08-26T00:00:00\", \"2005-08-29T00:00:00\", \"2005-08-30T00:00:00\", \"2005-08-31T00:00:00\", \"2005-09-01T00:00:00\", \"2005-09-05T00:00:00\", \"2005-09-06T00:00:00\", \"2005-09-07T00:00:00\", \"2005-09-08T00:00:00\", \"2005-09-09T00:00:00\", \"2005-09-12T00:00:00\", \"2005-09-13T00:00:00\", \"2005-09-14T00:00:00\", \"2005-09-15T00:00:00\", \"2005-09-16T00:00:00\", \"2005-09-19T00:00:00\", \"2005-09-20T00:00:00\", \"2005-09-21T00:00:00\", \"2005-09-22T00:00:00\", \"2005-09-23T00:00:00\", \"2005-09-26T00:00:00\", \"2005-09-27T00:00:00\", \"2005-09-28T00:00:00\", \"2005-09-29T00:00:00\", \"2005-09-30T00:00:00\", \"2005-10-03T00:00:00\", \"2005-10-04T00:00:00\", \"2005-10-05T00:00:00\", \"2005-10-06T00:00:00\", \"2005-10-07T00:00:00\", \"2005-10-10T00:00:00\", \"2005-10-11T00:00:00\", \"2005-10-12T00:00:00\", \"2005-10-13T00:00:00\", \"2005-10-14T00:00:00\", \"2005-10-17T00:00:00\", \"2005-10-18T00:00:00\", \"2005-10-19T00:00:00\", \"2005-10-20T00:00:00\", \"2005-10-21T00:00:00\", \"2005-10-24T00:00:00\", \"2005-10-25T00:00:00\", \"2005-10-26T00:00:00\", \"2005-10-27T00:00:00\", \"2005-10-28T00:00:00\", \"2005-10-31T00:00:00\", \"2005-11-01T00:00:00\", \"2005-11-07T00:00:00\", \"2005-11-08T00:00:00\", \"2005-11-09T00:00:00\", \"2005-11-10T00:00:00\", \"2005-11-11T00:00:00\", \"2005-11-14T00:00:00\", \"2005-11-15T00:00:00\", \"2005-11-16T00:00:00\", \"2005-11-17T00:00:00\", \"2005-11-18T00:00:00\", \"2005-11-21T00:00:00\", \"2005-11-22T00:00:00\", \"2005-11-23T00:00:00\", \"2005-11-24T00:00:00\", \"2005-11-25T00:00:00\", \"2005-11-28T00:00:00\", \"2005-11-29T00:00:00\", \"2005-11-30T00:00:00\", \"2005-12-01T00:00:00\", \"2005-12-02T00:00:00\", \"2005-12-05T00:00:00\", \"2005-12-06T00:00:00\", \"2005-12-07T00:00:00\", \"2005-12-08T00:00:00\", \"2005-12-09T00:00:00\", \"2005-12-12T00:00:00\", \"2005-12-13T00:00:00\", \"2005-12-14T00:00:00\", \"2005-12-15T00:00:00\", \"2005-12-16T00:00:00\", \"2005-12-19T00:00:00\", \"2005-12-20T00:00:00\", \"2005-12-21T00:00:00\", \"2005-12-22T00:00:00\", \"2005-12-23T00:00:00\", \"2005-12-26T00:00:00\", \"2005-12-27T00:00:00\", \"2005-12-28T00:00:00\", \"2005-12-29T00:00:00\", \"2005-12-30T00:00:00\", \"2006-01-02T00:00:00\", \"2006-01-03T00:00:00\", \"2006-01-04T00:00:00\", \"2006-01-05T00:00:00\", \"2006-01-06T00:00:00\", \"2006-01-09T00:00:00\", \"2006-01-10T00:00:00\", \"2006-01-11T00:00:00\", \"2006-01-12T00:00:00\", \"2006-01-13T00:00:00\", \"2006-01-16T00:00:00\", \"2006-01-17T00:00:00\", \"2006-01-18T00:00:00\", \"2006-01-19T00:00:00\", \"2006-01-20T00:00:00\", \"2006-01-23T00:00:00\", \"2006-01-24T00:00:00\", \"2006-01-25T00:00:00\", \"2006-01-26T00:00:00\", \"2006-01-27T00:00:00\", \"2006-01-30T00:00:00\", \"2006-01-31T00:00:00\", \"2006-02-01T00:00:00\", \"2006-02-02T00:00:00\", \"2006-02-03T00:00:00\", \"2006-02-06T00:00:00\", \"2006-02-07T00:00:00\", \"2006-02-08T00:00:00\", \"2006-02-09T00:00:00\", \"2006-02-10T00:00:00\", \"2006-02-13T00:00:00\", \"2006-02-14T00:00:00\", \"2006-02-15T00:00:00\", \"2006-02-16T00:00:00\", \"2006-02-17T00:00:00\", \"2006-02-20T00:00:00\", \"2006-02-21T00:00:00\", \"2006-02-22T00:00:00\", \"2006-02-23T00:00:00\", \"2006-02-24T00:00:00\", \"2006-02-27T00:00:00\", \"2006-02-28T00:00:00\", \"2006-03-01T00:00:00\", \"2006-03-02T00:00:00\", \"2006-03-03T00:00:00\", \"2006-03-06T00:00:00\", \"2006-03-07T00:00:00\", \"2006-03-08T00:00:00\", \"2006-03-09T00:00:00\", \"2006-03-10T00:00:00\", \"2006-03-13T00:00:00\", \"2006-03-14T00:00:00\", \"2006-03-15T00:00:00\", \"2006-03-16T00:00:00\", \"2006-03-17T00:00:00\", \"2006-03-20T00:00:00\", \"2006-03-21T00:00:00\", \"2006-03-22T00:00:00\", \"2006-03-23T00:00:00\", \"2006-03-24T00:00:00\", \"2006-03-27T00:00:00\", \"2006-03-28T00:00:00\", \"2006-03-29T00:00:00\", \"2006-03-30T00:00:00\", \"2006-03-31T00:00:00\", \"2006-04-03T00:00:00\", \"2006-04-04T00:00:00\", \"2006-04-05T00:00:00\", \"2006-04-06T00:00:00\", \"2006-04-07T00:00:00\", \"2006-04-10T00:00:00\", \"2006-04-11T00:00:00\", \"2006-04-12T00:00:00\", \"2006-04-13T00:00:00\", \"2006-04-14T00:00:00\", \"2006-04-17T00:00:00\", \"2006-04-18T00:00:00\", \"2006-04-19T00:00:00\", \"2006-04-20T00:00:00\", \"2006-04-21T00:00:00\", \"2006-04-24T00:00:00\", \"2006-04-25T00:00:00\", \"2006-04-26T00:00:00\", \"2006-04-27T00:00:00\", \"2006-04-28T00:00:00\", \"2006-05-01T00:00:00\", \"2006-05-02T00:00:00\", \"2006-05-03T00:00:00\", \"2006-05-04T00:00:00\", \"2006-05-05T00:00:00\", \"2006-05-08T00:00:00\", \"2006-05-09T00:00:00\", \"2006-05-10T00:00:00\", \"2006-05-11T00:00:00\", \"2006-05-12T00:00:00\", \"2006-05-15T00:00:00\", \"2006-05-16T00:00:00\", \"2006-05-17T00:00:00\", \"2006-05-18T00:00:00\", \"2006-05-19T00:00:00\", \"2006-05-22T00:00:00\", \"2006-05-23T00:00:00\", \"2006-05-24T00:00:00\", \"2006-05-25T00:00:00\", \"2006-05-26T00:00:00\", \"2006-05-29T00:00:00\", \"2006-05-30T00:00:00\", \"2006-05-31T00:00:00\", \"2006-06-01T00:00:00\", \"2006-06-02T00:00:00\", \"2006-06-05T00:00:00\", \"2006-06-06T00:00:00\", \"2006-06-07T00:00:00\", \"2006-06-08T00:00:00\", \"2006-06-09T00:00:00\", \"2006-06-12T00:00:00\", \"2006-06-13T00:00:00\", \"2006-06-14T00:00:00\", \"2006-06-15T00:00:00\", \"2006-06-16T00:00:00\", \"2006-06-19T00:00:00\", \"2006-06-20T00:00:00\", \"2006-06-21T00:00:00\", \"2006-06-22T00:00:00\", \"2006-06-23T00:00:00\", \"2006-06-26T00:00:00\", \"2006-06-27T00:00:00\", \"2006-06-28T00:00:00\", \"2006-06-29T00:00:00\", \"2006-06-30T00:00:00\", \"2006-07-03T00:00:00\", \"2006-07-04T00:00:00\", \"2006-07-05T00:00:00\", \"2006-07-06T00:00:00\", \"2006-07-07T00:00:00\", \"2006-07-10T00:00:00\", \"2006-07-11T00:00:00\", \"2006-07-12T00:00:00\", \"2006-07-13T00:00:00\", \"2006-07-14T00:00:00\", \"2006-07-17T00:00:00\", \"2006-07-18T00:00:00\", \"2006-07-19T00:00:00\", \"2006-07-20T00:00:00\", \"2006-07-21T00:00:00\", \"2006-07-24T00:00:00\", \"2006-07-25T00:00:00\", \"2006-07-26T00:00:00\", \"2006-07-27T00:00:00\", \"2006-07-28T00:00:00\", \"2006-07-31T00:00:00\", \"2006-08-01T00:00:00\", \"2006-08-02T00:00:00\", \"2006-08-03T00:00:00\", \"2006-08-04T00:00:00\", \"2006-08-07T00:00:00\", \"2006-08-08T00:00:00\", \"2006-08-09T00:00:00\", \"2006-08-10T00:00:00\", \"2006-08-11T00:00:00\", \"2006-08-14T00:00:00\", \"2006-08-15T00:00:00\", \"2006-08-16T00:00:00\", \"2006-08-17T00:00:00\", \"2006-08-18T00:00:00\", \"2006-08-21T00:00:00\", \"2006-08-22T00:00:00\", \"2006-08-23T00:00:00\", \"2006-08-24T00:00:00\", \"2006-08-25T00:00:00\", \"2006-08-28T00:00:00\", \"2006-08-29T00:00:00\", \"2006-08-30T00:00:00\", \"2006-08-31T00:00:00\", \"2006-09-01T00:00:00\", \"2006-09-04T00:00:00\", \"2006-09-05T00:00:00\", \"2006-09-06T00:00:00\", \"2006-09-07T00:00:00\", \"2006-09-08T00:00:00\", \"2006-09-11T00:00:00\", \"2006-09-12T00:00:00\", \"2006-09-13T00:00:00\", \"2006-09-14T00:00:00\", \"2006-09-15T00:00:00\", \"2006-09-18T00:00:00\", \"2006-09-19T00:00:00\", \"2006-09-20T00:00:00\", \"2006-09-21T00:00:00\", \"2006-09-22T00:00:00\", \"2006-09-25T00:00:00\", \"2006-09-26T00:00:00\", \"2006-09-27T00:00:00\", \"2006-09-28T00:00:00\", \"2006-09-29T00:00:00\", \"2006-10-02T00:00:00\", \"2006-10-03T00:00:00\", \"2006-10-04T00:00:00\", \"2006-10-05T00:00:00\", \"2006-10-06T00:00:00\", \"2006-10-09T00:00:00\", \"2006-10-10T00:00:00\", \"2006-10-11T00:00:00\", \"2006-10-12T00:00:00\", \"2006-10-13T00:00:00\", \"2006-10-16T00:00:00\", \"2006-10-17T00:00:00\", \"2006-10-18T00:00:00\", \"2006-10-19T00:00:00\", \"2006-10-20T00:00:00\", \"2006-10-23T00:00:00\", \"2006-10-24T00:00:00\", \"2006-10-25T00:00:00\", \"2006-10-26T00:00:00\", \"2006-10-27T00:00:00\", \"2006-10-30T00:00:00\", \"2006-10-31T00:00:00\", \"2006-11-01T00:00:00\", \"2006-11-02T00:00:00\", \"2006-11-03T00:00:00\", \"2006-11-06T00:00:00\", \"2006-11-07T00:00:00\", \"2006-11-08T00:00:00\", \"2006-11-09T00:00:00\", \"2006-11-10T00:00:00\", \"2006-11-13T00:00:00\", \"2006-11-14T00:00:00\", \"2006-11-15T00:00:00\", \"2006-11-16T00:00:00\", \"2006-11-17T00:00:00\", \"2006-11-20T00:00:00\", \"2006-11-21T00:00:00\", \"2006-11-22T00:00:00\", \"2006-11-23T00:00:00\", \"2006-11-24T00:00:00\", \"2006-11-27T00:00:00\", \"2006-11-28T00:00:00\", \"2006-11-29T00:00:00\", \"2006-11-30T00:00:00\", \"2006-12-01T00:00:00\", \"2006-12-04T00:00:00\", \"2006-12-05T00:00:00\", \"2006-12-06T00:00:00\", \"2006-12-07T00:00:00\", \"2006-12-08T00:00:00\", \"2006-12-11T00:00:00\", \"2006-12-12T00:00:00\", \"2006-12-13T00:00:00\", \"2006-12-14T00:00:00\", \"2006-12-15T00:00:00\", \"2006-12-18T00:00:00\", \"2006-12-19T00:00:00\", \"2006-12-20T00:00:00\", \"2006-12-21T00:00:00\", \"2006-12-22T00:00:00\", \"2006-12-26T00:00:00\", \"2006-12-27T00:00:00\", \"2006-12-28T00:00:00\", \"2006-12-29T00:00:00\", \"2007-01-02T00:00:00\", \"2007-01-03T00:00:00\", \"2007-01-04T00:00:00\", \"2007-01-05T00:00:00\", \"2007-01-08T00:00:00\", \"2007-01-09T00:00:00\", \"2007-01-10T00:00:00\", \"2007-01-11T00:00:00\", \"2007-01-12T00:00:00\", \"2007-01-15T00:00:00\", \"2007-01-16T00:00:00\", \"2007-01-17T00:00:00\", \"2007-01-18T00:00:00\", \"2007-01-19T00:00:00\", \"2007-01-22T00:00:00\", \"2007-01-23T00:00:00\", \"2007-01-24T00:00:00\", \"2007-01-25T00:00:00\", \"2007-01-26T00:00:00\", \"2007-01-29T00:00:00\", \"2007-01-30T00:00:00\", \"2007-01-31T00:00:00\", \"2007-02-01T00:00:00\", \"2007-02-02T00:00:00\", \"2007-02-05T00:00:00\", \"2007-02-06T00:00:00\", \"2007-02-07T00:00:00\", \"2007-02-08T00:00:00\", \"2007-02-09T00:00:00\", \"2007-02-12T00:00:00\", \"2007-02-13T00:00:00\", \"2007-02-14T00:00:00\", \"2007-02-15T00:00:00\", \"2007-02-16T00:00:00\", \"2007-02-19T00:00:00\", \"2007-02-20T00:00:00\", \"2007-02-21T00:00:00\", \"2007-02-22T00:00:00\", \"2007-02-23T00:00:00\", \"2007-02-26T00:00:00\", \"2007-02-27T00:00:00\", \"2007-02-28T00:00:00\", \"2007-03-01T00:00:00\", \"2007-03-02T00:00:00\", \"2007-03-05T00:00:00\", \"2007-03-06T00:00:00\", \"2007-03-07T00:00:00\", \"2007-03-08T00:00:00\", \"2007-03-09T00:00:00\", \"2007-03-12T00:00:00\", \"2007-03-13T00:00:00\", \"2007-03-14T00:00:00\", \"2007-03-15T00:00:00\", \"2007-03-16T00:00:00\", \"2007-03-20T00:00:00\", \"2007-03-21T00:00:00\", \"2007-03-22T00:00:00\", \"2007-03-23T00:00:00\", \"2007-03-26T00:00:00\", \"2007-03-27T00:00:00\", \"2007-03-28T00:00:00\", \"2007-03-29T00:00:00\", \"2007-03-30T00:00:00\", \"2007-04-02T00:00:00\", \"2007-04-03T00:00:00\", \"2007-04-04T00:00:00\", \"2007-04-05T00:00:00\", \"2007-04-09T00:00:00\", \"2007-04-10T00:00:00\", \"2007-04-11T00:00:00\", \"2007-04-12T00:00:00\", \"2007-04-13T00:00:00\", \"2007-04-16T00:00:00\", \"2007-04-17T00:00:00\", \"2007-04-18T00:00:00\", \"2007-04-19T00:00:00\", \"2007-04-20T00:00:00\", \"2007-04-23T00:00:00\", \"2007-04-24T00:00:00\", \"2007-04-25T00:00:00\", \"2007-04-26T00:00:00\", \"2007-04-27T00:00:00\", \"2007-04-30T00:00:00\", \"2007-05-01T00:00:00\", \"2007-05-02T00:00:00\", \"2007-05-03T00:00:00\", \"2007-05-04T00:00:00\", \"2007-05-07T00:00:00\", \"2007-05-08T00:00:00\", \"2007-05-09T00:00:00\", \"2007-05-10T00:00:00\", \"2007-05-11T00:00:00\", \"2007-05-14T00:00:00\", \"2007-05-15T00:00:00\", \"2007-05-16T00:00:00\", \"2007-05-21T00:00:00\", \"2007-05-22T00:00:00\", \"2007-05-23T00:00:00\", \"2007-05-24T00:00:00\", \"2007-05-25T00:00:00\", \"2007-05-28T00:00:00\", \"2007-05-29T00:00:00\", \"2007-05-30T00:00:00\", \"2007-05-31T00:00:00\", \"2007-06-04T00:00:00\", \"2007-06-05T00:00:00\", \"2007-06-06T00:00:00\", \"2007-06-07T00:00:00\", \"2007-06-08T00:00:00\", \"2007-06-11T00:00:00\", \"2007-06-12T00:00:00\", \"2007-06-13T00:00:00\", \"2007-06-14T00:00:00\", \"2007-06-15T00:00:00\", \"2007-06-18T00:00:00\", \"2007-06-19T00:00:00\", \"2007-06-20T00:00:00\", \"2007-06-21T00:00:00\", \"2007-06-22T00:00:00\", \"2007-06-25T00:00:00\", \"2007-06-26T00:00:00\", \"2007-06-27T00:00:00\", \"2007-06-28T00:00:00\", \"2007-06-29T00:00:00\", \"2007-07-02T00:00:00\", \"2007-07-03T00:00:00\", \"2007-07-04T00:00:00\", \"2007-07-05T00:00:00\", \"2007-07-06T00:00:00\", \"2007-07-09T00:00:00\", \"2007-07-10T00:00:00\", \"2007-07-11T00:00:00\", \"2007-07-12T00:00:00\", \"2007-07-13T00:00:00\", \"2007-07-16T00:00:00\", \"2007-07-17T00:00:00\", \"2007-07-18T00:00:00\", \"2007-07-19T00:00:00\", \"2007-07-20T00:00:00\", \"2007-07-23T00:00:00\", \"2007-07-24T00:00:00\", \"2007-07-25T00:00:00\", \"2007-07-26T00:00:00\", \"2007-07-27T00:00:00\", \"2007-07-30T00:00:00\", \"2007-07-31T00:00:00\", \"2007-08-01T00:00:00\", \"2007-08-02T00:00:00\", \"2007-08-03T00:00:00\", \"2007-08-06T00:00:00\", \"2007-08-07T00:00:00\", \"2007-08-08T00:00:00\", \"2007-08-09T00:00:00\", \"2007-08-10T00:00:00\", \"2007-08-13T00:00:00\", \"2007-08-14T00:00:00\", \"2007-08-15T00:00:00\", \"2007-08-16T00:00:00\", \"2007-08-20T00:00:00\", \"2007-08-21T00:00:00\", \"2007-08-22T00:00:00\", \"2007-08-23T00:00:00\", \"2007-08-24T00:00:00\", \"2007-08-27T00:00:00\", \"2007-08-28T00:00:00\", \"2007-08-29T00:00:00\", \"2007-08-30T00:00:00\", \"2007-08-31T00:00:00\", \"2007-09-03T00:00:00\", \"2007-09-04T00:00:00\", \"2007-09-05T00:00:00\", \"2007-09-06T00:00:00\", \"2007-09-07T00:00:00\", \"2007-09-10T00:00:00\", \"2007-09-11T00:00:00\", \"2007-09-12T00:00:00\", \"2007-09-13T00:00:00\", \"2007-09-14T00:00:00\", \"2007-09-17T00:00:00\", \"2007-09-18T00:00:00\", \"2007-09-19T00:00:00\", \"2007-09-20T00:00:00\", \"2007-09-21T00:00:00\", \"2007-09-24T00:00:00\", \"2007-09-25T00:00:00\", \"2007-09-26T00:00:00\", \"2007-09-27T00:00:00\", \"2007-09-28T00:00:00\", \"2007-10-01T00:00:00\", \"2007-10-02T00:00:00\", \"2007-10-03T00:00:00\", \"2007-10-04T00:00:00\", \"2007-10-05T00:00:00\", \"2007-10-08T00:00:00\", \"2007-10-09T00:00:00\", \"2007-10-10T00:00:00\", \"2007-10-11T00:00:00\", \"2007-10-17T00:00:00\", \"2007-10-18T00:00:00\", \"2007-10-19T00:00:00\", \"2007-10-22T00:00:00\", \"2007-10-23T00:00:00\", \"2007-10-24T00:00:00\", \"2007-10-25T00:00:00\", \"2007-10-26T00:00:00\", \"2007-10-29T00:00:00\", \"2007-10-30T00:00:00\", \"2007-10-31T00:00:00\", \"2007-11-01T00:00:00\", \"2007-11-02T00:00:00\", \"2007-11-05T00:00:00\", \"2007-11-06T00:00:00\", \"2007-11-07T00:00:00\", \"2007-11-08T00:00:00\", \"2007-11-09T00:00:00\", \"2007-11-12T00:00:00\", \"2007-11-13T00:00:00\", \"2007-11-14T00:00:00\", \"2007-11-15T00:00:00\", \"2007-11-16T00:00:00\", \"2007-11-19T00:00:00\", \"2007-11-20T00:00:00\", \"2007-11-21T00:00:00\", \"2007-11-22T00:00:00\", \"2007-11-23T00:00:00\", \"2007-11-26T00:00:00\", \"2007-11-27T00:00:00\", \"2007-11-28T00:00:00\", \"2007-11-29T00:00:00\", \"2007-11-30T00:00:00\", \"2007-12-03T00:00:00\", \"2007-12-04T00:00:00\", \"2007-12-05T00:00:00\", \"2007-12-06T00:00:00\", \"2007-12-07T00:00:00\", \"2007-12-10T00:00:00\", \"2007-12-11T00:00:00\", \"2007-12-12T00:00:00\", \"2007-12-13T00:00:00\", \"2007-12-14T00:00:00\", \"2007-12-17T00:00:00\", \"2007-12-18T00:00:00\", \"2007-12-19T00:00:00\", \"2007-12-26T00:00:00\", \"2007-12-27T00:00:00\", \"2007-12-28T00:00:00\", \"2007-12-31T00:00:00\", \"2008-01-02T00:00:00\", \"2008-01-03T00:00:00\", \"2008-01-04T00:00:00\", \"2008-01-07T00:00:00\", \"2008-01-08T00:00:00\", \"2008-01-09T00:00:00\", \"2008-01-14T00:00:00\", \"2008-01-15T00:00:00\", \"2008-01-16T00:00:00\", \"2008-01-17T00:00:00\", \"2008-01-18T00:00:00\", \"2008-01-21T00:00:00\", \"2008-01-22T00:00:00\", \"2008-01-23T00:00:00\", \"2008-01-24T00:00:00\", \"2008-01-25T00:00:00\", \"2008-01-28T00:00:00\", \"2008-01-29T00:00:00\", \"2008-01-30T00:00:00\", \"2008-01-31T00:00:00\", \"2008-02-01T00:00:00\", \"2008-02-04T00:00:00\", \"2008-02-05T00:00:00\", \"2008-02-06T00:00:00\", \"2008-02-11T00:00:00\", \"2008-02-12T00:00:00\", \"2008-02-13T00:00:00\", \"2008-02-14T00:00:00\", \"2008-02-15T00:00:00\", \"2008-02-18T00:00:00\", \"2008-02-19T00:00:00\", \"2008-02-20T00:00:00\", \"2008-02-21T00:00:00\", \"2008-02-22T00:00:00\", \"2008-02-25T00:00:00\", \"2008-02-26T00:00:00\", \"2008-02-27T00:00:00\", \"2008-02-28T00:00:00\", \"2008-02-29T00:00:00\", \"2008-03-03T00:00:00\", \"2008-03-04T00:00:00\", \"2008-03-05T00:00:00\", \"2008-03-06T00:00:00\", \"2008-03-10T00:00:00\", \"2008-03-11T00:00:00\", \"2008-03-12T00:00:00\", \"2008-03-13T00:00:00\", \"2008-03-14T00:00:00\", \"2008-03-17T00:00:00\", \"2008-03-18T00:00:00\", \"2008-03-19T00:00:00\", \"2008-03-24T00:00:00\", \"2008-03-25T00:00:00\", \"2008-03-26T00:00:00\", \"2008-03-27T00:00:00\", \"2008-03-28T00:00:00\", \"2008-03-31T00:00:00\", \"2008-04-01T00:00:00\", \"2008-04-02T00:00:00\", \"2008-04-03T00:00:00\", \"2008-04-04T00:00:00\", \"2008-04-07T00:00:00\", \"2008-04-08T00:00:00\", \"2008-04-09T00:00:00\", \"2008-04-10T00:00:00\", \"2008-04-11T00:00:00\", \"2008-04-14T00:00:00\", \"2008-04-15T00:00:00\", \"2008-04-16T00:00:00\", \"2008-04-17T00:00:00\", \"2008-04-18T00:00:00\", \"2008-04-21T00:00:00\", \"2008-04-22T00:00:00\", \"2008-04-23T00:00:00\", \"2008-04-24T00:00:00\", \"2008-04-25T00:00:00\", \"2008-04-28T00:00:00\", \"2008-04-29T00:00:00\", \"2008-04-30T00:00:00\", \"2008-05-05T00:00:00\", \"2008-05-06T00:00:00\", \"2008-05-07T00:00:00\", \"2008-05-08T00:00:00\", \"2008-05-09T00:00:00\", \"2008-05-12T00:00:00\", \"2008-05-13T00:00:00\", \"2008-05-14T00:00:00\", \"2008-05-15T00:00:00\", \"2008-05-16T00:00:00\", \"2008-05-21T00:00:00\", \"2008-05-22T00:00:00\", \"2008-05-23T00:00:00\", \"2008-05-26T00:00:00\", \"2008-05-27T00:00:00\", \"2008-05-28T00:00:00\", \"2008-05-29T00:00:00\", \"2008-05-30T00:00:00\", \"2008-06-02T00:00:00\", \"2008-06-03T00:00:00\", \"2008-06-04T00:00:00\", \"2008-06-05T00:00:00\", \"2008-06-06T00:00:00\", \"2008-06-09T00:00:00\", \"2008-06-10T00:00:00\", \"2008-06-11T00:00:00\", \"2008-06-12T00:00:00\", \"2008-06-13T00:00:00\", \"2008-06-16T00:00:00\", \"2008-06-17T00:00:00\", \"2008-06-18T00:00:00\", \"2008-06-19T00:00:00\", \"2008-06-20T00:00:00\", \"2008-06-23T00:00:00\", \"2008-06-24T00:00:00\", \"2008-06-25T00:00:00\", \"2008-06-26T00:00:00\", \"2008-06-27T00:00:00\", \"2008-06-30T00:00:00\", \"2008-07-01T00:00:00\", \"2008-07-02T00:00:00\", \"2008-07-03T00:00:00\", \"2008-07-04T00:00:00\", \"2008-07-07T00:00:00\", \"2008-07-08T00:00:00\", \"2008-07-09T00:00:00\", \"2008-07-10T00:00:00\", \"2008-07-11T00:00:00\", \"2008-07-14T00:00:00\", \"2008-07-15T00:00:00\", \"2008-07-16T00:00:00\", \"2008-07-17T00:00:00\", \"2008-07-18T00:00:00\", \"2008-07-21T00:00:00\", \"2008-07-22T00:00:00\", \"2008-07-23T00:00:00\", \"2008-07-24T00:00:00\", \"2008-07-25T00:00:00\", \"2008-07-28T00:00:00\", \"2008-07-29T00:00:00\", \"2008-07-31T00:00:00\", \"2008-08-01T00:00:00\", \"2008-08-04T00:00:00\", \"2008-08-05T00:00:00\", \"2008-08-06T00:00:00\", \"2008-08-07T00:00:00\", \"2008-08-08T00:00:00\", \"2008-08-11T00:00:00\", \"2008-08-12T00:00:00\", \"2008-08-13T00:00:00\", \"2008-08-14T00:00:00\", \"2008-08-15T00:00:00\", \"2008-08-19T00:00:00\", \"2008-08-20T00:00:00\", \"2008-08-21T00:00:00\", \"2008-08-22T00:00:00\", \"2008-08-25T00:00:00\", \"2008-08-26T00:00:00\", \"2008-08-27T00:00:00\", \"2008-08-28T00:00:00\", \"2008-08-29T00:00:00\", \"2008-09-01T00:00:00\", \"2008-09-02T00:00:00\", \"2008-09-03T00:00:00\", \"2008-09-04T00:00:00\", \"2008-09-05T00:00:00\", \"2008-09-08T00:00:00\", \"2008-09-09T00:00:00\", \"2008-09-10T00:00:00\", \"2008-09-11T00:00:00\", \"2008-09-12T00:00:00\", \"2008-09-15T00:00:00\", \"2008-09-16T00:00:00\", \"2008-09-17T00:00:00\", \"2008-09-18T00:00:00\", \"2008-09-19T00:00:00\", \"2008-09-22T00:00:00\", \"2008-09-23T00:00:00\", \"2008-09-24T00:00:00\", \"2008-09-25T00:00:00\", \"2008-09-26T00:00:00\", \"2008-10-06T00:00:00\", \"2008-10-07T00:00:00\", \"2008-10-08T00:00:00\", \"2008-10-09T00:00:00\", \"2008-10-10T00:00:00\", \"2008-10-13T00:00:00\", \"2008-10-14T00:00:00\", \"2008-10-15T00:00:00\", \"2008-10-16T00:00:00\", \"2008-10-17T00:00:00\", \"2008-10-20T00:00:00\", \"2008-10-21T00:00:00\", \"2008-10-22T00:00:00\", \"2008-10-23T00:00:00\", \"2008-10-24T00:00:00\", \"2008-10-27T00:00:00\", \"2008-10-28T00:00:00\", \"2008-10-29T00:00:00\", \"2008-10-30T00:00:00\", \"2008-10-31T00:00:00\", \"2008-11-03T00:00:00\", \"2008-11-04T00:00:00\", \"2008-11-05T00:00:00\", \"2008-11-06T00:00:00\", \"2008-11-07T00:00:00\", \"2008-11-10T00:00:00\", \"2008-11-11T00:00:00\", \"2008-11-12T00:00:00\", \"2008-11-13T00:00:00\", \"2008-11-14T00:00:00\", \"2008-11-17T00:00:00\", \"2008-11-18T00:00:00\", \"2008-11-19T00:00:00\", \"2008-11-20T00:00:00\", \"2008-11-21T00:00:00\", \"2008-11-24T00:00:00\", \"2008-11-25T00:00:00\", \"2008-11-26T00:00:00\", \"2008-11-27T00:00:00\", \"2008-11-28T00:00:00\", \"2008-12-01T00:00:00\", \"2008-12-02T00:00:00\", \"2008-12-03T00:00:00\", \"2008-12-04T00:00:00\", \"2008-12-05T00:00:00\", \"2008-12-09T00:00:00\", \"2008-12-10T00:00:00\", \"2008-12-11T00:00:00\", \"2008-12-12T00:00:00\", \"2008-12-15T00:00:00\", \"2008-12-16T00:00:00\", \"2008-12-17T00:00:00\", \"2008-12-18T00:00:00\", \"2008-12-19T00:00:00\", \"2008-12-22T00:00:00\", \"2008-12-23T00:00:00\", \"2008-12-24T00:00:00\", \"2008-12-30T00:00:00\", \"2008-12-31T00:00:00\", \"2009-01-05T00:00:00\", \"2009-01-06T00:00:00\", \"2009-01-07T00:00:00\", \"2009-01-08T00:00:00\", \"2009-01-09T00:00:00\", \"2009-01-12T00:00:00\", \"2009-01-13T00:00:00\", \"2009-01-14T00:00:00\", \"2009-01-15T00:00:00\", \"2009-01-16T00:00:00\", \"2009-01-19T00:00:00\", \"2009-01-20T00:00:00\", \"2009-01-21T00:00:00\", \"2009-01-22T00:00:00\", \"2009-01-23T00:00:00\", \"2009-01-27T00:00:00\", \"2009-01-28T00:00:00\", \"2009-01-29T00:00:00\", \"2009-01-30T00:00:00\", \"2009-02-02T00:00:00\", \"2009-02-03T00:00:00\", \"2009-02-04T00:00:00\", \"2009-02-05T00:00:00\", \"2009-02-06T00:00:00\", \"2009-02-09T00:00:00\", \"2009-02-10T00:00:00\", \"2009-02-11T00:00:00\", \"2009-02-12T00:00:00\", \"2009-02-13T00:00:00\", \"2009-02-16T00:00:00\", \"2009-02-17T00:00:00\", \"2009-02-18T00:00:00\", \"2009-02-19T00:00:00\", \"2009-02-20T00:00:00\", \"2009-02-23T00:00:00\", \"2009-02-24T00:00:00\", \"2009-02-25T00:00:00\", \"2009-02-26T00:00:00\", \"2009-02-27T00:00:00\", \"2009-03-02T00:00:00\", \"2009-03-03T00:00:00\", \"2009-03-04T00:00:00\", \"2009-03-05T00:00:00\", \"2009-03-06T00:00:00\", \"2009-03-10T00:00:00\", \"2009-03-11T00:00:00\", \"2009-03-12T00:00:00\", \"2009-03-13T00:00:00\", \"2009-03-16T00:00:00\", \"2009-03-17T00:00:00\", \"2009-03-18T00:00:00\", \"2009-03-19T00:00:00\", \"2009-03-20T00:00:00\", \"2009-03-23T00:00:00\", \"2009-03-24T00:00:00\", \"2009-03-25T00:00:00\", \"2009-03-27T00:00:00\", \"2009-03-30T00:00:00\", \"2009-03-31T00:00:00\", \"2009-04-01T00:00:00\", \"2009-04-02T00:00:00\", \"2009-04-03T00:00:00\", \"2009-04-06T00:00:00\", \"2009-04-07T00:00:00\", \"2009-04-08T00:00:00\", \"2009-04-09T00:00:00\", \"2009-04-13T00:00:00\", \"2009-04-14T00:00:00\", \"2009-04-15T00:00:00\", \"2009-04-16T00:00:00\", \"2009-04-17T00:00:00\", \"2009-04-20T00:00:00\", \"2009-04-22T00:00:00\", \"2009-04-23T00:00:00\", \"2009-04-24T00:00:00\", \"2009-04-27T00:00:00\", \"2009-04-28T00:00:00\", \"2009-04-29T00:00:00\", \"2009-04-30T00:00:00\", \"2009-05-01T00:00:00\", \"2009-05-04T00:00:00\", \"2009-05-05T00:00:00\", \"2009-05-06T00:00:00\", \"2009-05-07T00:00:00\", \"2009-05-08T00:00:00\", \"2009-05-11T00:00:00\", \"2009-05-12T00:00:00\", \"2009-05-13T00:00:00\", \"2009-05-14T00:00:00\", \"2009-05-15T00:00:00\", \"2009-05-18T00:00:00\", \"2009-05-19T00:00:00\", \"2009-05-20T00:00:00\", \"2009-05-21T00:00:00\", \"2009-05-22T00:00:00\", \"2009-05-25T00:00:00\", \"2009-05-26T00:00:00\", \"2009-05-27T00:00:00\", \"2009-05-28T00:00:00\", \"2009-05-29T00:00:00\", \"2009-06-01T00:00:00\", \"2009-06-02T00:00:00\", \"2009-06-03T00:00:00\", \"2009-06-04T00:00:00\", \"2009-06-05T00:00:00\", \"2009-06-08T00:00:00\", \"2009-06-09T00:00:00\", \"2009-06-10T00:00:00\", \"2009-06-11T00:00:00\", \"2009-06-12T00:00:00\", \"2009-06-15T00:00:00\", \"2009-06-16T00:00:00\", \"2009-06-17T00:00:00\", \"2009-06-18T00:00:00\", \"2009-06-19T00:00:00\", \"2009-06-22T00:00:00\", \"2009-06-23T00:00:00\", \"2009-06-24T00:00:00\", \"2009-06-25T00:00:00\", \"2009-06-26T00:00:00\", \"2009-06-29T00:00:00\", \"2009-06-30T00:00:00\", \"2009-07-01T00:00:00\", \"2009-07-02T00:00:00\", \"2009-07-03T00:00:00\", \"2009-07-06T00:00:00\", \"2009-07-07T00:00:00\", \"2009-07-08T00:00:00\", \"2009-07-09T00:00:00\", \"2009-07-10T00:00:00\", \"2009-07-13T00:00:00\", \"2009-07-14T00:00:00\", \"2009-07-15T00:00:00\", \"2009-07-16T00:00:00\", \"2009-07-17T00:00:00\", \"2009-07-20T00:00:00\", \"2009-07-21T00:00:00\", \"2009-07-22T00:00:00\", \"2009-07-23T00:00:00\", \"2009-07-24T00:00:00\", \"2009-07-27T00:00:00\", \"2009-07-28T00:00:00\", \"2009-07-29T00:00:00\", \"2009-07-30T00:00:00\", \"2009-07-31T00:00:00\", \"2009-08-03T00:00:00\", \"2009-08-04T00:00:00\", \"2009-08-05T00:00:00\", \"2009-08-06T00:00:00\", \"2009-08-07T00:00:00\", \"2009-08-10T00:00:00\", \"2009-08-11T00:00:00\", \"2009-08-12T00:00:00\", \"2009-08-13T00:00:00\", \"2009-08-14T00:00:00\", \"2009-08-18T00:00:00\", \"2009-08-19T00:00:00\", \"2009-08-20T00:00:00\", \"2009-08-21T00:00:00\", \"2009-08-24T00:00:00\", \"2009-08-25T00:00:00\", \"2009-08-26T00:00:00\", \"2009-08-27T00:00:00\", \"2009-08-28T00:00:00\", \"2009-08-31T00:00:00\", \"2009-09-01T00:00:00\", \"2009-09-02T00:00:00\", \"2009-09-03T00:00:00\", \"2009-09-04T00:00:00\", \"2009-09-07T00:00:00\", \"2009-09-08T00:00:00\", \"2009-09-09T00:00:00\", \"2009-09-10T00:00:00\", \"2009-09-11T00:00:00\", \"2009-09-14T00:00:00\", \"2009-09-15T00:00:00\", \"2009-09-16T00:00:00\", \"2009-09-17T00:00:00\", \"2009-09-24T00:00:00\", \"2009-09-25T00:00:00\", \"2009-09-28T00:00:00\", \"2009-09-29T00:00:00\", \"2009-09-30T00:00:00\", \"2009-10-01T00:00:00\", \"2009-10-02T00:00:00\", \"2009-10-05T00:00:00\", \"2009-10-06T00:00:00\", \"2009-10-07T00:00:00\", \"2009-10-08T00:00:00\", \"2009-10-09T00:00:00\", \"2009-10-12T00:00:00\", \"2009-10-13T00:00:00\", \"2009-10-14T00:00:00\", \"2009-10-15T00:00:00\", \"2009-10-16T00:00:00\", \"2009-10-19T00:00:00\", \"2009-10-20T00:00:00\", \"2009-10-21T00:00:00\", \"2009-10-22T00:00:00\", \"2009-10-23T00:00:00\", \"2009-10-26T00:00:00\", \"2009-10-27T00:00:00\", \"2009-10-28T00:00:00\", \"2009-10-29T00:00:00\", \"2009-10-30T00:00:00\", \"2009-11-02T00:00:00\", \"2009-11-03T00:00:00\", \"2009-11-04T00:00:00\", \"2009-11-05T00:00:00\", \"2009-11-06T00:00:00\", \"2009-11-09T00:00:00\", \"2009-11-10T00:00:00\", \"2009-11-11T00:00:00\", \"2009-11-12T00:00:00\", \"2009-11-13T00:00:00\", \"2009-11-16T00:00:00\", \"2009-11-17T00:00:00\", \"2009-11-18T00:00:00\", \"2009-11-19T00:00:00\", \"2009-11-20T00:00:00\", \"2009-11-23T00:00:00\", \"2009-11-24T00:00:00\", \"2009-11-25T00:00:00\", \"2009-11-26T00:00:00\", \"2009-11-30T00:00:00\", \"2009-12-01T00:00:00\", \"2009-12-02T00:00:00\", \"2009-12-03T00:00:00\", \"2009-12-04T00:00:00\", \"2009-12-07T00:00:00\", \"2009-12-08T00:00:00\", \"2009-12-09T00:00:00\", \"2009-12-10T00:00:00\", \"2009-12-11T00:00:00\", \"2009-12-14T00:00:00\", \"2009-12-15T00:00:00\", \"2009-12-16T00:00:00\", \"2009-12-17T00:00:00\", \"2009-12-21T00:00:00\", \"2009-12-22T00:00:00\", \"2009-12-23T00:00:00\", \"2009-12-28T00:00:00\", \"2009-12-29T00:00:00\", \"2009-12-30T00:00:00\", \"2010-01-04T00:00:00\", \"2010-01-05T00:00:00\", \"2010-01-06T00:00:00\", \"2010-01-07T00:00:00\", \"2010-01-08T00:00:00\", \"2010-01-11T00:00:00\", \"2010-01-12T00:00:00\", \"2010-01-13T00:00:00\", \"2010-01-14T00:00:00\", \"2010-01-15T00:00:00\", \"2010-01-18T00:00:00\", \"2010-01-19T00:00:00\", \"2010-01-20T00:00:00\", \"2010-01-21T00:00:00\", \"2010-01-22T00:00:00\", \"2010-01-25T00:00:00\", \"2010-01-26T00:00:00\", \"2010-01-27T00:00:00\", \"2010-01-28T00:00:00\", \"2010-01-29T00:00:00\", \"2010-02-01T00:00:00\", \"2010-02-02T00:00:00\", \"2010-02-03T00:00:00\", \"2010-02-04T00:00:00\", \"2010-02-05T00:00:00\", \"2010-02-08T00:00:00\", \"2010-02-09T00:00:00\", \"2010-02-10T00:00:00\", \"2010-02-11T00:00:00\", \"2010-02-12T00:00:00\", \"2010-02-15T00:00:00\", \"2010-02-16T00:00:00\", \"2010-02-17T00:00:00\", \"2010-02-18T00:00:00\", \"2010-02-19T00:00:00\", \"2010-02-22T00:00:00\", \"2010-02-23T00:00:00\", \"2010-02-24T00:00:00\", \"2010-02-25T00:00:00\", \"2010-03-01T00:00:00\", \"2010-03-02T00:00:00\", \"2010-03-03T00:00:00\", \"2010-03-04T00:00:00\", \"2010-03-05T00:00:00\", \"2010-03-08T00:00:00\", \"2010-03-09T00:00:00\", \"2010-03-10T00:00:00\", \"2010-03-11T00:00:00\", \"2010-03-12T00:00:00\", \"2010-03-15T00:00:00\", \"2010-03-17T00:00:00\", \"2010-03-18T00:00:00\", \"2010-03-19T00:00:00\", \"2010-03-22T00:00:00\", \"2010-03-23T00:00:00\", \"2010-03-24T00:00:00\", \"2010-03-25T00:00:00\", \"2010-03-26T00:00:00\", \"2010-03-29T00:00:00\", \"2010-03-30T00:00:00\", \"2010-03-31T00:00:00\", \"2010-04-01T00:00:00\", \"2010-04-05T00:00:00\", \"2010-04-06T00:00:00\", \"2010-04-07T00:00:00\", \"2010-04-08T00:00:00\", \"2010-04-09T00:00:00\", \"2010-04-12T00:00:00\", \"2010-04-13T00:00:00\", \"2010-04-14T00:00:00\", \"2010-04-15T00:00:00\", \"2010-04-16T00:00:00\", \"2010-04-19T00:00:00\", \"2010-04-20T00:00:00\", \"2010-04-21T00:00:00\", \"2010-04-22T00:00:00\", \"2010-04-23T00:00:00\", \"2010-04-26T00:00:00\", \"2010-04-27T00:00:00\", \"2010-04-28T00:00:00\", \"2010-04-29T00:00:00\", \"2010-04-30T00:00:00\", \"2010-05-03T00:00:00\", \"2010-05-04T00:00:00\", \"2010-05-05T00:00:00\", \"2010-05-06T00:00:00\", \"2010-05-07T00:00:00\", \"2010-05-10T00:00:00\", \"2010-05-11T00:00:00\", \"2010-05-12T00:00:00\", \"2010-05-14T00:00:00\", \"2010-05-17T00:00:00\", \"2010-05-18T00:00:00\", \"2010-05-19T00:00:00\", \"2010-05-20T00:00:00\", \"2010-05-21T00:00:00\", \"2010-05-24T00:00:00\", \"2010-05-25T00:00:00\", \"2010-05-26T00:00:00\", \"2010-05-27T00:00:00\", \"2010-05-31T00:00:00\", \"2010-06-01T00:00:00\", \"2010-06-02T00:00:00\", \"2010-06-03T00:00:00\", \"2010-06-04T00:00:00\", \"2010-06-07T00:00:00\", \"2010-06-08T00:00:00\", \"2010-06-09T00:00:00\", \"2010-06-10T00:00:00\", \"2010-06-11T00:00:00\", \"2010-06-14T00:00:00\", \"2010-06-15T00:00:00\", \"2010-06-16T00:00:00\", \"2010-06-17T00:00:00\", \"2010-06-18T00:00:00\", \"2010-06-21T00:00:00\", \"2010-06-22T00:00:00\", \"2010-06-23T00:00:00\", \"2010-06-24T00:00:00\", \"2010-06-25T00:00:00\", \"2010-06-28T00:00:00\", \"2010-06-29T00:00:00\", \"2010-06-30T00:00:00\", \"2010-07-01T00:00:00\", \"2010-07-02T00:00:00\", \"2010-07-05T00:00:00\", \"2010-07-06T00:00:00\", \"2010-07-07T00:00:00\", \"2010-07-08T00:00:00\", \"2010-07-09T00:00:00\", \"2010-07-12T00:00:00\", \"2010-07-13T00:00:00\", \"2010-07-14T00:00:00\", \"2010-07-15T00:00:00\", \"2010-07-16T00:00:00\", \"2010-07-19T00:00:00\", \"2010-07-20T00:00:00\", \"2010-07-21T00:00:00\", \"2010-07-22T00:00:00\", \"2010-07-23T00:00:00\", \"2010-07-26T00:00:00\", \"2010-07-27T00:00:00\", \"2010-07-28T00:00:00\", \"2010-07-29T00:00:00\", \"2010-07-30T00:00:00\", \"2010-08-02T00:00:00\", \"2010-08-03T00:00:00\", \"2010-08-04T00:00:00\", \"2010-08-05T00:00:00\", \"2010-08-06T00:00:00\", \"2010-08-09T00:00:00\", \"2010-08-10T00:00:00\", \"2010-08-11T00:00:00\", \"2010-08-12T00:00:00\", \"2010-08-13T00:00:00\", \"2010-08-16T00:00:00\", \"2010-08-18T00:00:00\", \"2010-08-19T00:00:00\", \"2010-08-20T00:00:00\", \"2010-08-23T00:00:00\", \"2010-08-24T00:00:00\", \"2010-08-25T00:00:00\", \"2010-08-26T00:00:00\", \"2010-08-27T00:00:00\", \"2010-08-30T00:00:00\", \"2010-08-31T00:00:00\", \"2010-09-01T00:00:00\", \"2010-09-02T00:00:00\", \"2010-09-03T00:00:00\", \"2010-09-06T00:00:00\", \"2010-09-07T00:00:00\", \"2010-09-15T00:00:00\", \"2010-09-16T00:00:00\", \"2010-09-17T00:00:00\", \"2010-09-20T00:00:00\", \"2010-09-21T00:00:00\", \"2010-09-22T00:00:00\", \"2010-09-23T00:00:00\", \"2010-09-24T00:00:00\", \"2010-09-27T00:00:00\", \"2010-09-28T00:00:00\", \"2010-09-29T00:00:00\", \"2010-09-30T00:00:00\", \"2010-10-01T00:00:00\", \"2010-10-04T00:00:00\", \"2010-10-05T00:00:00\", \"2010-10-06T00:00:00\", \"2010-10-07T00:00:00\", \"2010-10-08T00:00:00\", \"2010-10-11T00:00:00\", \"2010-10-12T00:00:00\", \"2010-10-13T00:00:00\", \"2010-10-14T00:00:00\", \"2010-10-15T00:00:00\", \"2010-10-18T00:00:00\", \"2010-10-19T00:00:00\", \"2010-10-20T00:00:00\", \"2010-10-21T00:00:00\", \"2010-10-22T00:00:00\", \"2010-10-25T00:00:00\", \"2010-10-26T00:00:00\", \"2010-10-27T00:00:00\", \"2010-10-28T00:00:00\", \"2010-10-29T00:00:00\", \"2010-11-01T00:00:00\", \"2010-11-02T00:00:00\", \"2010-11-03T00:00:00\", \"2010-11-04T00:00:00\", \"2010-11-05T00:00:00\", \"2010-11-08T00:00:00\", \"2010-11-09T00:00:00\", \"2010-11-10T00:00:00\", \"2010-11-11T00:00:00\", \"2010-11-12T00:00:00\", \"2010-11-15T00:00:00\", \"2010-11-16T00:00:00\", \"2010-11-18T00:00:00\", \"2010-11-19T00:00:00\", \"2010-11-22T00:00:00\", \"2010-11-23T00:00:00\", \"2010-11-24T00:00:00\", \"2010-11-25T00:00:00\", \"2010-11-26T00:00:00\", \"2010-11-29T00:00:00\", \"2010-11-30T00:00:00\", \"2010-12-01T00:00:00\", \"2010-12-02T00:00:00\", \"2010-12-03T00:00:00\", \"2010-12-06T00:00:00\", \"2010-12-08T00:00:00\", \"2010-12-09T00:00:00\", \"2010-12-10T00:00:00\", \"2010-12-13T00:00:00\", \"2010-12-14T00:00:00\", \"2010-12-15T00:00:00\", \"2010-12-16T00:00:00\", \"2010-12-17T00:00:00\", \"2010-12-20T00:00:00\", \"2010-12-21T00:00:00\", \"2010-12-22T00:00:00\", \"2010-12-23T00:00:00\", \"2010-12-27T00:00:00\", \"2010-12-28T00:00:00\", \"2010-12-29T00:00:00\", \"2010-12-30T00:00:00\", \"2011-01-03T00:00:00\", \"2011-01-04T00:00:00\", \"2011-01-05T00:00:00\", \"2011-01-06T00:00:00\", \"2011-01-07T00:00:00\", \"2011-01-10T00:00:00\", \"2011-01-11T00:00:00\", \"2011-01-12T00:00:00\", \"2011-01-13T00:00:00\", \"2011-01-14T00:00:00\", \"2011-01-17T00:00:00\", \"2011-01-18T00:00:00\", \"2011-01-19T00:00:00\", \"2011-01-20T00:00:00\", \"2011-01-21T00:00:00\", \"2011-01-24T00:00:00\", \"2011-01-25T00:00:00\", \"2011-01-26T00:00:00\", \"2011-01-27T00:00:00\", \"2011-01-28T00:00:00\", \"2011-01-31T00:00:00\", \"2011-02-01T00:00:00\", \"2011-02-02T00:00:00\", \"2011-02-04T00:00:00\", \"2011-02-07T00:00:00\", \"2011-02-08T00:00:00\", \"2011-02-09T00:00:00\", \"2011-02-10T00:00:00\", \"2011-02-11T00:00:00\", \"2011-02-14T00:00:00\", \"2011-02-16T00:00:00\", \"2011-02-17T00:00:00\", \"2011-02-18T00:00:00\", \"2011-02-21T00:00:00\", \"2011-02-22T00:00:00\", \"2011-02-23T00:00:00\", \"2011-02-24T00:00:00\", \"2011-02-25T00:00:00\", \"2011-02-28T00:00:00\", \"2011-03-01T00:00:00\", \"2011-03-02T00:00:00\", \"2011-03-03T00:00:00\", \"2011-03-04T00:00:00\", \"2011-03-07T00:00:00\", \"2011-03-08T00:00:00\", \"2011-03-09T00:00:00\", \"2011-03-10T00:00:00\", \"2011-03-11T00:00:00\", \"2011-03-14T00:00:00\", \"2011-03-15T00:00:00\", \"2011-03-16T00:00:00\", \"2011-03-17T00:00:00\", \"2011-03-18T00:00:00\", \"2011-03-21T00:00:00\", \"2011-03-22T00:00:00\", \"2011-03-23T00:00:00\", \"2011-03-24T00:00:00\", \"2011-03-25T00:00:00\", \"2011-03-28T00:00:00\", \"2011-03-29T00:00:00\", \"2011-03-30T00:00:00\", \"2011-03-31T00:00:00\", \"2011-04-01T00:00:00\", \"2011-04-04T00:00:00\", \"2011-04-05T00:00:00\", \"2011-04-06T00:00:00\", \"2011-04-07T00:00:00\", \"2011-04-08T00:00:00\", \"2011-04-11T00:00:00\", \"2011-04-12T00:00:00\", \"2011-04-13T00:00:00\", \"2011-04-14T00:00:00\", \"2011-04-15T00:00:00\", \"2011-04-18T00:00:00\", \"2011-04-19T00:00:00\", \"2011-04-20T00:00:00\", \"2011-04-21T00:00:00\", \"2011-04-25T00:00:00\", \"2011-04-26T00:00:00\", \"2011-04-27T00:00:00\", \"2011-04-28T00:00:00\", \"2011-04-29T00:00:00\", \"2011-05-02T00:00:00\", \"2011-05-03T00:00:00\", \"2011-05-04T00:00:00\", \"2011-05-05T00:00:00\", \"2011-05-06T00:00:00\", \"2011-05-09T00:00:00\", \"2011-05-10T00:00:00\", \"2011-05-11T00:00:00\", \"2011-05-12T00:00:00\", \"2011-05-13T00:00:00\", \"2011-05-16T00:00:00\", \"2011-05-18T00:00:00\", \"2011-05-19T00:00:00\", \"2011-05-20T00:00:00\", \"2011-05-23T00:00:00\", \"2011-05-24T00:00:00\", \"2011-05-25T00:00:00\", \"2011-05-26T00:00:00\", \"2011-05-27T00:00:00\", \"2011-05-30T00:00:00\", \"2011-05-31T00:00:00\", \"2011-06-01T00:00:00\", \"2011-06-03T00:00:00\", \"2011-06-06T00:00:00\", \"2011-06-07T00:00:00\", \"2011-06-08T00:00:00\", \"2011-06-09T00:00:00\", \"2011-06-10T00:00:00\", \"2011-06-13T00:00:00\", \"2011-06-14T00:00:00\", \"2011-06-15T00:00:00\", \"2011-06-16T00:00:00\", \"2011-06-17T00:00:00\", \"2011-06-20T00:00:00\", \"2011-06-21T00:00:00\", \"2011-06-22T00:00:00\", \"2011-06-23T00:00:00\", \"2011-06-24T00:00:00\", \"2011-06-27T00:00:00\", \"2011-06-28T00:00:00\", \"2011-06-30T00:00:00\", \"2011-07-01T00:00:00\", \"2011-07-04T00:00:00\", \"2011-07-05T00:00:00\", \"2011-07-06T00:00:00\", \"2011-07-07T00:00:00\", \"2011-07-08T00:00:00\", \"2011-07-11T00:00:00\", \"2011-07-12T00:00:00\", \"2011-07-13T00:00:00\", \"2011-07-14T00:00:00\", \"2011-07-15T00:00:00\", \"2011-07-18T00:00:00\", \"2011-07-19T00:00:00\", \"2011-07-20T00:00:00\", \"2011-07-21T00:00:00\", \"2011-07-22T00:00:00\", \"2011-07-25T00:00:00\", \"2011-07-26T00:00:00\", \"2011-07-27T00:00:00\", \"2011-07-28T00:00:00\", \"2011-07-29T00:00:00\", \"2011-08-01T00:00:00\", \"2011-08-02T00:00:00\", \"2011-08-03T00:00:00\", \"2011-08-04T00:00:00\", \"2011-08-05T00:00:00\", \"2011-08-08T00:00:00\", \"2011-08-09T00:00:00\", \"2011-08-10T00:00:00\", \"2011-08-11T00:00:00\", \"2011-08-12T00:00:00\", \"2011-08-15T00:00:00\", \"2011-08-16T00:00:00\", \"2011-08-18T00:00:00\", \"2011-08-19T00:00:00\", \"2011-08-22T00:00:00\", \"2011-08-23T00:00:00\", \"2011-08-24T00:00:00\", \"2011-08-25T00:00:00\", \"2011-08-26T00:00:00\", \"2011-09-05T00:00:00\", \"2011-09-06T00:00:00\", \"2011-09-07T00:00:00\", \"2011-09-08T00:00:00\", \"2011-09-09T00:00:00\", \"2011-09-12T00:00:00\", \"2011-09-13T00:00:00\", \"2011-09-14T00:00:00\", \"2011-09-15T00:00:00\", \"2011-09-16T00:00:00\", \"2011-09-19T00:00:00\", \"2011-09-20T00:00:00\", \"2011-09-21T00:00:00\", \"2011-09-22T00:00:00\", \"2011-09-23T00:00:00\", \"2011-09-26T00:00:00\", \"2011-09-27T00:00:00\", \"2011-09-28T00:00:00\", \"2011-09-29T00:00:00\", \"2011-09-30T00:00:00\", \"2011-10-03T00:00:00\", \"2011-10-04T00:00:00\", \"2011-10-05T00:00:00\", \"2011-10-06T00:00:00\", \"2011-10-07T00:00:00\", \"2011-10-10T00:00:00\", \"2011-10-11T00:00:00\", \"2011-10-12T00:00:00\", \"2011-10-13T00:00:00\", \"2011-10-14T00:00:00\", \"2011-10-17T00:00:00\", \"2011-10-18T00:00:00\", \"2011-10-19T00:00:00\", \"2011-10-20T00:00:00\", \"2011-10-21T00:00:00\", \"2011-10-24T00:00:00\", \"2011-10-25T00:00:00\", \"2011-10-26T00:00:00\", \"2011-10-27T00:00:00\", \"2011-10-28T00:00:00\", \"2011-10-31T00:00:00\", \"2011-11-01T00:00:00\", \"2011-11-02T00:00:00\", \"2011-11-03T00:00:00\", \"2011-11-04T00:00:00\", \"2011-11-07T00:00:00\", \"2011-11-08T00:00:00\", \"2011-11-09T00:00:00\", \"2011-11-10T00:00:00\", \"2011-11-11T00:00:00\", \"2011-11-14T00:00:00\", \"2011-11-15T00:00:00\", \"2011-11-16T00:00:00\", \"2011-11-17T00:00:00\", \"2011-11-18T00:00:00\", \"2011-11-21T00:00:00\", \"2011-11-22T00:00:00\", \"2011-11-23T00:00:00\", \"2011-11-24T00:00:00\", \"2011-11-25T00:00:00\", \"2011-11-28T00:00:00\", \"2011-11-29T00:00:00\", \"2011-11-30T00:00:00\", \"2011-12-01T00:00:00\", \"2011-12-02T00:00:00\", \"2011-12-05T00:00:00\", \"2011-12-06T00:00:00\", \"2011-12-07T00:00:00\", \"2011-12-08T00:00:00\", \"2011-12-09T00:00:00\", \"2011-12-12T00:00:00\", \"2011-12-13T00:00:00\", \"2011-12-14T00:00:00\", \"2011-12-15T00:00:00\", \"2011-12-16T00:00:00\", \"2011-12-19T00:00:00\", \"2011-12-20T00:00:00\", \"2011-12-21T00:00:00\", \"2011-12-22T00:00:00\", \"2011-12-23T00:00:00\", \"2011-12-27T00:00:00\", \"2011-12-28T00:00:00\", \"2011-12-29T00:00:00\", \"2011-12-30T00:00:00\", \"2012-01-02T00:00:00\", \"2012-01-03T00:00:00\", \"2012-01-04T00:00:00\", \"2012-01-05T00:00:00\", \"2012-01-06T00:00:00\", \"2012-01-09T00:00:00\", \"2012-01-10T00:00:00\", \"2012-01-11T00:00:00\", \"2012-01-12T00:00:00\", \"2012-01-13T00:00:00\", \"2012-01-16T00:00:00\", \"2012-01-17T00:00:00\", \"2012-01-18T00:00:00\", \"2012-01-19T00:00:00\", \"2012-01-20T00:00:00\", \"2012-01-24T00:00:00\", \"2012-01-25T00:00:00\", \"2012-01-26T00:00:00\", \"2012-01-27T00:00:00\", \"2012-01-30T00:00:00\", \"2012-01-31T00:00:00\", \"2012-02-01T00:00:00\", \"2012-02-02T00:00:00\", \"2012-02-03T00:00:00\", \"2012-02-06T00:00:00\", \"2012-02-07T00:00:00\", \"2012-02-08T00:00:00\", \"2012-02-09T00:00:00\", \"2012-02-10T00:00:00\", \"2012-02-13T00:00:00\", \"2012-02-14T00:00:00\", \"2012-02-15T00:00:00\", \"2012-02-16T00:00:00\", \"2012-02-17T00:00:00\", \"2012-02-20T00:00:00\", \"2012-02-21T00:00:00\", \"2012-02-22T00:00:00\", \"2012-02-23T00:00:00\", \"2012-02-24T00:00:00\", \"2012-02-27T00:00:00\", \"2012-02-28T00:00:00\", \"2012-02-29T00:00:00\", \"2012-03-01T00:00:00\", \"2012-03-02T00:00:00\", \"2012-03-05T00:00:00\", \"2012-03-06T00:00:00\", \"2012-03-07T00:00:00\", \"2012-03-08T00:00:00\", \"2012-03-09T00:00:00\", \"2012-03-12T00:00:00\", \"2012-03-13T00:00:00\", \"2012-03-14T00:00:00\", \"2012-03-15T00:00:00\", \"2012-03-16T00:00:00\", \"2012-03-19T00:00:00\", \"2012-03-20T00:00:00\", \"2012-03-21T00:00:00\", \"2012-03-22T00:00:00\", \"2012-03-26T00:00:00\", \"2012-03-27T00:00:00\", \"2012-03-28T00:00:00\", \"2012-03-29T00:00:00\", \"2012-03-30T00:00:00\", \"2012-04-02T00:00:00\", \"2012-04-03T00:00:00\", \"2012-04-04T00:00:00\", \"2012-04-05T00:00:00\", \"2012-04-09T00:00:00\", \"2012-04-10T00:00:00\", \"2012-04-11T00:00:00\", \"2012-04-12T00:00:00\", \"2012-04-13T00:00:00\", \"2012-04-16T00:00:00\", \"2012-04-17T00:00:00\", \"2012-04-18T00:00:00\", \"2012-04-19T00:00:00\", \"2012-04-20T00:00:00\", \"2012-04-23T00:00:00\", \"2012-04-24T00:00:00\", \"2012-04-25T00:00:00\", \"2012-04-26T00:00:00\", \"2012-04-27T00:00:00\", \"2012-04-30T00:00:00\", \"2012-05-01T00:00:00\", \"2012-05-02T00:00:00\", \"2012-05-03T00:00:00\", \"2012-05-04T00:00:00\", \"2012-05-07T00:00:00\", \"2012-05-08T00:00:00\", \"2012-05-09T00:00:00\", \"2012-05-10T00:00:00\", \"2012-05-11T00:00:00\", \"2012-05-14T00:00:00\", \"2012-05-15T00:00:00\", \"2012-05-16T00:00:00\", \"2012-05-21T00:00:00\", \"2012-05-22T00:00:00\", \"2012-05-23T00:00:00\", \"2012-05-24T00:00:00\", \"2012-05-25T00:00:00\", \"2012-05-28T00:00:00\", \"2012-05-29T00:00:00\", \"2012-05-30T00:00:00\", \"2012-05-31T00:00:00\", \"2012-06-01T00:00:00\", \"2012-06-04T00:00:00\", \"2012-06-05T00:00:00\", \"2012-06-06T00:00:00\", \"2012-06-07T00:00:00\", \"2012-06-08T00:00:00\", \"2012-06-11T00:00:00\", \"2012-06-12T00:00:00\", \"2012-06-13T00:00:00\", \"2012-06-14T00:00:00\", \"2012-06-15T00:00:00\", \"2012-06-18T00:00:00\", \"2012-06-19T00:00:00\", \"2012-06-20T00:00:00\", \"2012-06-21T00:00:00\", \"2012-06-22T00:00:00\", \"2012-06-25T00:00:00\", \"2012-06-26T00:00:00\", \"2012-06-27T00:00:00\", \"2012-06-28T00:00:00\", \"2012-06-29T00:00:00\", \"2012-07-02T00:00:00\", \"2012-07-03T00:00:00\", \"2012-07-04T00:00:00\", \"2012-07-05T00:00:00\", \"2012-07-06T00:00:00\", \"2012-07-09T00:00:00\", \"2012-07-10T00:00:00\", \"2012-07-11T00:00:00\", \"2012-07-12T00:00:00\", \"2012-07-13T00:00:00\", \"2012-07-16T00:00:00\", \"2012-07-17T00:00:00\", \"2012-07-18T00:00:00\", \"2012-07-19T00:00:00\", \"2012-07-20T00:00:00\", \"2012-07-23T00:00:00\", \"2012-07-24T00:00:00\", \"2012-07-25T00:00:00\", \"2012-07-26T00:00:00\", \"2012-07-27T00:00:00\", \"2012-07-30T00:00:00\", \"2012-07-31T00:00:00\", \"2012-08-01T00:00:00\", \"2012-08-02T00:00:00\", \"2012-08-03T00:00:00\", \"2012-08-06T00:00:00\", \"2012-08-07T00:00:00\", \"2012-08-08T00:00:00\", \"2012-08-09T00:00:00\", \"2012-08-10T00:00:00\", \"2012-08-13T00:00:00\", \"2012-08-14T00:00:00\", \"2012-08-15T00:00:00\", \"2012-08-16T00:00:00\", \"2012-08-23T00:00:00\", \"2012-08-24T00:00:00\", \"2012-08-27T00:00:00\", \"2012-08-28T00:00:00\", \"2012-08-29T00:00:00\", \"2012-08-30T00:00:00\", \"2012-08-31T00:00:00\", \"2012-09-03T00:00:00\", \"2012-09-04T00:00:00\", \"2012-09-05T00:00:00\", \"2012-09-06T00:00:00\", \"2012-09-07T00:00:00\", \"2012-09-10T00:00:00\", \"2012-09-11T00:00:00\", \"2012-09-12T00:00:00\", \"2012-09-13T00:00:00\", \"2012-09-14T00:00:00\", \"2012-09-17T00:00:00\", \"2012-09-18T00:00:00\", \"2012-09-19T00:00:00\", \"2012-09-20T00:00:00\", \"2012-09-21T00:00:00\", \"2012-09-24T00:00:00\", \"2012-09-25T00:00:00\", \"2012-09-26T00:00:00\", \"2012-09-27T00:00:00\", \"2012-09-28T00:00:00\", \"2012-10-01T00:00:00\", \"2012-10-02T00:00:00\", \"2012-10-03T00:00:00\", \"2012-10-04T00:00:00\", \"2012-10-05T00:00:00\", \"2012-10-08T00:00:00\", \"2012-10-09T00:00:00\", \"2012-10-10T00:00:00\", \"2012-10-11T00:00:00\", \"2012-10-12T00:00:00\", \"2012-10-15T00:00:00\", \"2012-10-16T00:00:00\", \"2012-10-17T00:00:00\", \"2012-10-18T00:00:00\", \"2012-10-19T00:00:00\", \"2012-10-22T00:00:00\", \"2012-10-23T00:00:00\", \"2012-10-24T00:00:00\", \"2012-10-25T00:00:00\", \"2012-10-29T00:00:00\", \"2012-10-30T00:00:00\", \"2012-10-31T00:00:00\", \"2012-11-01T00:00:00\", \"2012-11-02T00:00:00\", \"2012-11-05T00:00:00\", \"2012-11-06T00:00:00\", \"2012-11-07T00:00:00\", \"2012-11-08T00:00:00\", \"2012-11-09T00:00:00\", \"2012-11-12T00:00:00\", \"2012-11-13T00:00:00\", \"2012-11-14T00:00:00\", \"2012-11-19T00:00:00\", \"2012-11-20T00:00:00\", \"2012-11-21T00:00:00\", \"2012-11-22T00:00:00\", \"2012-11-23T00:00:00\", \"2012-11-26T00:00:00\", \"2012-11-27T00:00:00\", \"2012-11-28T00:00:00\", \"2012-11-29T00:00:00\", \"2012-11-30T00:00:00\", \"2012-12-03T00:00:00\", \"2012-12-04T00:00:00\", \"2012-12-05T00:00:00\", \"2012-12-06T00:00:00\", \"2012-12-07T00:00:00\", \"2012-12-10T00:00:00\", \"2012-12-11T00:00:00\", \"2012-12-12T00:00:00\", \"2012-12-13T00:00:00\", \"2012-12-14T00:00:00\", \"2012-12-17T00:00:00\", \"2012-12-18T00:00:00\", \"2012-12-19T00:00:00\", \"2012-12-20T00:00:00\", \"2012-12-21T00:00:00\", \"2012-12-26T00:00:00\", \"2012-12-27T00:00:00\", \"2012-12-28T00:00:00\", \"2013-01-02T00:00:00\", \"2013-01-03T00:00:00\", \"2013-01-04T00:00:00\", \"2013-01-07T00:00:00\", \"2013-01-08T00:00:00\", \"2013-01-09T00:00:00\", \"2013-01-10T00:00:00\", \"2013-01-11T00:00:00\", \"2013-01-14T00:00:00\", \"2013-01-15T00:00:00\", \"2013-01-16T00:00:00\", \"2013-01-17T00:00:00\", \"2013-01-18T00:00:00\", \"2013-01-21T00:00:00\", \"2013-01-22T00:00:00\", \"2013-01-23T00:00:00\", \"2013-01-25T00:00:00\", \"2013-01-28T00:00:00\", \"2013-01-29T00:00:00\", \"2013-01-30T00:00:00\", \"2013-01-31T00:00:00\", \"2013-02-01T00:00:00\", \"2013-02-04T00:00:00\", \"2013-02-05T00:00:00\", \"2013-02-06T00:00:00\", \"2013-02-07T00:00:00\", \"2013-02-08T00:00:00\", \"2013-02-11T00:00:00\", \"2013-02-12T00:00:00\", \"2013-02-13T00:00:00\", \"2013-02-14T00:00:00\", \"2013-02-15T00:00:00\", \"2013-02-18T00:00:00\", \"2013-02-19T00:00:00\", \"2013-02-20T00:00:00\", \"2013-02-21T00:00:00\", \"2013-02-22T00:00:00\", \"2013-02-25T00:00:00\", \"2013-02-26T00:00:00\", \"2013-02-27T00:00:00\", \"2013-02-28T00:00:00\", \"2013-03-01T00:00:00\", \"2013-03-04T00:00:00\", \"2013-03-05T00:00:00\", \"2013-03-06T00:00:00\", \"2013-03-07T00:00:00\", \"2013-03-08T00:00:00\", \"2013-03-11T00:00:00\", \"2013-03-13T00:00:00\", \"2013-03-14T00:00:00\", \"2013-03-15T00:00:00\", \"2013-03-18T00:00:00\", \"2013-03-19T00:00:00\", \"2013-03-20T00:00:00\", \"2013-03-21T00:00:00\", \"2013-03-22T00:00:00\", \"2013-03-25T00:00:00\", \"2013-03-26T00:00:00\", \"2013-03-27T00:00:00\", \"2013-03-28T00:00:00\", \"2013-04-01T00:00:00\", \"2013-04-02T00:00:00\", \"2013-04-03T00:00:00\", \"2013-04-04T00:00:00\", \"2013-04-05T00:00:00\", \"2013-04-08T00:00:00\", \"2013-04-09T00:00:00\", \"2013-04-10T00:00:00\", \"2013-04-11T00:00:00\", \"2013-04-12T00:00:00\", \"2013-04-15T00:00:00\", \"2013-04-16T00:00:00\", \"2013-04-17T00:00:00\", \"2013-04-18T00:00:00\", \"2013-04-19T00:00:00\", \"2013-04-22T00:00:00\", \"2013-04-23T00:00:00\", \"2013-04-24T00:00:00\", \"2013-04-25T00:00:00\", \"2013-04-26T00:00:00\", \"2013-04-29T00:00:00\", \"2013-04-30T00:00:00\", \"2013-05-01T00:00:00\", \"2013-05-02T00:00:00\", \"2013-05-03T00:00:00\", \"2013-05-06T00:00:00\", \"2013-05-07T00:00:00\", \"2013-05-08T00:00:00\", \"2013-05-10T00:00:00\", \"2013-05-13T00:00:00\", \"2013-05-14T00:00:00\", \"2013-05-15T00:00:00\", \"2013-05-16T00:00:00\", \"2013-05-17T00:00:00\", \"2013-05-20T00:00:00\", \"2013-05-21T00:00:00\", \"2013-05-22T00:00:00\", \"2013-05-23T00:00:00\", \"2013-05-24T00:00:00\", \"2013-05-27T00:00:00\", \"2013-05-28T00:00:00\", \"2013-05-29T00:00:00\", \"2013-05-30T00:00:00\", \"2013-05-31T00:00:00\", \"2013-06-03T00:00:00\", \"2013-06-04T00:00:00\", \"2013-06-05T00:00:00\", \"2013-06-07T00:00:00\", \"2013-06-10T00:00:00\", \"2013-06-11T00:00:00\", \"2013-06-12T00:00:00\", \"2013-06-13T00:00:00\", \"2013-06-14T00:00:00\", \"2013-06-17T00:00:00\", \"2013-06-18T00:00:00\", \"2013-06-19T00:00:00\", \"2013-06-20T00:00:00\", \"2013-06-21T00:00:00\", \"2013-06-24T00:00:00\", \"2013-06-25T00:00:00\", \"2013-06-26T00:00:00\", \"2013-06-27T00:00:00\", \"2013-06-28T00:00:00\", \"2013-07-01T00:00:00\", \"2013-07-02T00:00:00\", \"2013-07-03T00:00:00\", \"2013-07-04T00:00:00\", \"2013-07-05T00:00:00\", \"2013-07-08T00:00:00\", \"2013-07-09T00:00:00\", \"2013-07-10T00:00:00\", \"2013-07-11T00:00:00\", \"2013-07-12T00:00:00\", \"2013-07-15T00:00:00\", \"2013-07-16T00:00:00\", \"2013-07-17T00:00:00\", \"2013-07-18T00:00:00\", \"2013-07-19T00:00:00\", \"2013-07-22T00:00:00\", \"2013-07-23T00:00:00\", \"2013-07-24T00:00:00\", \"2013-07-25T00:00:00\", \"2013-07-26T00:00:00\", \"2013-07-29T00:00:00\", \"2013-07-30T00:00:00\", \"2013-07-31T00:00:00\", \"2013-08-01T00:00:00\", \"2013-08-02T00:00:00\", \"2013-08-12T00:00:00\", \"2013-08-13T00:00:00\", \"2013-08-14T00:00:00\", \"2013-08-15T00:00:00\", \"2013-08-16T00:00:00\", \"2013-08-19T00:00:00\", \"2013-08-20T00:00:00\", \"2013-08-21T00:00:00\", \"2013-08-22T00:00:00\", \"2013-08-23T00:00:00\", \"2013-08-26T00:00:00\", \"2013-08-27T00:00:00\", \"2013-08-28T00:00:00\", \"2013-08-29T00:00:00\", \"2013-08-30T00:00:00\", \"2013-09-02T00:00:00\", \"2013-09-03T00:00:00\", \"2013-09-04T00:00:00\", \"2013-09-05T00:00:00\", \"2013-09-06T00:00:00\", \"2013-09-09T00:00:00\", \"2013-09-10T00:00:00\", \"2013-09-11T00:00:00\", \"2013-09-12T00:00:00\", \"2013-09-13T00:00:00\", \"2013-09-16T00:00:00\", \"2013-09-17T00:00:00\", \"2013-09-18T00:00:00\", \"2013-09-19T00:00:00\", \"2013-09-20T00:00:00\", \"2013-09-23T00:00:00\", \"2013-09-24T00:00:00\", \"2013-09-25T00:00:00\", \"2013-09-26T00:00:00\", \"2013-09-27T00:00:00\", \"2013-09-30T00:00:00\", \"2013-10-01T00:00:00\", \"2013-10-02T00:00:00\", \"2013-10-03T00:00:00\", \"2013-10-04T00:00:00\", \"2013-10-07T00:00:00\", \"2013-10-08T00:00:00\", \"2013-10-09T00:00:00\", \"2013-10-10T00:00:00\", \"2013-10-11T00:00:00\", \"2013-10-16T00:00:00\", \"2013-10-17T00:00:00\", \"2013-10-18T00:00:00\", \"2013-10-21T00:00:00\", \"2013-10-22T00:00:00\", \"2013-10-23T00:00:00\", \"2013-10-24T00:00:00\", \"2013-10-25T00:00:00\", \"2013-10-28T00:00:00\", \"2013-10-29T00:00:00\", \"2013-10-30T00:00:00\", \"2013-10-31T00:00:00\", \"2013-11-01T00:00:00\", \"2013-11-04T00:00:00\", \"2013-11-06T00:00:00\", \"2013-11-07T00:00:00\", \"2013-11-08T00:00:00\", \"2013-11-11T00:00:00\", \"2013-11-12T00:00:00\", \"2013-11-13T00:00:00\", \"2013-11-14T00:00:00\", \"2013-11-15T00:00:00\", \"2013-11-18T00:00:00\", \"2013-11-19T00:00:00\", \"2013-11-20T00:00:00\", \"2013-11-21T00:00:00\", \"2013-11-22T00:00:00\", \"2013-11-25T00:00:00\", \"2013-11-26T00:00:00\", \"2013-11-27T00:00:00\", \"2013-11-28T00:00:00\", \"2013-11-29T00:00:00\", \"2013-12-02T00:00:00\", \"2013-12-03T00:00:00\", \"2013-12-04T00:00:00\", \"2013-12-05T00:00:00\", \"2013-12-06T00:00:00\", \"2013-12-09T00:00:00\", \"2013-12-10T00:00:00\", \"2013-12-11T00:00:00\", \"2013-12-12T00:00:00\", \"2013-12-13T00:00:00\", \"2013-12-16T00:00:00\", \"2013-12-17T00:00:00\", \"2013-12-18T00:00:00\", \"2013-12-19T00:00:00\", \"2013-12-20T00:00:00\", \"2013-12-23T00:00:00\", \"2013-12-24T00:00:00\", \"2013-12-27T00:00:00\", \"2013-12-30T00:00:00\", \"2014-01-02T00:00:00\", \"2014-01-03T00:00:00\", \"2014-01-06T00:00:00\", \"2014-01-07T00:00:00\", \"2014-01-08T00:00:00\", \"2014-01-09T00:00:00\", \"2014-01-10T00:00:00\", \"2014-01-13T00:00:00\", \"2014-01-15T00:00:00\", \"2014-01-16T00:00:00\", \"2014-01-17T00:00:00\", \"2014-01-20T00:00:00\", \"2014-01-21T00:00:00\", \"2014-01-22T00:00:00\", \"2014-01-23T00:00:00\", \"2014-01-24T00:00:00\", \"2014-01-27T00:00:00\", \"2014-01-28T00:00:00\", \"2014-01-29T00:00:00\", \"2014-01-30T00:00:00\", \"2014-02-03T00:00:00\", \"2014-02-04T00:00:00\", \"2014-02-05T00:00:00\", \"2014-02-06T00:00:00\", \"2014-02-07T00:00:00\", \"2014-02-10T00:00:00\", \"2014-02-11T00:00:00\", \"2014-02-12T00:00:00\", \"2014-02-13T00:00:00\", \"2014-02-14T00:00:00\", \"2014-02-17T00:00:00\", \"2014-02-18T00:00:00\", \"2014-02-19T00:00:00\", \"2014-02-20T00:00:00\", \"2014-02-21T00:00:00\", \"2014-02-24T00:00:00\", \"2014-02-25T00:00:00\", \"2014-02-26T00:00:00\", \"2014-02-27T00:00:00\", \"2014-02-28T00:00:00\", \"2014-03-03T00:00:00\", \"2014-03-04T00:00:00\", \"2014-03-05T00:00:00\", \"2014-03-06T00:00:00\", \"2014-03-07T00:00:00\", \"2014-03-10T00:00:00\", \"2014-03-11T00:00:00\", \"2014-03-12T00:00:00\", \"2014-03-13T00:00:00\", \"2014-03-14T00:00:00\", \"2014-03-17T00:00:00\", \"2014-03-18T00:00:00\", \"2014-03-19T00:00:00\", \"2014-03-20T00:00:00\", \"2014-03-21T00:00:00\", \"2014-03-24T00:00:00\", \"2014-03-25T00:00:00\", \"2014-03-26T00:00:00\", \"2014-03-27T00:00:00\", \"2014-03-28T00:00:00\", \"2014-04-01T00:00:00\", \"2014-04-02T00:00:00\", \"2014-04-03T00:00:00\", \"2014-04-04T00:00:00\", \"2014-04-07T00:00:00\", \"2014-04-08T00:00:00\", \"2014-04-09T00:00:00\", \"2014-04-10T00:00:00\", \"2014-04-11T00:00:00\", \"2014-04-14T00:00:00\", \"2014-04-15T00:00:00\", \"2014-04-16T00:00:00\", \"2014-04-17T00:00:00\", \"2014-04-21T00:00:00\", \"2014-04-22T00:00:00\", \"2014-04-23T00:00:00\", \"2014-04-24T00:00:00\", \"2014-04-25T00:00:00\", \"2014-04-28T00:00:00\", \"2014-04-29T00:00:00\", \"2014-04-30T00:00:00\", \"2014-05-02T00:00:00\", \"2014-05-05T00:00:00\", \"2014-05-06T00:00:00\", \"2014-05-07T00:00:00\", \"2014-05-08T00:00:00\", \"2014-05-09T00:00:00\", \"2014-05-12T00:00:00\", \"2014-05-13T00:00:00\", \"2014-05-14T00:00:00\", \"2014-05-16T00:00:00\", \"2014-05-19T00:00:00\", \"2014-05-20T00:00:00\", \"2014-05-21T00:00:00\", \"2014-05-22T00:00:00\", \"2014-05-23T00:00:00\", \"2014-05-26T00:00:00\", \"2014-05-28T00:00:00\", \"2014-05-30T00:00:00\", \"2014-06-02T00:00:00\", \"2014-06-03T00:00:00\", \"2014-06-04T00:00:00\", \"2014-06-05T00:00:00\", \"2014-06-06T00:00:00\", \"2014-06-09T00:00:00\", \"2014-06-10T00:00:00\", \"2014-06-11T00:00:00\", \"2014-06-12T00:00:00\", \"2014-06-13T00:00:00\", \"2014-06-16T00:00:00\", \"2014-06-17T00:00:00\", \"2014-06-18T00:00:00\", \"2014-06-19T00:00:00\", \"2014-06-20T00:00:00\", \"2014-06-23T00:00:00\", \"2014-06-24T00:00:00\", \"2014-06-25T00:00:00\", \"2014-06-26T00:00:00\", \"2014-06-27T00:00:00\", \"2014-06-30T00:00:00\", \"2014-07-01T00:00:00\", \"2014-07-02T00:00:00\", \"2014-07-03T00:00:00\", \"2014-07-04T00:00:00\", \"2014-07-07T00:00:00\", \"2014-07-08T00:00:00\", \"2014-07-09T00:00:00\", \"2014-07-10T00:00:00\", \"2014-07-11T00:00:00\", \"2014-07-14T00:00:00\", \"2014-07-15T00:00:00\", \"2014-07-16T00:00:00\", \"2014-07-17T00:00:00\", \"2014-07-18T00:00:00\", \"2014-07-21T00:00:00\", \"2014-07-22T00:00:00\", \"2014-07-23T00:00:00\", \"2014-07-24T00:00:00\", \"2014-07-25T00:00:00\", \"2014-08-04T00:00:00\", \"2014-08-05T00:00:00\", \"2014-08-06T00:00:00\", \"2014-08-07T00:00:00\", \"2014-08-08T00:00:00\", \"2014-08-11T00:00:00\", \"2014-08-12T00:00:00\", \"2014-08-13T00:00:00\", \"2014-08-14T00:00:00\", \"2014-08-15T00:00:00\", \"2014-08-18T00:00:00\", \"2014-08-19T00:00:00\", \"2014-08-20T00:00:00\", \"2014-08-21T00:00:00\", \"2014-08-22T00:00:00\", \"2014-08-25T00:00:00\", \"2014-08-26T00:00:00\", \"2014-08-27T00:00:00\", \"2014-08-28T00:00:00\", \"2014-08-29T00:00:00\", \"2014-09-01T00:00:00\", \"2014-09-02T00:00:00\", \"2014-09-03T00:00:00\", \"2014-09-04T00:00:00\", \"2014-09-05T00:00:00\", \"2014-09-08T00:00:00\", \"2014-09-09T00:00:00\", \"2014-09-10T00:00:00\", \"2014-09-11T00:00:00\", \"2014-09-12T00:00:00\", \"2014-09-15T00:00:00\", \"2014-09-16T00:00:00\", \"2014-09-17T00:00:00\", \"2014-09-18T00:00:00\", \"2014-09-19T00:00:00\", \"2014-09-22T00:00:00\", \"2014-09-23T00:00:00\", \"2014-09-24T00:00:00\", \"2014-09-25T00:00:00\", \"2014-09-26T00:00:00\", \"2014-09-29T00:00:00\", \"2014-09-30T00:00:00\", \"2014-10-01T00:00:00\", \"2014-10-02T00:00:00\", \"2014-10-03T00:00:00\", \"2014-10-06T00:00:00\", \"2014-10-07T00:00:00\", \"2014-10-08T00:00:00\", \"2014-10-09T00:00:00\", \"2014-10-10T00:00:00\", \"2014-10-13T00:00:00\", \"2014-10-14T00:00:00\", \"2014-10-15T00:00:00\", \"2014-10-16T00:00:00\", \"2014-10-17T00:00:00\", \"2014-10-20T00:00:00\", \"2014-10-21T00:00:00\", \"2014-10-22T00:00:00\", \"2014-10-23T00:00:00\", \"2014-10-24T00:00:00\", \"2014-10-27T00:00:00\", \"2014-10-28T00:00:00\", \"2014-10-29T00:00:00\", \"2014-10-30T00:00:00\", \"2014-10-31T00:00:00\", \"2014-11-03T00:00:00\", \"2014-11-04T00:00:00\", \"2014-11-05T00:00:00\", \"2014-11-06T00:00:00\", \"2014-11-07T00:00:00\", \"2014-11-10T00:00:00\", \"2014-11-11T00:00:00\", \"2014-11-12T00:00:00\", \"2014-11-13T00:00:00\", \"2014-11-14T00:00:00\", \"2014-11-17T00:00:00\", \"2014-11-18T00:00:00\", \"2014-11-19T00:00:00\", \"2014-11-20T00:00:00\", \"2014-11-21T00:00:00\", \"2014-11-24T00:00:00\", \"2014-11-25T00:00:00\", \"2014-11-26T00:00:00\", \"2014-11-27T00:00:00\", \"2014-11-28T00:00:00\", \"2014-12-01T00:00:00\", \"2014-12-02T00:00:00\", \"2014-12-03T00:00:00\", \"2014-12-04T00:00:00\", \"2014-12-05T00:00:00\", \"2014-12-08T00:00:00\", \"2014-12-09T00:00:00\", \"2014-12-10T00:00:00\", \"2014-12-11T00:00:00\", \"2014-12-12T00:00:00\", \"2014-12-15T00:00:00\", \"2014-12-16T00:00:00\", \"2014-12-17T00:00:00\", \"2014-12-18T00:00:00\", \"2014-12-19T00:00:00\", \"2014-12-22T00:00:00\", \"2014-12-23T00:00:00\", \"2014-12-24T00:00:00\", \"2014-12-29T00:00:00\", \"2014-12-30T00:00:00\", \"2015-01-02T00:00:00\", \"2015-01-05T00:00:00\", \"2015-01-06T00:00:00\", \"2015-01-07T00:00:00\", \"2015-01-08T00:00:00\", \"2015-01-09T00:00:00\", \"2015-01-12T00:00:00\", \"2015-01-13T00:00:00\", \"2015-01-14T00:00:00\", \"2015-01-15T00:00:00\", \"2015-01-16T00:00:00\", \"2015-01-19T00:00:00\", \"2015-01-20T00:00:00\", \"2015-01-21T00:00:00\", \"2015-01-22T00:00:00\", \"2015-01-23T00:00:00\", \"2015-01-26T00:00:00\", \"2015-01-27T00:00:00\", \"2015-01-28T00:00:00\", \"2015-01-29T00:00:00\", \"2015-01-30T00:00:00\", \"2015-02-02T00:00:00\", \"2015-02-03T00:00:00\", \"2015-02-04T00:00:00\", \"2015-02-05T00:00:00\", \"2015-02-06T00:00:00\", \"2015-02-09T00:00:00\", \"2015-02-10T00:00:00\", \"2015-02-11T00:00:00\", \"2015-02-12T00:00:00\", \"2015-02-13T00:00:00\", \"2015-02-16T00:00:00\", \"2015-02-17T00:00:00\", \"2015-02-18T00:00:00\", \"2015-02-20T00:00:00\", \"2015-02-23T00:00:00\", \"2015-02-24T00:00:00\", \"2015-02-25T00:00:00\", \"2015-02-26T00:00:00\", \"2015-02-27T00:00:00\", \"2015-03-02T00:00:00\", \"2015-03-03T00:00:00\", \"2015-03-04T00:00:00\", \"2015-03-05T00:00:00\", \"2015-03-06T00:00:00\", \"2015-03-09T00:00:00\", \"2015-03-10T00:00:00\", \"2015-03-11T00:00:00\", \"2015-03-12T00:00:00\", \"2015-03-13T00:00:00\", \"2015-03-16T00:00:00\", \"2015-03-17T00:00:00\", \"2015-03-18T00:00:00\", \"2015-03-19T00:00:00\", \"2015-03-20T00:00:00\", \"2015-03-23T00:00:00\", \"2015-03-24T00:00:00\", \"2015-03-25T00:00:00\", \"2015-03-26T00:00:00\", \"2015-03-27T00:00:00\", \"2015-03-30T00:00:00\", \"2015-03-31T00:00:00\", \"2015-04-01T00:00:00\", \"2015-04-02T00:00:00\", \"2015-04-06T00:00:00\", \"2015-04-07T00:00:00\", \"2015-04-08T00:00:00\", \"2015-04-09T00:00:00\", \"2015-04-10T00:00:00\", \"2015-04-13T00:00:00\", \"2015-04-14T00:00:00\", \"2015-04-15T00:00:00\", \"2015-04-16T00:00:00\", \"2015-04-17T00:00:00\", \"2015-04-20T00:00:00\", \"2015-04-21T00:00:00\", \"2015-04-22T00:00:00\", \"2015-04-23T00:00:00\", \"2015-04-24T00:00:00\", \"2015-04-27T00:00:00\", \"2015-04-28T00:00:00\", \"2015-04-29T00:00:00\", \"2015-04-30T00:00:00\", \"2015-05-04T00:00:00\", \"2015-05-05T00:00:00\", \"2015-05-06T00:00:00\", \"2015-05-07T00:00:00\", \"2015-05-08T00:00:00\", \"2015-05-11T00:00:00\", \"2015-05-12T00:00:00\", \"2015-05-13T00:00:00\", \"2015-05-15T00:00:00\", \"2015-05-18T00:00:00\", \"2015-05-19T00:00:00\", \"2015-05-20T00:00:00\", \"2015-05-21T00:00:00\", \"2015-05-22T00:00:00\", \"2015-05-25T00:00:00\", \"2015-05-26T00:00:00\", \"2015-05-27T00:00:00\", \"2015-05-28T00:00:00\", \"2015-05-29T00:00:00\", \"2015-06-01T00:00:00\", \"2015-06-03T00:00:00\", \"2015-06-04T00:00:00\", \"2015-06-05T00:00:00\", \"2015-06-08T00:00:00\", \"2015-06-09T00:00:00\", \"2015-06-10T00:00:00\", \"2015-06-11T00:00:00\", \"2015-06-12T00:00:00\", \"2015-06-15T00:00:00\", \"2015-06-16T00:00:00\", \"2015-06-17T00:00:00\", \"2015-06-18T00:00:00\", \"2015-06-19T00:00:00\", \"2015-06-22T00:00:00\", \"2015-06-23T00:00:00\", \"2015-06-24T00:00:00\", \"2015-06-25T00:00:00\", \"2015-06-26T00:00:00\", \"2015-06-29T00:00:00\", \"2015-06-30T00:00:00\", \"2015-07-01T00:00:00\", \"2015-07-02T00:00:00\", \"2015-07-03T00:00:00\", \"2015-07-06T00:00:00\", \"2015-07-07T00:00:00\", \"2015-07-08T00:00:00\", \"2015-07-09T00:00:00\", \"2015-07-10T00:00:00\", \"2015-07-13T00:00:00\", \"2015-07-14T00:00:00\", \"2015-07-15T00:00:00\", \"2015-07-22T00:00:00\", \"2015-07-23T00:00:00\", \"2015-07-24T00:00:00\", \"2015-07-27T00:00:00\", \"2015-07-28T00:00:00\", \"2015-07-29T00:00:00\", \"2015-07-30T00:00:00\", \"2015-07-31T00:00:00\", \"2015-08-03T00:00:00\", \"2015-08-04T00:00:00\", \"2015-08-05T00:00:00\", \"2015-08-06T00:00:00\", \"2015-08-07T00:00:00\", \"2015-08-10T00:00:00\", \"2015-08-11T00:00:00\", \"2015-08-12T00:00:00\", \"2015-08-13T00:00:00\", \"2015-08-14T00:00:00\", \"2015-08-18T00:00:00\", \"2015-08-19T00:00:00\", \"2015-08-20T00:00:00\", \"2015-08-21T00:00:00\", \"2015-08-24T00:00:00\", \"2015-08-25T00:00:00\", \"2015-08-26T00:00:00\", \"2015-08-27T00:00:00\", \"2015-08-28T00:00:00\", \"2015-08-31T00:00:00\", \"2015-09-01T00:00:00\", \"2015-09-02T00:00:00\", \"2015-09-03T00:00:00\", \"2015-09-04T00:00:00\", \"2015-09-07T00:00:00\", \"2015-09-08T00:00:00\", \"2015-09-09T00:00:00\", \"2015-09-10T00:00:00\", \"2015-09-11T00:00:00\", \"2015-09-14T00:00:00\", \"2015-09-15T00:00:00\", \"2015-09-16T00:00:00\", \"2015-09-17T00:00:00\", \"2015-09-18T00:00:00\", \"2015-09-21T00:00:00\", \"2015-09-22T00:00:00\", \"2015-09-23T00:00:00\", \"2015-09-25T00:00:00\", \"2015-09-28T00:00:00\", \"2015-09-29T00:00:00\", \"2015-09-30T00:00:00\", \"2015-10-01T00:00:00\", \"2015-10-02T00:00:00\", \"2015-10-05T00:00:00\", \"2015-10-06T00:00:00\", \"2015-10-07T00:00:00\", \"2015-10-08T00:00:00\", \"2015-10-09T00:00:00\", \"2015-10-12T00:00:00\", \"2015-10-13T00:00:00\", \"2015-10-15T00:00:00\", \"2015-10-16T00:00:00\", \"2015-10-19T00:00:00\", \"2015-10-20T00:00:00\", \"2015-10-21T00:00:00\", \"2015-10-22T00:00:00\", \"2015-10-23T00:00:00\", \"2015-10-26T00:00:00\", \"2015-10-27T00:00:00\", \"2015-10-28T00:00:00\", \"2015-10-29T00:00:00\", \"2015-10-30T00:00:00\", \"2015-11-02T00:00:00\", \"2015-11-03T00:00:00\", \"2015-11-04T00:00:00\", \"2015-11-05T00:00:00\", \"2015-11-06T00:00:00\", \"2015-11-09T00:00:00\", \"2015-11-10T00:00:00\", \"2015-11-11T00:00:00\", \"2015-11-12T00:00:00\", \"2015-11-13T00:00:00\", \"2015-11-16T00:00:00\", \"2015-11-17T00:00:00\", \"2015-11-18T00:00:00\", \"2015-11-19T00:00:00\", \"2015-11-20T00:00:00\", \"2015-11-23T00:00:00\", \"2015-11-24T00:00:00\", \"2015-11-25T00:00:00\", \"2015-11-26T00:00:00\", \"2015-11-27T00:00:00\", \"2015-11-30T00:00:00\", \"2015-12-01T00:00:00\", \"2015-12-02T00:00:00\", \"2015-12-03T00:00:00\", \"2015-12-04T00:00:00\", \"2015-12-07T00:00:00\", \"2015-12-08T00:00:00\", \"2015-12-09T00:00:00\", \"2015-12-10T00:00:00\", \"2015-12-11T00:00:00\", \"2015-12-14T00:00:00\", \"2015-12-15T00:00:00\", \"2015-12-16T00:00:00\", \"2015-12-17T00:00:00\", \"2015-12-18T00:00:00\", \"2015-12-21T00:00:00\", \"2015-12-22T00:00:00\", \"2015-12-23T00:00:00\", \"2015-12-28T00:00:00\", \"2015-12-29T00:00:00\", \"2015-12-30T00:00:00\", \"2016-01-04T00:00:00\", \"2016-01-05T00:00:00\", \"2016-01-06T00:00:00\", \"2016-01-07T00:00:00\", \"2016-01-08T00:00:00\", \"2016-01-11T00:00:00\", \"2016-01-12T00:00:00\", \"2016-01-13T00:00:00\", \"2016-01-14T00:00:00\", \"2016-01-15T00:00:00\", \"2016-01-18T00:00:00\", \"2016-01-19T00:00:00\", \"2016-01-20T00:00:00\", \"2016-01-21T00:00:00\", \"2016-01-22T00:00:00\", \"2016-01-25T00:00:00\", \"2016-01-26T00:00:00\", \"2016-01-27T00:00:00\", \"2016-01-28T00:00:00\", \"2016-01-29T00:00:00\", \"2016-02-01T00:00:00\", \"2016-02-02T00:00:00\", \"2016-02-03T00:00:00\", \"2016-02-04T00:00:00\", \"2016-02-05T00:00:00\", \"2016-02-09T00:00:00\", \"2016-02-10T00:00:00\", \"2016-02-11T00:00:00\", \"2016-02-12T00:00:00\", \"2016-02-15T00:00:00\", \"2016-02-16T00:00:00\", \"2016-02-17T00:00:00\", \"2016-02-18T00:00:00\", \"2016-02-19T00:00:00\", \"2016-02-22T00:00:00\", \"2016-02-23T00:00:00\", \"2016-02-24T00:00:00\", \"2016-02-25T00:00:00\", \"2016-02-26T00:00:00\", \"2016-02-29T00:00:00\", \"2016-03-01T00:00:00\", \"2016-03-02T00:00:00\", \"2016-03-03T00:00:00\", \"2016-03-04T00:00:00\", \"2016-03-07T00:00:00\", \"2016-03-08T00:00:00\", \"2016-03-10T00:00:00\", \"2016-03-11T00:00:00\", \"2016-03-14T00:00:00\", \"2016-03-15T00:00:00\", \"2016-03-16T00:00:00\", \"2016-03-17T00:00:00\", \"2016-03-18T00:00:00\", \"2016-03-21T00:00:00\", \"2016-03-22T00:00:00\", \"2016-03-23T00:00:00\", \"2016-03-24T00:00:00\", \"2016-03-28T00:00:00\", \"2016-03-29T00:00:00\", \"2016-03-30T00:00:00\", \"2016-03-31T00:00:00\", \"2016-04-01T00:00:00\", \"2016-04-04T00:00:00\", \"2016-04-05T00:00:00\", \"2016-04-06T00:00:00\", \"2016-04-07T00:00:00\", \"2016-04-08T00:00:00\", \"2016-04-11T00:00:00\", \"2016-04-12T00:00:00\", \"2016-04-13T00:00:00\", \"2016-04-14T00:00:00\", \"2016-04-15T00:00:00\", \"2016-04-18T00:00:00\", \"2016-04-19T00:00:00\", \"2016-04-20T00:00:00\", \"2016-04-21T00:00:00\", \"2016-04-22T00:00:00\", \"2016-04-25T00:00:00\", \"2016-04-26T00:00:00\", \"2016-04-27T00:00:00\", \"2016-04-28T00:00:00\", \"2016-04-29T00:00:00\", \"2016-05-02T00:00:00\", \"2016-05-03T00:00:00\", \"2016-05-04T00:00:00\", \"2016-05-09T00:00:00\", \"2016-05-10T00:00:00\", \"2016-05-11T00:00:00\", \"2016-05-12T00:00:00\", \"2016-05-13T00:00:00\", \"2016-05-16T00:00:00\", \"2016-05-17T00:00:00\", \"2016-05-18T00:00:00\", \"2016-05-19T00:00:00\", \"2016-05-20T00:00:00\", \"2016-05-23T00:00:00\", \"2016-05-24T00:00:00\", \"2016-05-25T00:00:00\", \"2016-05-26T00:00:00\", \"2016-05-27T00:00:00\", \"2016-05-30T00:00:00\", \"2016-05-31T00:00:00\", \"2016-06-01T00:00:00\", \"2016-06-02T00:00:00\", \"2016-06-03T00:00:00\", \"2016-06-06T00:00:00\", \"2016-06-07T00:00:00\", \"2016-06-08T00:00:00\", \"2016-06-09T00:00:00\", \"2016-06-10T00:00:00\", \"2016-06-13T00:00:00\", \"2016-06-14T00:00:00\", \"2016-06-15T00:00:00\", \"2016-06-16T00:00:00\", \"2016-06-17T00:00:00\", \"2016-06-20T00:00:00\", \"2016-06-21T00:00:00\", \"2016-06-22T00:00:00\", \"2016-06-23T00:00:00\", \"2016-06-24T00:00:00\", \"2016-06-27T00:00:00\", \"2016-06-28T00:00:00\", \"2016-06-29T00:00:00\", \"2016-06-30T00:00:00\", \"2016-07-01T00:00:00\", \"2016-07-11T00:00:00\", \"2016-07-12T00:00:00\", \"2016-07-13T00:00:00\", \"2016-07-14T00:00:00\", \"2016-07-15T00:00:00\", \"2016-07-18T00:00:00\", \"2016-07-19T00:00:00\", \"2016-07-20T00:00:00\", \"2016-07-21T00:00:00\", \"2016-07-22T00:00:00\", \"2016-07-25T00:00:00\", \"2016-07-26T00:00:00\", \"2016-07-27T00:00:00\", \"2016-07-28T00:00:00\", \"2016-07-29T00:00:00\", \"2016-08-01T00:00:00\", \"2016-08-02T00:00:00\", \"2016-08-03T00:00:00\", \"2016-08-04T00:00:00\", \"2016-08-05T00:00:00\", \"2016-08-08T00:00:00\", \"2016-08-09T00:00:00\", \"2016-08-10T00:00:00\", \"2016-08-11T00:00:00\", \"2016-08-12T00:00:00\", \"2016-08-15T00:00:00\", \"2016-08-16T00:00:00\", \"2016-08-18T00:00:00\", \"2016-08-19T00:00:00\", \"2016-08-22T00:00:00\", \"2016-08-23T00:00:00\", \"2016-08-24T00:00:00\", \"2016-08-25T00:00:00\", \"2016-08-26T00:00:00\", \"2016-08-29T00:00:00\", \"2016-08-30T00:00:00\", \"2016-08-31T00:00:00\", \"2016-09-01T00:00:00\", \"2016-09-02T00:00:00\", \"2016-09-05T00:00:00\", \"2016-09-06T00:00:00\", \"2016-09-07T00:00:00\", \"2016-09-08T00:00:00\", \"2016-09-09T00:00:00\", \"2016-09-13T00:00:00\", \"2016-09-14T00:00:00\", \"2016-09-15T00:00:00\", \"2016-09-16T00:00:00\", \"2016-09-19T00:00:00\", \"2016-09-20T00:00:00\", \"2016-09-21T00:00:00\", \"2016-09-22T00:00:00\", \"2016-09-23T00:00:00\", \"2016-09-26T00:00:00\", \"2016-09-27T00:00:00\", \"2016-09-28T00:00:00\", \"2016-09-29T00:00:00\", \"2016-09-30T00:00:00\", \"2016-10-03T00:00:00\", \"2016-10-04T00:00:00\", \"2016-10-05T00:00:00\", \"2016-10-06T00:00:00\", \"2016-10-07T00:00:00\", \"2016-10-10T00:00:00\", \"2016-10-11T00:00:00\", \"2016-10-12T00:00:00\", \"2016-10-13T00:00:00\", \"2016-10-14T00:00:00\", \"2016-10-17T00:00:00\", \"2016-10-18T00:00:00\", \"2016-10-19T00:00:00\", \"2016-10-20T00:00:00\", \"2016-10-21T00:00:00\", \"2016-10-24T00:00:00\", \"2016-10-25T00:00:00\", \"2016-10-26T00:00:00\", \"2016-10-27T00:00:00\", \"2016-10-28T00:00:00\", \"2016-10-31T00:00:00\", \"2016-11-01T00:00:00\", \"2016-11-02T00:00:00\", \"2016-11-03T00:00:00\", \"2016-11-04T00:00:00\", \"2016-11-07T00:00:00\", \"2016-11-08T00:00:00\", \"2016-11-09T00:00:00\", \"2016-11-10T00:00:00\", \"2016-11-11T00:00:00\", \"2016-11-14T00:00:00\", \"2016-11-15T00:00:00\", \"2016-11-16T00:00:00\", \"2016-11-17T00:00:00\", \"2016-11-18T00:00:00\", \"2016-11-21T00:00:00\", \"2016-11-22T00:00:00\", \"2016-11-23T00:00:00\", \"2016-11-24T00:00:00\", \"2016-11-25T00:00:00\", \"2016-11-28T00:00:00\", \"2016-11-29T00:00:00\", \"2016-11-30T00:00:00\", \"2016-12-01T00:00:00\", \"2016-12-02T00:00:00\", \"2016-12-05T00:00:00\", \"2016-12-06T00:00:00\", \"2016-12-07T00:00:00\", \"2016-12-08T00:00:00\", \"2016-12-09T00:00:00\", \"2016-12-13T00:00:00\", \"2016-12-14T00:00:00\", \"2016-12-15T00:00:00\", \"2016-12-16T00:00:00\", \"2016-12-19T00:00:00\", \"2016-12-20T00:00:00\", \"2016-12-21T00:00:00\", \"2016-12-22T00:00:00\", \"2016-12-23T00:00:00\", \"2016-12-27T00:00:00\", \"2016-12-28T00:00:00\", \"2016-12-29T00:00:00\", \"2016-12-30T00:00:00\", \"2017-01-02T00:00:00\", \"2017-01-03T00:00:00\", \"2017-01-04T00:00:00\", \"2017-01-05T00:00:00\", \"2017-01-06T00:00:00\", \"2017-01-09T00:00:00\", \"2017-01-10T00:00:00\", \"2017-01-11T00:00:00\", \"2017-01-12T00:00:00\", \"2017-01-13T00:00:00\", \"2017-01-16T00:00:00\", \"2017-01-17T00:00:00\", \"2017-01-18T00:00:00\", \"2017-01-19T00:00:00\", \"2017-01-20T00:00:00\", \"2017-01-23T00:00:00\", \"2017-01-24T00:00:00\", \"2017-01-25T00:00:00\", \"2017-01-26T00:00:00\", \"2017-01-27T00:00:00\", \"2017-01-30T00:00:00\", \"2017-01-31T00:00:00\", \"2017-02-01T00:00:00\", \"2017-02-02T00:00:00\", \"2017-02-03T00:00:00\", \"2017-02-06T00:00:00\", \"2017-02-07T00:00:00\", \"2017-02-08T00:00:00\", \"2017-02-09T00:00:00\", \"2017-02-10T00:00:00\", \"2017-02-13T00:00:00\", \"2017-02-14T00:00:00\", \"2017-02-15T00:00:00\", \"2017-02-16T00:00:00\", \"2017-02-17T00:00:00\", \"2017-02-20T00:00:00\", \"2017-02-21T00:00:00\", \"2017-02-22T00:00:00\", \"2017-02-23T00:00:00\", \"2017-02-24T00:00:00\", \"2017-02-27T00:00:00\", \"2017-02-28T00:00:00\", \"2017-03-01T00:00:00\", \"2017-03-02T00:00:00\", \"2017-03-03T00:00:00\", \"2017-03-06T00:00:00\", \"2017-03-07T00:00:00\", \"2017-03-08T00:00:00\", \"2017-03-09T00:00:00\", \"2017-03-10T00:00:00\", \"2017-03-13T00:00:00\", \"2017-03-14T00:00:00\", \"2017-03-15T00:00:00\", \"2017-03-16T00:00:00\", \"2017-03-17T00:00:00\", \"2017-03-20T00:00:00\", \"2017-03-21T00:00:00\", \"2017-03-22T00:00:00\", \"2017-03-23T00:00:00\", \"2017-03-24T00:00:00\", \"2017-03-27T00:00:00\", \"2017-03-29T00:00:00\", \"2017-03-30T00:00:00\", \"2017-03-31T00:00:00\", \"2017-04-03T00:00:00\", \"2017-04-04T00:00:00\", \"2017-04-05T00:00:00\", \"2017-04-06T00:00:00\", \"2017-04-07T00:00:00\", \"2017-04-10T00:00:00\", \"2017-04-11T00:00:00\", \"2017-04-12T00:00:00\", \"2017-04-13T00:00:00\", \"2017-04-17T00:00:00\", \"2017-04-18T00:00:00\", \"2017-04-19T00:00:00\", \"2017-04-20T00:00:00\", \"2017-04-21T00:00:00\", \"2017-04-25T00:00:00\", \"2017-04-26T00:00:00\", \"2017-04-27T00:00:00\", \"2017-04-28T00:00:00\", \"2017-05-02T00:00:00\", \"2017-05-03T00:00:00\", \"2017-05-04T00:00:00\", \"2017-05-05T00:00:00\", \"2017-05-08T00:00:00\", \"2017-05-09T00:00:00\", \"2017-05-10T00:00:00\", \"2017-05-12T00:00:00\", \"2017-05-15T00:00:00\", \"2017-05-16T00:00:00\", \"2017-05-17T00:00:00\", \"2017-05-18T00:00:00\", \"2017-05-19T00:00:00\", \"2017-05-22T00:00:00\", \"2017-05-23T00:00:00\", \"2017-05-24T00:00:00\", \"2017-05-26T00:00:00\", \"2017-05-29T00:00:00\", \"2017-05-30T00:00:00\", \"2017-05-31T00:00:00\", \"2017-06-01T00:00:00\", \"2017-06-02T00:00:00\", \"2017-06-05T00:00:00\", \"2017-06-06T00:00:00\", \"2017-06-07T00:00:00\", \"2017-06-08T00:00:00\", \"2017-06-09T00:00:00\", \"2017-06-12T00:00:00\", \"2017-06-13T00:00:00\", \"2017-06-14T00:00:00\", \"2017-06-15T00:00:00\", \"2017-06-16T00:00:00\", \"2017-06-19T00:00:00\", \"2017-06-20T00:00:00\", \"2017-06-21T00:00:00\", \"2017-06-22T00:00:00\", \"2017-06-23T00:00:00\", \"2017-06-26T00:00:00\", \"2017-06-27T00:00:00\", \"2017-06-28T00:00:00\", \"2017-06-29T00:00:00\", \"2017-06-30T00:00:00\", \"2017-07-03T00:00:00\", \"2017-07-04T00:00:00\", \"2017-07-05T00:00:00\", \"2017-07-06T00:00:00\", \"2017-07-07T00:00:00\", \"2017-07-10T00:00:00\", \"2017-07-11T00:00:00\", \"2017-07-12T00:00:00\", \"2017-07-13T00:00:00\", \"2017-07-14T00:00:00\", \"2017-07-17T00:00:00\", \"2017-07-18T00:00:00\", \"2017-07-19T00:00:00\", \"2017-07-20T00:00:00\", \"2017-07-21T00:00:00\", \"2017-07-24T00:00:00\", \"2017-07-25T00:00:00\", \"2017-07-26T00:00:00\", \"2017-07-27T00:00:00\", \"2017-07-28T00:00:00\", \"2017-07-31T00:00:00\", \"2017-08-01T00:00:00\", \"2017-08-02T00:00:00\", \"2017-08-03T00:00:00\", \"2017-08-04T00:00:00\", \"2017-08-07T00:00:00\", \"2017-08-08T00:00:00\", \"2017-08-09T00:00:00\", \"2017-08-10T00:00:00\", \"2017-08-11T00:00:00\", \"2017-08-14T00:00:00\", \"2017-08-15T00:00:00\", \"2017-08-16T00:00:00\", \"2017-08-17T00:00:00\", \"2017-08-18T00:00:00\", \"2017-08-21T00:00:00\", \"2017-08-22T00:00:00\", \"2017-08-23T00:00:00\", \"2017-08-24T00:00:00\", \"2017-08-25T00:00:00\", \"2017-08-28T00:00:00\", \"2017-08-29T00:00:00\", \"2017-08-30T00:00:00\", \"2017-08-31T00:00:00\", \"2017-09-01T00:00:00\", \"2017-09-04T00:00:00\", \"2017-09-05T00:00:00\", \"2017-09-06T00:00:00\", \"2017-09-07T00:00:00\", \"2017-09-08T00:00:00\", \"2017-09-11T00:00:00\", \"2017-09-12T00:00:00\", \"2017-09-13T00:00:00\", \"2017-09-14T00:00:00\", \"2017-09-15T00:00:00\", \"2017-09-18T00:00:00\", \"2017-09-19T00:00:00\", \"2017-09-20T00:00:00\", \"2017-09-21T00:00:00\", \"2017-09-22T00:00:00\", \"2017-09-25T00:00:00\", \"2017-09-26T00:00:00\", \"2017-09-27T00:00:00\", \"2017-09-28T00:00:00\", \"2017-09-29T00:00:00\", \"2017-10-02T00:00:00\", \"2017-10-03T00:00:00\", \"2017-10-04T00:00:00\", \"2017-10-05T00:00:00\", \"2017-10-06T00:00:00\", \"2017-10-09T00:00:00\", \"2017-10-10T00:00:00\", \"2017-10-11T00:00:00\", \"2017-10-12T00:00:00\", \"2017-10-13T00:00:00\", \"2017-10-16T00:00:00\", \"2017-10-17T00:00:00\", \"2017-10-18T00:00:00\", \"2017-10-19T00:00:00\", \"2017-10-20T00:00:00\", \"2017-10-23T00:00:00\", \"2017-10-24T00:00:00\", \"2017-10-25T00:00:00\", \"2017-10-26T00:00:00\", \"2017-10-27T00:00:00\", \"2017-10-30T00:00:00\", \"2017-10-31T00:00:00\", \"2017-11-01T00:00:00\", \"2017-11-02T00:00:00\", \"2017-11-03T00:00:00\", \"2017-11-06T00:00:00\", \"2017-11-07T00:00:00\", \"2017-11-08T00:00:00\", \"2017-11-09T00:00:00\", \"2017-11-10T00:00:00\", \"2017-11-13T00:00:00\", \"2017-11-14T00:00:00\", \"2017-11-15T00:00:00\", \"2017-11-16T00:00:00\", \"2017-11-17T00:00:00\", \"2017-11-20T00:00:00\", \"2017-11-21T00:00:00\", \"2017-11-22T00:00:00\", \"2017-11-23T00:00:00\", \"2017-11-24T00:00:00\", \"2017-11-27T00:00:00\", \"2017-11-28T00:00:00\", \"2017-11-29T00:00:00\", \"2017-11-30T00:00:00\", \"2017-12-01T00:00:00\", \"2017-12-04T00:00:00\", \"2017-12-05T00:00:00\", \"2017-12-06T00:00:00\", \"2017-12-07T00:00:00\", \"2017-12-08T00:00:00\", \"2017-12-11T00:00:00\", \"2017-12-12T00:00:00\", \"2017-12-13T00:00:00\", \"2017-12-14T00:00:00\", \"2017-12-15T00:00:00\", \"2017-12-18T00:00:00\", \"2017-12-19T00:00:00\", \"2017-12-20T00:00:00\", \"2017-12-21T00:00:00\", \"2017-12-22T00:00:00\", \"2017-12-25T00:00:00\", \"2017-12-26T00:00:00\", \"2017-12-27T00:00:00\", \"2017-12-28T00:00:00\", \"2017-12-29T00:00:00\", \"2018-01-01T00:00:00\", \"2018-01-02T00:00:00\", \"2018-01-03T00:00:00\", \"2018-01-04T00:00:00\", \"2018-01-05T00:00:00\", \"2018-01-08T00:00:00\", \"2018-01-09T00:00:00\", \"2018-01-10T00:00:00\", \"2018-01-11T00:00:00\", \"2018-01-12T00:00:00\", \"2018-01-15T00:00:00\", \"2018-01-16T00:00:00\", \"2018-01-17T00:00:00\", \"2018-01-18T00:00:00\", \"2018-01-19T00:00:00\", \"2018-01-22T00:00:00\", \"2018-01-23T00:00:00\", \"2018-01-24T00:00:00\", \"2018-01-25T00:00:00\", \"2018-01-26T00:00:00\", \"2018-01-29T00:00:00\", \"2018-01-30T00:00:00\", \"2018-01-31T00:00:00\", \"2018-02-01T00:00:00\", \"2018-02-02T00:00:00\", \"2018-02-05T00:00:00\", \"2018-02-06T00:00:00\", \"2018-02-07T00:00:00\", \"2018-02-08T00:00:00\", \"2018-02-09T00:00:00\", \"2018-02-12T00:00:00\", \"2018-02-13T00:00:00\", \"2018-02-14T00:00:00\", \"2018-02-15T00:00:00\", \"2018-02-16T00:00:00\", \"2018-02-19T00:00:00\", \"2018-02-20T00:00:00\", \"2018-02-21T00:00:00\", \"2018-02-22T00:00:00\", \"2018-02-23T00:00:00\", \"2018-02-26T00:00:00\", \"2018-02-27T00:00:00\", \"2018-02-28T00:00:00\", \"2018-03-01T00:00:00\", \"2018-03-02T00:00:00\", \"2018-03-05T00:00:00\", \"2018-03-06T00:00:00\", \"2018-03-07T00:00:00\", \"2018-03-08T00:00:00\", \"2018-03-09T00:00:00\", \"2018-03-12T00:00:00\", \"2018-03-13T00:00:00\", \"2018-03-14T00:00:00\", \"2018-03-15T00:00:00\", \"2018-03-16T00:00:00\", \"2018-03-19T00:00:00\", \"2018-03-20T00:00:00\", \"2018-03-21T00:00:00\", \"2018-03-22T00:00:00\", \"2018-03-23T00:00:00\", \"2018-03-26T00:00:00\", \"2018-03-27T00:00:00\", \"2018-03-28T00:00:00\", \"2018-03-29T00:00:00\", \"2018-03-30T00:00:00\", \"2018-04-02T00:00:00\", \"2018-04-03T00:00:00\", \"2018-04-04T00:00:00\", \"2018-04-05T00:00:00\", \"2018-04-06T00:00:00\", \"2018-04-09T00:00:00\", \"2018-04-10T00:00:00\", \"2018-04-11T00:00:00\", \"2018-04-12T00:00:00\", \"2018-04-13T00:00:00\", \"2018-04-16T00:00:00\", \"2018-04-17T00:00:00\", \"2018-04-18T00:00:00\", \"2018-04-19T00:00:00\", \"2018-04-20T00:00:00\", \"2018-04-23T00:00:00\", \"2018-04-24T00:00:00\", \"2018-04-25T00:00:00\", \"2018-04-26T00:00:00\", \"2018-04-27T00:00:00\", \"2018-04-30T00:00:00\", \"2018-05-01T00:00:00\", \"2018-05-02T00:00:00\", \"2018-05-03T00:00:00\", \"2018-05-04T00:00:00\", \"2018-05-07T00:00:00\", \"2018-05-08T00:00:00\", \"2018-05-09T00:00:00\", \"2018-05-10T00:00:00\", \"2018-05-11T00:00:00\", \"2018-05-14T00:00:00\", \"2018-05-15T00:00:00\", \"2018-05-16T00:00:00\", \"2018-05-17T00:00:00\", \"2018-05-18T00:00:00\", \"2018-05-21T00:00:00\", \"2018-05-22T00:00:00\", \"2018-05-23T00:00:00\", \"2018-05-24T00:00:00\", \"2018-05-25T00:00:00\", \"2018-05-28T00:00:00\", \"2018-05-29T00:00:00\", \"2018-05-30T00:00:00\", \"2018-05-31T00:00:00\", \"2018-06-01T00:00:00\", \"2018-06-04T00:00:00\", \"2018-06-05T00:00:00\", \"2018-06-06T00:00:00\", \"2018-06-07T00:00:00\", \"2018-06-08T00:00:00\", \"2018-06-11T00:00:00\", \"2018-06-12T00:00:00\", \"2018-06-13T00:00:00\", \"2018-06-14T00:00:00\", \"2018-06-15T00:00:00\", \"2018-06-18T00:00:00\", \"2018-06-19T00:00:00\", \"2018-06-20T00:00:00\", \"2018-06-21T00:00:00\", \"2018-06-22T00:00:00\", \"2018-06-25T00:00:00\", \"2018-06-26T00:00:00\", \"2018-06-27T00:00:00\", \"2018-06-28T00:00:00\", \"2018-06-29T00:00:00\", \"2018-07-02T00:00:00\", \"2018-07-03T00:00:00\", \"2018-07-04T00:00:00\", \"2018-07-05T00:00:00\", \"2018-07-06T00:00:00\", \"2018-07-09T00:00:00\", \"2018-07-10T00:00:00\", \"2018-07-11T00:00:00\", \"2018-07-12T00:00:00\", \"2018-07-13T00:00:00\", \"2018-07-16T00:00:00\", \"2018-07-17T00:00:00\", \"2018-07-18T00:00:00\", \"2018-07-19T00:00:00\", \"2018-07-20T00:00:00\", \"2018-07-23T00:00:00\", \"2018-07-24T00:00:00\", \"2018-07-25T00:00:00\", \"2018-07-26T00:00:00\", \"2018-07-27T00:00:00\", \"2018-07-30T00:00:00\", \"2018-07-31T00:00:00\", \"2018-08-01T00:00:00\", \"2018-08-02T00:00:00\", \"2018-08-03T00:00:00\", \"2018-08-06T00:00:00\", \"2018-08-07T00:00:00\", \"2018-08-08T00:00:00\", \"2018-08-09T00:00:00\", \"2018-08-10T00:00:00\", \"2018-08-13T00:00:00\", \"2018-08-14T00:00:00\", \"2018-08-15T00:00:00\", \"2018-08-16T00:00:00\", \"2018-08-17T00:00:00\", \"2018-08-20T00:00:00\", \"2018-08-21T00:00:00\", \"2018-08-22T00:00:00\", \"2018-08-23T00:00:00\", \"2018-08-24T00:00:00\", \"2018-08-27T00:00:00\", \"2018-08-28T00:00:00\", \"2018-08-29T00:00:00\", \"2018-08-30T00:00:00\", \"2018-08-31T00:00:00\", \"2018-09-03T00:00:00\", \"2018-09-04T00:00:00\", \"2018-09-05T00:00:00\", \"2018-09-06T00:00:00\", \"2018-09-07T00:00:00\", \"2018-09-10T00:00:00\", \"2018-09-11T00:00:00\", \"2018-09-12T00:00:00\", \"2018-09-13T00:00:00\", \"2018-09-14T00:00:00\", \"2018-09-17T00:00:00\", \"2018-09-18T00:00:00\", \"2018-09-19T00:00:00\", \"2018-09-20T00:00:00\", \"2018-09-21T00:00:00\", \"2018-09-24T00:00:00\", \"2018-09-25T00:00:00\", \"2018-09-26T00:00:00\", \"2018-09-27T00:00:00\", \"2018-09-28T00:00:00\", \"2018-10-01T00:00:00\", \"2018-10-02T00:00:00\", \"2018-10-03T00:00:00\", \"2018-10-04T00:00:00\", \"2018-10-05T00:00:00\", \"2018-10-08T00:00:00\", \"2018-10-09T00:00:00\", \"2018-10-10T00:00:00\", \"2018-10-11T00:00:00\", \"2018-10-12T00:00:00\", \"2018-10-15T00:00:00\", \"2018-10-16T00:00:00\", \"2018-10-17T00:00:00\", \"2018-10-18T00:00:00\", \"2018-10-19T00:00:00\", \"2018-10-22T00:00:00\", \"2018-10-23T00:00:00\", \"2018-10-24T00:00:00\", \"2018-10-25T00:00:00\", \"2018-10-26T00:00:00\", \"2018-10-29T00:00:00\", \"2018-10-30T00:00:00\", \"2018-10-31T00:00:00\", \"2018-11-01T00:00:00\", \"2018-11-02T00:00:00\", \"2018-11-05T00:00:00\", \"2018-11-06T00:00:00\", \"2018-11-07T00:00:00\", \"2018-11-08T00:00:00\", \"2018-11-09T00:00:00\", \"2018-11-12T00:00:00\", \"2018-11-13T00:00:00\", \"2018-11-14T00:00:00\", \"2018-11-15T00:00:00\", \"2018-11-16T00:00:00\", \"2018-11-19T00:00:00\", \"2018-11-20T00:00:00\", \"2018-11-21T00:00:00\", \"2018-11-22T00:00:00\", \"2018-11-23T00:00:00\", \"2018-11-26T00:00:00\", \"2018-11-27T00:00:00\", \"2018-11-28T00:00:00\", \"2018-11-29T00:00:00\", \"2018-11-30T00:00:00\", \"2018-12-03T00:00:00\", \"2018-12-04T00:00:00\", \"2018-12-05T00:00:00\", \"2018-12-06T00:00:00\", \"2018-12-07T00:00:00\", \"2018-12-10T00:00:00\", \"2018-12-11T00:00:00\", \"2018-12-12T00:00:00\", \"2018-12-13T00:00:00\", \"2018-12-14T00:00:00\", \"2018-12-17T00:00:00\", \"2018-12-18T00:00:00\", \"2018-12-19T00:00:00\", \"2018-12-20T00:00:00\", \"2018-12-21T00:00:00\", \"2018-12-24T00:00:00\", \"2018-12-25T00:00:00\", \"2018-12-26T00:00:00\", \"2018-12-27T00:00:00\", \"2018-12-28T00:00:00\", \"2018-12-31T00:00:00\", \"2019-01-01T00:00:00\", \"2019-01-02T00:00:00\", \"2019-01-03T00:00:00\", \"2019-01-04T00:00:00\", \"2019-01-07T00:00:00\", \"2019-01-08T00:00:00\", \"2019-01-09T00:00:00\", \"2019-01-10T00:00:00\", \"2019-01-11T00:00:00\", \"2019-01-14T00:00:00\", \"2019-01-15T00:00:00\", \"2019-01-16T00:00:00\", \"2019-01-17T00:00:00\", \"2019-01-18T00:00:00\", \"2019-01-21T00:00:00\", \"2019-01-22T00:00:00\", \"2019-01-23T00:00:00\", \"2019-01-24T00:00:00\", \"2019-01-25T00:00:00\", \"2019-01-28T00:00:00\", \"2019-01-29T00:00:00\", \"2019-01-30T00:00:00\", \"2019-01-31T00:00:00\", \"2019-02-01T00:00:00\", \"2019-02-04T00:00:00\", \"2019-02-05T00:00:00\", \"2019-02-06T00:00:00\", \"2019-02-07T00:00:00\", \"2019-02-08T00:00:00\", \"2019-02-11T00:00:00\", \"2019-02-12T00:00:00\", \"2019-02-13T00:00:00\", \"2019-02-14T00:00:00\", \"2019-02-15T00:00:00\", \"2019-02-18T00:00:00\", \"2019-02-19T00:00:00\", \"2019-02-20T00:00:00\", \"2019-02-21T00:00:00\", \"2019-02-22T00:00:00\", \"2019-02-25T00:00:00\", \"2019-02-26T00:00:00\", \"2019-02-27T00:00:00\", \"2019-02-28T00:00:00\", \"2019-03-01T00:00:00\", \"2019-03-04T00:00:00\", \"2019-03-05T00:00:00\", \"2019-03-06T00:00:00\", \"2019-03-07T00:00:00\", \"2019-03-08T00:00:00\", \"2019-03-11T00:00:00\", \"2019-03-12T00:00:00\", \"2019-03-13T00:00:00\", \"2019-03-14T00:00:00\", \"2019-03-15T00:00:00\", \"2019-03-18T00:00:00\", \"2019-03-19T00:00:00\", \"2019-03-20T00:00:00\", \"2019-03-21T00:00:00\", \"2019-03-22T00:00:00\", \"2019-03-25T00:00:00\", \"2019-03-26T00:00:00\", \"2019-03-27T00:00:00\", \"2019-03-28T00:00:00\", \"2019-03-29T00:00:00\", \"2019-04-01T00:00:00\", \"2019-04-02T00:00:00\", \"2019-04-03T00:00:00\", \"2019-04-04T00:00:00\", \"2019-04-05T00:00:00\", \"2019-04-08T00:00:00\", \"2019-04-09T00:00:00\", \"2019-04-10T00:00:00\", \"2019-04-11T00:00:00\", \"2019-04-12T00:00:00\", \"2019-04-15T00:00:00\", \"2019-04-16T00:00:00\", \"2019-04-17T00:00:00\", \"2019-04-18T00:00:00\", \"2019-04-19T00:00:00\", \"2019-04-22T00:00:00\", \"2019-04-23T00:00:00\", \"2019-04-24T00:00:00\", \"2019-04-25T00:00:00\", \"2019-04-26T00:00:00\", \"2019-04-29T00:00:00\", \"2019-04-30T00:00:00\", \"2019-05-01T00:00:00\", \"2019-05-02T00:00:00\", \"2019-05-03T00:00:00\", \"2019-05-06T00:00:00\", \"2019-05-07T00:00:00\", \"2019-05-08T00:00:00\", \"2019-05-09T00:00:00\", \"2019-05-10T00:00:00\", \"2019-05-13T00:00:00\", \"2019-05-14T00:00:00\", \"2019-05-15T00:00:00\", \"2019-05-16T00:00:00\", \"2019-05-17T00:00:00\", \"2019-05-20T00:00:00\", \"2019-05-21T00:00:00\", \"2019-05-22T00:00:00\", \"2019-05-23T00:00:00\", \"2019-05-24T00:00:00\", \"2019-05-27T00:00:00\", \"2019-05-28T00:00:00\", \"2019-05-29T00:00:00\", \"2019-05-30T00:00:00\", \"2019-05-31T00:00:00\", \"2019-06-03T00:00:00\", \"2019-06-04T00:00:00\", \"2019-06-05T00:00:00\", \"2019-06-06T00:00:00\", \"2019-06-07T00:00:00\", \"2019-06-10T00:00:00\", \"2019-06-11T00:00:00\", \"2019-06-12T00:00:00\", \"2019-06-13T00:00:00\", \"2019-06-14T00:00:00\", \"2019-06-17T00:00:00\", \"2019-06-18T00:00:00\", \"2019-06-20T00:00:00\", \"2019-06-21T00:00:00\", \"2019-06-24T00:00:00\", \"2019-06-25T00:00:00\", \"2019-06-26T00:00:00\", \"2019-06-27T00:00:00\", \"2019-06-28T00:00:00\", \"2019-07-01T00:00:00\", \"2019-07-02T00:00:00\", \"2019-07-03T00:00:00\", \"2019-07-04T00:00:00\", \"2019-07-05T00:00:00\", \"2019-07-08T00:00:00\", \"2019-07-09T00:00:00\", \"2019-07-10T00:00:00\", \"2019-07-11T00:00:00\", \"2019-07-12T00:00:00\", \"2019-07-15T00:00:00\", \"2019-07-16T00:00:00\", \"2019-07-17T00:00:00\", \"2019-07-18T00:00:00\", \"2019-07-19T00:00:00\", \"2019-07-22T00:00:00\", \"2019-07-23T00:00:00\", \"2019-07-24T00:00:00\", \"2019-07-25T00:00:00\", \"2019-07-26T00:00:00\", \"2019-07-29T00:00:00\", \"2019-07-30T00:00:00\", \"2019-07-31T00:00:00\", \"2019-08-01T00:00:00\", \"2019-08-02T00:00:00\", \"2019-08-05T00:00:00\", \"2019-08-06T00:00:00\", \"2019-08-07T00:00:00\", \"2019-08-08T00:00:00\", \"2019-08-09T00:00:00\", \"2019-08-12T00:00:00\", \"2019-08-13T00:00:00\", \"2019-08-14T00:00:00\", \"2019-08-15T00:00:00\", \"2019-08-16T00:00:00\", \"2019-08-19T00:00:00\", \"2019-08-20T00:00:00\", \"2019-08-21T00:00:00\", \"2019-08-22T00:00:00\", \"2019-08-23T00:00:00\", \"2019-08-26T00:00:00\", \"2019-08-27T00:00:00\", \"2019-08-28T00:00:00\", \"2019-08-29T00:00:00\", \"2019-08-30T00:00:00\", \"2019-09-02T00:00:00\", \"2019-09-03T00:00:00\", \"2019-09-04T00:00:00\", \"2019-09-05T00:00:00\", \"2019-09-06T00:00:00\", \"2019-09-09T00:00:00\", \"2019-09-10T00:00:00\", \"2019-09-11T00:00:00\", \"2019-09-12T00:00:00\", \"2019-09-13T00:00:00\", \"2019-09-16T00:00:00\", \"2019-09-17T00:00:00\", \"2019-09-18T00:00:00\", \"2019-09-19T00:00:00\", \"2019-09-20T00:00:00\", \"2019-09-23T00:00:00\", \"2019-09-24T00:00:00\", \"2019-09-25T00:00:00\", \"2019-09-26T00:00:00\", \"2019-09-27T00:00:00\", \"2019-09-30T00:00:00\", \"2019-10-01T00:00:00\", \"2019-10-02T00:00:00\", \"2019-10-03T00:00:00\", \"2019-10-04T00:00:00\", \"2019-10-07T00:00:00\", \"2019-10-08T00:00:00\", \"2019-10-09T00:00:00\", \"2019-10-10T00:00:00\", \"2019-10-11T00:00:00\", \"2019-10-14T00:00:00\", \"2019-10-15T00:00:00\", \"2019-10-16T00:00:00\", \"2019-10-17T00:00:00\", \"2019-10-18T00:00:00\", \"2019-10-21T00:00:00\", \"2019-10-22T00:00:00\", \"2019-10-23T00:00:00\", \"2019-10-24T00:00:00\", \"2019-10-25T00:00:00\", \"2019-10-28T00:00:00\", \"2019-10-29T00:00:00\", \"2019-10-30T00:00:00\", \"2019-10-31T00:00:00\", \"2019-11-01T00:00:00\", \"2019-11-04T00:00:00\", \"2019-11-05T00:00:00\", \"2019-11-06T00:00:00\", \"2019-11-07T00:00:00\", \"2019-11-08T00:00:00\", \"2019-11-11T00:00:00\", \"2019-11-12T00:00:00\", \"2019-11-13T00:00:00\", \"2019-11-14T00:00:00\", \"2019-11-15T00:00:00\", \"2019-11-18T00:00:00\", \"2019-11-19T00:00:00\", \"2019-11-20T00:00:00\", \"2019-11-21T00:00:00\", \"2019-11-22T00:00:00\", \"2019-11-25T00:00:00\", \"2019-11-26T00:00:00\", \"2019-11-27T00:00:00\", \"2019-11-28T00:00:00\", \"2019-11-29T00:00:00\", \"2019-12-02T00:00:00\", \"2019-12-03T00:00:00\", \"2019-12-04T00:00:00\", \"2019-12-05T00:00:00\", \"2019-12-06T00:00:00\", \"2019-12-09T00:00:00\", \"2019-12-10T00:00:00\", \"2019-12-11T00:00:00\", \"2019-12-12T00:00:00\", \"2019-12-13T00:00:00\", \"2019-12-16T00:00:00\", \"2019-12-17T00:00:00\", \"2019-12-18T00:00:00\", \"2019-12-19T00:00:00\", \"2019-12-20T00:00:00\", \"2019-12-23T00:00:00\", \"2019-12-26T00:00:00\", \"2019-12-27T00:00:00\", \"2019-12-30T00:00:00\", \"2020-01-02T00:00:00\", \"2020-01-03T00:00:00\", \"2020-01-06T00:00:00\", \"2020-01-07T00:00:00\", \"2020-01-08T00:00:00\", \"2020-01-09T00:00:00\", \"2020-01-10T00:00:00\", \"2020-01-13T00:00:00\", \"2020-01-14T00:00:00\", \"2020-01-15T00:00:00\", \"2020-01-16T00:00:00\", \"2020-01-17T00:00:00\", \"2020-01-20T00:00:00\", \"2020-01-21T00:00:00\", \"2020-01-22T00:00:00\", \"2020-01-23T00:00:00\", \"2020-01-24T00:00:00\", \"2020-01-27T00:00:00\", \"2020-01-28T00:00:00\", \"2020-01-29T00:00:00\", \"2020-01-30T00:00:00\", \"2020-01-31T00:00:00\", \"2020-02-03T00:00:00\", \"2020-02-04T00:00:00\", \"2020-02-05T00:00:00\", \"2020-02-06T00:00:00\", \"2020-02-07T00:00:00\", \"2020-02-10T00:00:00\", \"2020-02-11T00:00:00\", \"2020-02-12T00:00:00\", \"2020-02-13T00:00:00\", \"2020-02-14T00:00:00\", \"2020-02-17T00:00:00\", \"2020-02-18T00:00:00\", \"2020-02-19T00:00:00\", \"2020-02-20T00:00:00\", \"2020-02-21T00:00:00\", \"2020-02-24T00:00:00\", \"2020-02-25T00:00:00\", \"2020-02-26T00:00:00\", \"2020-02-27T00:00:00\", \"2020-02-28T00:00:00\", \"2020-03-02T00:00:00\", \"2020-03-03T00:00:00\", \"2020-03-04T00:00:00\", \"2020-03-05T00:00:00\", \"2020-03-06T00:00:00\", \"2020-03-09T00:00:00\", \"2020-03-10T00:00:00\", \"2020-03-11T00:00:00\", \"2020-03-12T00:00:00\", \"2020-03-13T00:00:00\", \"2020-03-16T00:00:00\", \"2020-03-17T00:00:00\", \"2020-03-18T00:00:00\", \"2020-03-19T00:00:00\", \"2020-03-20T00:00:00\", \"2020-03-23T00:00:00\", \"2020-03-24T00:00:00\", \"2020-03-26T00:00:00\", \"2020-03-27T00:00:00\", \"2020-03-30T00:00:00\", \"2020-03-31T00:00:00\", \"2020-04-01T00:00:00\", \"2020-04-02T00:00:00\", \"2020-04-03T00:00:00\", \"2020-04-06T00:00:00\", \"2020-04-07T00:00:00\", \"2020-04-08T00:00:00\", \"2020-04-09T00:00:00\", \"2020-04-13T00:00:00\", \"2020-04-14T00:00:00\", \"2020-04-15T00:00:00\", \"2020-04-16T00:00:00\", \"2020-04-17T00:00:00\", \"2020-04-20T00:00:00\", \"2020-04-21T00:00:00\", \"2020-04-22T00:00:00\", \"2020-04-23T00:00:00\", \"2020-04-24T00:00:00\", \"2020-04-27T00:00:00\", \"2020-04-28T00:00:00\", \"2020-04-29T00:00:00\", \"2020-04-30T00:00:00\", \"2020-05-04T00:00:00\", \"2020-05-05T00:00:00\", \"2020-05-06T00:00:00\", \"2020-05-08T00:00:00\", \"2020-05-11T00:00:00\", \"2020-05-12T00:00:00\", \"2020-05-13T00:00:00\", \"2020-05-14T00:00:00\", \"2020-05-15T00:00:00\", \"2020-05-18T00:00:00\", \"2020-05-19T00:00:00\", \"2020-05-20T00:00:00\", \"2020-05-26T00:00:00\", \"2020-05-27T00:00:00\", \"2020-05-28T00:00:00\", \"2020-05-29T00:00:00\", \"2020-06-02T00:00:00\", \"2020-06-03T00:00:00\", \"2020-06-04T00:00:00\", \"2020-06-05T00:00:00\", \"2020-06-08T00:00:00\", \"2020-06-09T00:00:00\", \"2020-06-10T00:00:00\", \"2020-06-11T00:00:00\", \"2020-06-12T00:00:00\", \"2020-06-15T00:00:00\", \"2020-06-16T00:00:00\", \"2020-06-17T00:00:00\", \"2020-06-18T00:00:00\", \"2020-06-19T00:00:00\", \"2020-06-22T00:00:00\", \"2020-06-23T00:00:00\", \"2020-06-24T00:00:00\", \"2020-06-25T00:00:00\", \"2020-06-26T00:00:00\", \"2020-06-29T00:00:00\", \"2020-06-30T00:00:00\", \"2020-07-01T00:00:00\", \"2020-07-02T00:00:00\", \"2020-07-03T00:00:00\", \"2020-07-06T00:00:00\", \"2020-07-07T00:00:00\", \"2020-07-08T00:00:00\", \"2020-07-09T00:00:00\", \"2020-07-10T00:00:00\", \"2020-07-13T00:00:00\", \"2020-07-14T00:00:00\", \"2020-07-15T00:00:00\", \"2020-07-16T00:00:00\", \"2020-07-17T00:00:00\", \"2020-07-20T00:00:00\", \"2020-07-21T00:00:00\", \"2020-07-22T00:00:00\", \"2020-07-23T00:00:00\", \"2020-07-24T00:00:00\", \"2020-07-27T00:00:00\", \"2020-07-28T00:00:00\", \"2020-07-29T00:00:00\", \"2020-07-30T00:00:00\", \"2020-08-03T00:00:00\", \"2020-08-04T00:00:00\", \"2020-08-05T00:00:00\", \"2020-08-06T00:00:00\", \"2020-08-07T00:00:00\", \"2020-08-10T00:00:00\", \"2020-08-11T00:00:00\", \"2020-08-12T00:00:00\", \"2020-08-13T00:00:00\", \"2020-08-14T00:00:00\", \"2020-08-18T00:00:00\", \"2020-08-19T00:00:00\", \"2020-08-24T00:00:00\", \"2020-08-25T00:00:00\", \"2020-08-26T00:00:00\", \"2020-08-27T00:00:00\", \"2020-08-28T00:00:00\", \"2020-08-31T00:00:00\", \"2020-09-01T00:00:00\", \"2020-09-02T00:00:00\", \"2020-09-03T00:00:00\", \"2020-09-04T00:00:00\", \"2020-09-07T00:00:00\", \"2020-09-08T00:00:00\", \"2020-09-09T00:00:00\", \"2020-09-10T00:00:00\", \"2020-09-11T00:00:00\", \"2020-09-14T00:00:00\", \"2020-09-15T00:00:00\", \"2020-09-16T00:00:00\", \"2020-09-17T00:00:00\", \"2020-09-18T00:00:00\", \"2020-09-21T00:00:00\", \"2020-09-22T00:00:00\", \"2020-09-23T00:00:00\", \"2020-09-24T00:00:00\", \"2020-09-25T00:00:00\", \"2020-09-28T00:00:00\", \"2020-09-29T00:00:00\", \"2020-09-30T00:00:00\", \"2020-10-01T00:00:00\", \"2020-10-02T00:00:00\", \"2020-10-05T00:00:00\", \"2020-10-06T00:00:00\", \"2020-10-07T00:00:00\", \"2020-10-08T00:00:00\", \"2020-10-09T00:00:00\", \"2020-10-12T00:00:00\", \"2020-10-13T00:00:00\", \"2020-10-14T00:00:00\", \"2020-10-15T00:00:00\", \"2020-10-16T00:00:00\", \"2020-10-19T00:00:00\", \"2020-10-20T00:00:00\", \"2020-10-21T00:00:00\", \"2020-10-22T00:00:00\", \"2020-10-23T00:00:00\", \"2020-10-26T00:00:00\", \"2020-10-27T00:00:00\", \"2020-11-02T00:00:00\", \"2020-11-03T00:00:00\", \"2020-11-04T00:00:00\", \"2020-11-05T00:00:00\", \"2020-11-06T00:00:00\", \"2020-11-09T00:00:00\", \"2020-11-10T00:00:00\", \"2020-11-11T00:00:00\", \"2020-11-12T00:00:00\", \"2020-11-13T00:00:00\", \"2020-11-16T00:00:00\", \"2020-11-17T00:00:00\", \"2020-11-18T00:00:00\", \"2020-11-19T00:00:00\", \"2020-11-20T00:00:00\", \"2020-11-23T00:00:00\", \"2020-11-24T00:00:00\", \"2020-11-25T00:00:00\", \"2020-11-26T00:00:00\", \"2020-11-27T00:00:00\", \"2020-11-30T00:00:00\", \"2020-12-01T00:00:00\", \"2020-12-02T00:00:00\", \"2020-12-03T00:00:00\", \"2020-12-04T00:00:00\", \"2020-12-07T00:00:00\", \"2020-12-08T00:00:00\", \"2020-12-09T00:00:00\", \"2020-12-10T00:00:00\", \"2020-12-11T00:00:00\", \"2020-12-14T00:00:00\", \"2020-12-15T00:00:00\", \"2020-12-16T00:00:00\", \"2020-12-17T00:00:00\", \"2020-12-18T00:00:00\", \"2020-12-21T00:00:00\", \"2020-12-22T00:00:00\", \"2020-12-23T00:00:00\", \"2020-12-28T00:00:00\", \"2020-12-29T00:00:00\", \"2020-12-30T00:00:00\", \"2021-01-04T00:00:00\", \"2021-01-05T00:00:00\", \"2021-01-06T00:00:00\", \"2021-01-07T00:00:00\", \"2021-01-08T00:00:00\", \"2021-01-11T00:00:00\", \"2021-01-12T00:00:00\", \"2021-01-13T00:00:00\", \"2021-01-14T00:00:00\", \"2021-01-15T00:00:00\", \"2021-01-18T00:00:00\", \"2021-01-19T00:00:00\", \"2021-01-20T00:00:00\", \"2021-01-21T00:00:00\", \"2021-01-22T00:00:00\", \"2021-01-25T00:00:00\", \"2021-01-26T00:00:00\", \"2021-01-27T00:00:00\", \"2021-01-28T00:00:00\", \"2021-01-29T00:00:00\", \"2021-02-01T00:00:00\", \"2021-02-02T00:00:00\", \"2021-02-03T00:00:00\", \"2021-02-04T00:00:00\", \"2021-02-05T00:00:00\", \"2021-02-08T00:00:00\", \"2021-02-09T00:00:00\", \"2021-02-10T00:00:00\", \"2021-02-11T00:00:00\", \"2021-02-15T00:00:00\", \"2021-02-16T00:00:00\", \"2021-02-17T00:00:00\", \"2021-02-18T00:00:00\", \"2021-02-19T00:00:00\", \"2021-02-22T00:00:00\", \"2021-02-23T00:00:00\", \"2021-02-24T00:00:00\", \"2021-02-25T00:00:00\", \"2021-02-26T00:00:00\", \"2021-03-01T00:00:00\", \"2021-03-02T00:00:00\", \"2021-03-03T00:00:00\", \"2021-03-04T00:00:00\", \"2021-03-05T00:00:00\", \"2021-03-08T00:00:00\", \"2021-03-09T00:00:00\", \"2021-03-10T00:00:00\"], \"y\": [561.4678344726562, 569.3760375976562, 569.3760375976562, 569.3760375976562, 561.4678344726562, 577.2838745117188, 569.3760375976562, 561.4678344726562, 561.4678344726562, 561.4678344726562, 561.4678344726562, 569.3760375976562, 569.3760375976562, 577.2838745117188, 577.2838745117188, 585.1918334960938, 593.099853515625, 638.03173828125, 647.0180053710938, 647.0180053710938, 673.97705078125, 673.97705078125, 673.97705078125, 682.96337890625, 682.96337890625, 691.9500122070312, 673.97705078125, 673.97705078125, 682.96337890625, 682.96337890625, 682.96337890625, 682.96337890625, 682.96337890625, 682.96337890625, 673.97705078125, 673.97705078125, 673.97705078125, 673.97705078125, 673.97705078125, 664.9907836914062, 673.97705078125, 682.96337890625, 682.96337890625, 673.97705078125, 656.00439453125, 656.00439453125, 664.9907836914062, 656.00439453125, 656.00439453125, 647.0180053710938, 647.0180053710938, 664.9907836914062, 664.9907836914062, 656.00439453125, 656.00439453125, 656.00439453125, 647.0180053710938, 647.0180053710938, 656.00439453125, 638.03173828125, 647.0180053710938, 673.97705078125, 673.97705078125, 682.96337890625, 673.97705078125, 664.9907836914062, 682.96337890625, 664.9907836914062, 673.97705078125, 673.97705078125, 709.922607421875, 727.8953857421875, 718.9090576171875, 718.9090576171875, 718.9090576171875, 745.8680419921875, 736.8818359375, 736.8818359375, 736.8818359375, 718.9090576171875, 709.922607421875, 718.9090576171875, 718.9090576171875, 727.8953857421875, 763.8408813476562, 826.7453002929688, 817.759033203125, 808.7723999023438, 808.7723999023438, 817.759033203125, 799.7861328125, 808.7723999023438, 808.7723999023438, 817.759033203125, 817.759033203125, 799.7861328125, 799.7861328125, 790.7998657226562, 808.7723999023438, 817.759033203125, 826.7453002929688, 862.6904907226562, 862.6904907226562, 862.6904907226562, 889.6497192382812, 916.6089477539062, 889.6497192382812, 889.6497192382812, 898.635986328125, 898.635986328125, 898.635986328125, 952.5541381835938, 988.499755859375, 988.499755859375, 988.499755859375, 988.499755859375, 988.499755859375, 988.499755859375, 988.499755859375, 970.5269165039062, 1007.1506958007812, 1007.1506958007812, 979.6829833984375, 961.3713989257812, 997.9949340820312, 1007.1506958007812, 997.9949340820312, 997.9949340820312, 997.9949340820312, 997.9949340820312, 988.8387451171875, 988.8387451171875, 979.6829833984375, 979.6829833984375, 961.3713989257812, 961.3713989257812, 933.9034423828125, 979.6829833984375, 1034.6185302734375, 1043.7744140625, 1052.930419921875, 1062.086181640625, 1071.241943359375, 1071.241943359375, 1089.5537109375, 1107.8656005859375, 1089.5537109375, 1089.5537109375, 1089.5537109375, 1080.3980712890625, 1098.7099609375, 1126.1778564453125, 1126.1778564453125, 1080.3980712890625, 1034.6185302734375, 1034.6185302734375, 1016.3067626953125, 1025.4625244140625, 1034.6185302734375, 1052.930419921875, 1043.7744140625, 1043.7744140625, 1052.930419921875, 1052.930419921875, 1043.7744140625, 1071.241943359375, 1080.3980712890625, 1071.241943359375, 1052.930419921875, 1071.241943359375, 1071.241943359375, 1089.5537109375, 1098.7099609375, 1098.7099609375, 1098.7099609375, 1098.7099609375, 1098.7099609375, 1126.1778564453125, 1153.6453857421875, 1217.7366943359375, 1217.7366943359375, 1208.580810546875, 1208.580810546875, 1208.580810546875, 1226.8927001953125, 1208.580810546875, 1199.425048828125, 1199.425048828125, 1171.9571533203125, 1217.7366943359375, 1226.8927001953125, 1254.3603515625, 1263.51611328125, 1226.8927001953125, 1217.7366943359375, 1226.8927001953125, 1309.2962646484375, 1382.5433349609375, 1355.075439453125, 1355.075439453125, 1400.8551025390625, 1382.5433349609375, 1382.5433349609375, 1318.45166015625, 1245.204345703125, 1236.0487060546875, 1217.7366943359375, 1245.204345703125, 1245.204345703125, 1263.51611328125, 1254.3603515625, 1263.51611328125, 1254.3603515625, 1254.3603515625, 1245.204345703125, 1245.204345703125, 1236.0487060546875, 1236.0487060546875, 1245.204345703125, 1217.7366943359375, 1199.425048828125, 1245.204345703125, 1217.7366943359375, 1153.6453857421875, 1171.9571533203125, 1162.8013916015625, 1144.489501953125, 1126.1778564453125, 1135.3333740234375, 1144.489501953125, 1181.113037109375, 1199.425048828125, 1190.269287109375, 1190.269287109375, 1190.269287109375, 1190.269287109375, 1199.425048828125, 1181.113037109375, 1208.580810546875, 1199.425048828125, 1208.580810546875, 1199.425048828125, 1199.425048828125, 1199.425048828125, 1208.580810546875, 1199.425048828125, 1226.8927001953125, 1272.6722412109375, 1263.51611328125, 1300.14013671875, 1309.2962646484375, 1290.984130859375, 1281.8280029296875, 1281.8280029296875, 1290.984130859375, 1281.8280029296875, 1281.8280029296875, 1300.14013671875, 1318.45166015625, 1318.45166015625, 1345.9197998046875, 1336.7635498046875, 1336.7635498046875, 1336.7635498046875, 1318.45166015625, 1327.6080322265625, 1300.14013671875, 1300.14013671875, 1300.14013671875, 1318.45166015625, 1336.7635498046875, 1309.2962646484375, 1290.984130859375, 1290.984130859375, 1272.6722412109375, 1290.984130859375, 1290.984130859375, 1281.8280029296875, 1281.8280029296875, 1290.984130859375, 1290.984130859375, 1300.14013671875, 1300.14013671875, 1339.4813232421875, 1339.4813232421875, 1311.380126953125, 1330.114501953125, 1358.2152099609375, 1348.848388671875, 1358.2152099609375, 1367.5823974609375, 1358.2152099609375, 1395.6834716796875, 1414.4173583984375, 1405.05029296875, 1376.949462890625, 1358.2152099609375, 1330.114501953125, 1348.848388671875, 1339.4813232421875, 1311.380126953125, 1283.279052734375, 1292.64599609375, 1292.64599609375, 1245.8115234375, 1236.4444580078125, 1236.4444580078125, 1245.8115234375, 1292.64599609375, 1273.9122314453125, 1236.4444580078125, 1264.54541015625, 1283.279052734375, 1302.01318359375, 1264.54541015625, 1273.9122314453125, 1292.64599609375, 1302.01318359375, 1339.4813232421875, 1358.2152099609375, 1320.747314453125, 1273.9122314453125, 1273.9122314453125, 1283.279052734375, 1292.64599609375, 1302.01318359375, 1302.01318359375, 1283.279052734375, 1264.54541015625, 1283.279052734375, 1273.9122314453125, 1245.8115234375, 1273.9122314453125, 1292.64599609375, 1292.64599609375, 1348.848388671875, 1320.747314453125, 1320.747314453125, 1301.743896484375, 1320.7471923828125, 1301.743896484375, 1292.2418212890625, 1282.7403564453125, 1282.7403564453125, 1273.2386474609375, 1273.2386474609375, 1244.7333984375, 1254.2349853515625, 1263.73681640625, 1263.73681640625, 1273.2386474609375, 1263.73681640625, 1263.73681640625, 1225.7296142578125, 1225.7296142578125, 1187.7227783203125, 1187.7227783203125, 1187.7227783203125, 1159.21728515625, 1140.213623046875, 1140.213623046875, 1149.7152099609375, 1178.220703125, 1216.2279052734375, 1216.2279052734375, 1206.7261962890625, 1197.224365234375, 1206.7261962890625, 1225.7296142578125, 1254.2349853515625, 1254.2349853515625, 1254.2349853515625, 1254.2349853515625, 1254.2349853515625, 1254.2349853515625, 1273.2386474609375, 1273.2386474609375, 1292.2418212890625, 1330.2490234375, 1339.75146484375, 1311.2454833984375, 1311.2454833984375, 1330.2490234375, 1292.2418212890625, 1292.2418212890625, 1292.2418212890625, 1292.2418212890625, 1292.2418212890625, 1273.2386474609375, 1292.2418212890625, 1282.7403564453125, 1282.7403564453125, 1273.2386474609375, 1282.7403564453125, 1292.2418212890625, 1292.2418212890625, 1292.2418212890625, 1320.7471923828125, 1396.7618408203125, 1368.2567138671875, 1368.2567138671875, 1387.260009765625, 1387.260009765625, 1377.758056640625, 1368.2567138671875, 1368.2567138671875, 1368.2567138671875, 1358.7542724609375, 1330.2490234375, 1377.758056640625, 1377.758056640625, 1358.7542724609375, 1358.7542724609375, 1377.758056640625, 1368.2567138671875, 1387.260009765625, 1377.758056640625, 1377.758056640625, 1396.7618408203125, 1387.260009765625, 1406.263427734375, 1406.263427734375, 1415.76513671875, 1387.260009765625, 1387.260009765625, 1387.260009765625, 1377.758056640625, 1377.758056640625, 1368.2567138671875, 1377.758056640625, 1377.758056640625, 1368.2567138671875, 1349.252685546875, 1330.2490234375, 1320.7471923828125, 1320.7471923828125, 1349.252685546875, 1368.2567138671875, 1387.260009765625, 1425.26708984375, 1434.7686767578125, 1415.76513671875, 1387.260009765625, 1368.2567138671875, 1387.260009765625, 1453.7724609375, 1415.76513671875, 1406.263427734375, 1396.7618408203125, 1444.2705078125, 1529.7869873046875, 1586.7969970703125, 1567.7935791015625, 1501.28125, 1491.7794189453125, 1491.7794189453125, 1520.2847900390625, 1567.7935791015625, 1586.7969970703125, 1586.7969970703125, 1586.7969970703125, 1586.7969970703125, 1586.7969970703125, 1672.3134765625, 1710.3203125, 1729.324462890625, 1729.324462890625, 1662.8115234375, 1615.302734375, 1643.80810546875, 1643.80810546875, 1653.3099365234375, 1719.822509765625, 1824.34130859375, 1833.84423828125, 1795.836181640625, 1748.327880859375, 1719.822509765625, 1738.8253173828125, 1710.3203125, 1662.8115234375, 1672.3134765625, 1672.3134765625, 1681.814697265625, 1643.80810546875, 1653.3099365234375, 1681.814697265625, 1710.3203125, 1729.324462890625, 1776.8323974609375, 1710.3203125, 1624.8043212890625, 1634.306396484375, 1672.3134765625, 1624.8043212890625, 1586.7969970703125, 1529.7869873046875, 1548.7900390625, 1558.2921142578125, 1558.2921142578125, 1558.2921142578125, 1539.288330078125, 1596.29931640625, 1558.2921142578125, 1539.288330078125, 1548.7900390625, 1577.2952880859375, 1558.2921142578125, 1573.8360595703125, 1505.8304443359375, 1544.690673828125, 1515.5455322265625, 1486.4007568359375, 1505.8304443359375, 1505.8304443359375, 1622.410888671875, 1593.266357421875, 1583.5509033203125, 1573.8360595703125, 1593.266357421875, 1583.5509033203125, 1554.4058837890625, 1564.1214599609375, 1534.9759521484375, 1554.4058837890625, 1593.266357421875, 1661.2713623046875, 1670.986572265625, 1661.2713623046875, 1651.5562744140625, 1709.8466796875, 1690.41650390625, 1690.41650390625, 1680.701416015625, 1661.2713623046875, 1602.98095703125, 1544.690673828125, 1525.2608642578125, 1525.2608642578125, 1544.690673828125, 1564.1214599609375, 1534.9759521484375, 1534.9759521484375, 1515.5455322265625, 1573.8360595703125, 1564.1214599609375, 1622.410888671875, 1661.2713623046875, 1680.701416015625, 1632.12646484375, 1632.12646484375, 1622.410888671875, 1602.98095703125, 1632.12646484375, 1593.266357421875, 1593.266357421875, 1632.12646484375, 1651.5562744140625, 1670.986572265625, 1670.986572265625, 1670.986572265625, 1670.986572265625, 1700.13134765625, 1690.41650390625, 1709.8466796875, 1719.5611572265625, 1738.991455078125, 1738.991455078125, 1748.7066650390625, 1768.13720703125, 1758.421875, 1787.5670166015625, 1777.851318359375, 1748.7066650390625, 1729.2764892578125, 1738.991455078125, 1738.991455078125, 1729.2764892578125, 1748.7066650390625, 1768.13720703125, 1768.13720703125, 1787.5670166015625, 1797.2816162109375, 1787.5670166015625, 1816.7115478515625, 1884.71728515625, 1913.8621826171875, 1865.2864990234375, 1875.0028076171875, 1875.0028076171875, 1875.0028076171875, 1845.857421875, 1845.857421875, 1836.141845703125, 1836.141845703125, 1836.141845703125, 1806.996826171875, 1816.7115478515625, 1818.6778564453125, 1799.01611328125, 1838.3389892578125, 1848.1697998046875, 1887.492431640625, 1897.3243408203125, 1897.3243408203125, 1858.0006103515625, 1858.0006103515625, 1858.0006103515625, 1858.0006103515625, 1858.0006103515625, 1858.0006103515625, 1828.5086669921875, 1828.5086669921875, 1848.1697998046875, 1867.83203125, 1858.0006103515625, 1887.492431640625, 1907.1541748046875, 1897.3243408203125, 1966.1383056640625, 1985.7998046875, 1887.492431640625, 1956.30810546875, 1966.1383056640625, 1966.1383056640625, 1966.1383056640625, 2005.4609375, 2025.1224365234375, 2025.1224365234375, 2044.784423828125, 2143.091552734375, 2143.091552734375, 2025.1224365234375, 2064.44580078125, 2084.106689453125, 2123.428955078125, 2084.106689453125, 2103.76806640625, 2084.106689453125, 2044.784423828125, 2025.1224365234375, 2005.4609375, 2005.4609375, 2044.784423828125, 2044.784423828125, 2044.784423828125, 2025.1224365234375, 1966.1383056640625, 2005.4609375, 2025.1224365234375, 2025.1224365234375, 2005.4609375, 2025.1224365234375, 2044.784423828125, 2044.784423828125, 2064.44580078125, 2025.1224365234375, 2044.784423828125, 2044.784423828125, 2064.44580078125, 2044.784423828125, 1926.815673828125, 1897.3243408203125, 1887.492431640625, 1966.1383056640625, 2005.4609375, 1985.7998046875, 2044.784423828125, 2064.44580078125, 2123.428955078125, 2084.106689453125, 2084.106689453125, 2044.784423828125, 2025.1224365234375, 1985.7998046875, 2025.1224365234375, 2005.4609375, 2064.44580078125, 2143.091552734375, 2084.106689453125, 2025.1224365234375, 2044.784423828125, 1985.7998046875, 1966.1383056640625, 1966.1383056640625, 1966.1383056640625, 1985.7998046875, 2044.784423828125, 2064.44580078125, 2044.784423828125, 2044.784423828125, 2064.44580078125, 2025.1224365234375, 1985.7998046875, 1946.476806640625, 1946.476806640625, 1936.646484375, 1946.476806640625, 1907.1541748046875, 1887.492431640625, 1936.646484375, 1936.646484375, 1956.30810546875, 1946.476806640625, 2005.4609375, 2064.44580078125, 2005.4609375, 1985.7998046875, 1966.1383056640625, 1966.1383056640625, 1985.7998046875, 2044.784423828125, 2025.1224365234375, 2025.1224365234375, 2025.1224365234375, 2025.1224365234375, 2005.4609375, 2005.4609375, 2064.44580078125, 2143.091552734375, 2143.091552734375, 2084.106689453125, 2103.76806640625, 2123.428955078125, 2103.76806640625, 2103.76806640625, 2084.106689453125, 2084.106689453125, 2103.76806640625, 2064.44580078125, 2025.1224365234375, 2103.76806640625, 2103.76806640625, 2103.76806640625, 2123.428955078125, 2103.76806640625, 2143.091552734375, 2084.106689453125, 2084.106689453125, 2084.106689453125, 2084.106689453125, 2123.428955078125, 2143.091552734375, 2123.428955078125, 2143.091552734375, 2123.428955078125, 2064.44580078125, 2143.091552734375, 2143.091552734375, 2182.413818359375, 2162.752197265625, 2162.752197265625, 2182.413818359375, 2162.752197265625, 2103.76806640625, 2162.752197265625, 2103.76806640625, 2084.106689453125, 2064.44580078125, 2084.106689453125, 2123.428955078125, 2123.428955078125, 2162.752197265625, 2123.428955078125, 2129.4560546875, 2149.545654296875, 2149.545654296875, 2149.545654296875, 2149.545654296875, 2169.634521484375, 2149.545654296875, 2149.545654296875, 2149.545654296875, 2149.545654296875, 2149.545654296875, 2149.545654296875, 2149.545654296875, 2129.4560546875, 2189.724609375, 2209.81298828125, 2330.348388671875, 2310.259521484375, 2310.259521484375, 2290.170654296875, 2350.437744140625, 2370.52685546875, 2350.437744140625, 2330.348388671875, 2350.437744140625, 2310.259521484375, 2370.52685546875, 2370.52685546875, 2390.61572265625, 2491.061767578125, 2511.151611328125, 2531.240234375, 2571.4189453125, 2491.061767578125, 2470.97314453125, 2450.8837890625, 2531.240234375, 2410.705322265625, 2450.8837890625, 2470.97314453125, 2571.4189453125, 2350.437744140625, 2470.97314453125, 2470.97314453125, 2410.705322265625, 2430.794189453125, 2390.61572265625, 2229.90234375, 2189.724609375, 2249.99169921875, 2229.90234375, 2310.259521484375, 2370.52685546875, 2410.705322265625, 2410.705322265625, 2430.794189453125, 2350.437744140625, 2370.52685546875, 2410.705322265625, 2430.794189453125, 2430.794189453125, 2450.8837890625, 2430.794189453125, 2430.794189453125, 2370.52685546875, 2350.437744140625, 2350.437744140625, 2390.61572265625, 2410.705322265625, 2390.61572265625, 2390.61572265625, 2470.97314453125, 2470.97314453125, 2531.240234375, 2571.4189453125, 2551.329833984375, 2571.4189453125, 2571.4189453125, 2470.97314453125, 2531.240234375, 2591.508056640625, 2591.508056640625, 2712.0439453125, 2752.2216796875, 2772.310546875, 2752.2216796875, 2892.8466796875, 2912.93505859375, 2912.93505859375, 2852.668212890625, 2772.310546875, 2651.77587890625, 2752.2216796875, 2691.9541015625, 2812.489013671875, 2852.668212890625, 2892.8466796875, 2933.024658203125, 2933.024658203125, 2993.2919921875, 2933.024658203125, 2872.7568359375, 2912.93505859375, 2912.93505859375, 2812.489013671875, 2812.489013671875, 2732.132568359375, 2812.489013671875, 2892.8466796875, 2852.668212890625, 2792.400146484375, 2852.668212890625, 2772.310546875, 2712.0439453125, 2812.489013671875, 2732.132568359375, 2792.400146484375, 2732.132568359375, 2792.400146484375, 2872.7568359375, 2874.78173828125, 2935.51611328125, 2935.51611328125, 2935.51611328125, 3016.496337890625, 3036.74072265625, 3077.23095703125, 3077.23095703125, 2996.25146484375, 3016.496337890625, 2996.25146484375, 2915.271728515625, 2834.29150390625, 2874.78173828125, 2976.005859375, 3016.496337890625, 2955.76123046875, 2955.76123046875, 2935.51611328125, 2874.78173828125, 2915.271728515625, 2874.78173828125, 2854.53662109375, 2935.51611328125, 2915.271728515625, 2874.78173828125, 2793.802001953125, 2793.802001953125, 2793.802001953125, 2672.33203125, 2550.862548828125, 2692.5771484375, 2793.802001953125, 2915.271728515625, 2915.271728515625, 2895.026611328125, 2854.53662109375, 2874.78173828125, 2874.78173828125, 2915.271728515625, 2895.026611328125, 2854.53662109375, 2773.55712890625, 2672.33203125, 2652.08740234375, 2773.55712890625, 2793.802001953125, 2874.78173828125, 2895.026611328125, 2915.271728515625, 2955.76123046875, 2915.271728515625, 2976.005859375, 2955.76123046875, 2895.026611328125, 2874.78173828125, 2895.026611328125, 2854.53662109375, 2915.271728515625, 2935.51611328125, 2874.78173828125, 2814.046875, 2753.31201171875, 2854.53662109375, 2753.31201171875, 2652.08740234375, 2409.14794921875, 2409.14794921875, 2591.3525390625, 2550.862548828125, 2550.862548828125, 2550.862548828125, 2530.617431640625, 2631.843017578125, 2631.843017578125, 2510.372314453125, 2490.1279296875, 2449.637451171875, 2611.596923828125, 2348.41259765625, 2287.6787109375, 2226.943359375, 2348.41259765625, 2348.41259765625, 2307.923828125, 2388.90283203125, 2469.883056640625, 2550.862548828125, 2631.843017578125, 2571.107666015625, 2429.393310546875, 2409.14794921875, 2429.393310546875, 2388.90283203125, 2307.923828125, 2368.658203125, 2429.393310546875, 2550.862548828125, 2550.862548828125, 2571.107666015625, 2571.107666015625, 2550.862548828125, 2571.107666015625, 2591.3525390625, 2530.617431640625, 2571.107666015625, 2530.617431640625, 2469.883056640625, 2449.637451171875, 2368.658203125, 2328.16796875, 2267.43359375, 2267.43359375, 2267.43359375, 2247.1884765625, 2267.43359375, 2206.69921875, 2166.20849609375, 2186.453125, 2206.69921875, 2166.20849609375, 2145.9638671875, 2125.718994140625, 2125.718994140625, 2157.669189453125, 2116.175048828125, 2074.681640625, 2074.681640625, 2053.934814453125, 2053.934814453125, 1950.2003173828125, 1929.4537353515625, 1970.94775390625, 2012.44140625, 1950.2003173828125, 2053.934814453125, 2136.92236328125, 2136.92236328125, 2178.416259765625, 2157.669189453125, 2157.669189453125, 2282.149658203125, 2365.1376953125, 2302.896728515625, 2323.643310546875, 2323.643310546875, 2178.416259765625, 2199.162353515625, 2199.162353515625, 2219.9091796875, 2323.643310546875, 2344.390869140625, 2406.63037109375, 2531.112060546875, 2448.1240234375, 2468.87109375, 2489.618408203125, 2510.364501953125, 2427.377685546875, 2489.618408203125, 2489.618408203125, 2510.364501953125, 2510.364501953125, 2448.1240234375, 2468.87109375, 2323.643310546875, 2489.618408203125, 2448.1240234375, 2551.85888671875, 2468.87109375, 2468.87109375, 2448.1240234375, 2427.377685546875, 2531.112060546875, 2448.1240234375, 2572.60498046875, 2614.098876953125, 2634.845703125, 2697.086669921875, 2800.82080078125, 2738.579833984375, 2697.086669921875, 2697.086669921875, 2717.8330078125, 2510.364501953125, 2489.618408203125, 2385.8837890625, 2261.403564453125, 2199.162353515625, 2302.896728515625, 2344.390869140625, 2531.112060546875, 2634.845703125, 2697.086669921875, 2614.098876953125, 2655.5927734375, 2676.339111328125, 2634.845703125, 2531.112060546875, 2531.112060546875, 2385.8837890625, 2385.8837890625, 2385.8837890625, 2406.63037109375, 2634.845703125, 2531.112060546875, 2282.149658203125, 2157.669189453125, 2219.9091796875, 2323.643310546875, 2199.162353515625, 2219.9091796875, 2012.44140625, 1825.7198486328125, 1680.491943359375, 1825.7198486328125, 1991.6943359375, 2240.655517578125, 2344.390869140625, 2282.149658203125, 2365.1376953125, 2302.896728515625, 2385.8837890625, 2406.63037109375, 2406.63037109375, 2385.8837890625, 2261.403564453125, 2406.63037109375, 2261.403564453125, 2178.416259765625, 2282.149658203125, 2240.655517578125, 2136.92236328125, 2178.416259765625, 2199.162353515625, 2261.403564453125, 2240.655517578125, 2240.655517578125, 2240.655517578125, 2219.9091796875, 2219.9091796875, 2282.149658203125, 2323.643310546875, 2468.87109375, 2427.377685546875, 2468.87109375, 2302.896728515625, 2614.098876953125, 2572.60498046875, 2655.5927734375, 2655.5927734375, 2655.5927734375, 2655.5927734375, 2655.5927734375, 2614.098876953125, 2697.086669921875, 2697.086669921875, 2904.55419921875, 2904.55419921875, 2800.82080078125, 2593.3515625, 2489.618408203125, 2427.377685546875, 2448.1240234375, 2427.377685546875, 2302.896728515625, 2500.408447265625, 2458.384033203125, 2479.39599609375, 2311.301025390625, 2311.301025390625, 2332.31298828125, 2374.3369140625, 2311.301025390625, 2311.301025390625, 2311.301025390625, 2311.301025390625, 2332.31298828125, 2374.3369140625, 2332.31298828125, 2332.31298828125, 2311.301025390625, 2227.254150390625, 2164.218994140625, 2206.2421875, 2227.254150390625, 2248.265625, 2122.19482421875, 2143.20703125, 2164.218994140625, 2059.158935546875, 2101.183349609375, 2059.158935546875, 1975.1121826171875, 2017.1358642578125, 1975.1121826171875, 1933.08837890625, 2017.1358642578125, 2164.218994140625, 2185.230712890625, 2164.218994140625, 2269.277099609375, 2353.3251953125, 2311.301025390625, 2374.3369140625, 2374.3369140625, 2395.34912109375, 2353.3251953125, 2458.384033203125, 2479.39599609375, 2563.44384765625, 2626.478515625, 2647.490478515625, 2668.502685546875, 2584.454833984375, 2605.466552734375, 2668.502685546875, 2752.5498046875, 2668.502685546875, 2710.526611328125, 2689.5146484375, 2563.44384765625, 2563.44384765625, 2710.526611328125, 2815.585693359375, 2836.597412109375, 2920.644287109375, 3004.69189453125, 2962.668212890625, 2878.620849609375, 2815.585693359375, 2857.609130859375, 2710.526611328125, 2794.57275390625, 2794.57275390625, 2815.585693359375, 2920.644287109375, 2983.6796875, 2941.65625, 2857.609130859375, 2815.585693359375, 2815.585693359375, 2689.5146484375, 2710.526611328125, 2731.53857421875, 2731.53857421875, 2731.53857421875, 2815.585693359375, 2941.65625, 2962.668212890625, 2962.668212890625, 2920.644287109375, 2920.644287109375, 2836.597412109375, 2899.632080078125, 2899.632080078125, 2836.597412109375, 2878.620849609375, 2983.6796875, 2962.668212890625, 3004.69189453125, 3130.763427734375, 3214.810791015625, 3340.881103515625, 3332.336669921875, 3310.975341796875, 3289.6142578125, 3289.6142578125, 3246.89208984375, 3054.641845703125, 3011.919677734375, 3011.919677734375, 3118.72509765625, 3054.641845703125, 3118.72509765625, 3268.253662109375, 3033.28076171875, 3011.919677734375, 3011.919677734375, 3076.00390625, 3182.809326171875, 3097.36376953125, 3033.28076171875, 3076.00390625, 3076.00390625, 3076.00390625, 3011.919677734375, 3011.919677734375, 3011.919677734375, 3182.809326171875, 3246.89208984375, 3161.44775390625, 3161.44775390625, 3161.44775390625, 3076.00390625, 3161.44775390625, 3161.44775390625, 3161.44775390625, 3161.44775390625, 3118.72509765625, 3182.809326171875, 3225.53125, 3289.6142578125, 3353.697265625, 3439.14208984375, 3567.30908203125, 3524.5869140625, 3610.031982421875, 3759.559814453125, 3695.476318359375, 3695.476318359375, 3716.8369140625, 3567.30908203125, 3588.6708984375, 3610.031982421875, 3695.476318359375, 3674.115478515625, 3652.75341796875, 3716.8369140625, 3695.476318359375, 3716.8369140625, 3631.392822265625, 3738.19873046875, 3652.75341796875, 3652.75341796875, 3652.75341796875, 3759.559814453125, 3759.559814453125, 3823.643310546875, 3845.00244140625, 3780.920166015625, 3674.115478515625, 3716.8369140625, 3738.19873046875, 3951.81005859375, 4101.33740234375, 3909.088134765625, 3802.2822265625, 3887.72607421875, 3951.81005859375, 4122.69970703125, 4314.94873046875, 4272.22705078125, 4443.1162109375, 4208.1435546875, 4015.89208984375, 4058.6142578125, 4037.253662109375, 4058.6142578125, 4101.33740234375, 4079.977294921875, 4015.89208984375, 4101.33740234375, 4079.977294921875, 4079.977294921875, 4079.977294921875, 4079.977294921875, 4079.977294921875, 4015.89208984375, 3930.447998046875, 3909.088134765625, 3909.088134765625, 3930.447998046875, 3887.72607421875, 3930.447998046875, 3930.447998046875, 4037.253662109375, 4037.253662109375, 4058.6142578125, 4015.89208984375, 4101.33740234375, 4092.72021484375, 4071.18017578125, 4114.2626953125, 4071.18017578125, 4049.63916015625, 4049.63916015625, 4006.559326171875, 4006.559326171875, 4049.63916015625, 4028.09912109375, 4135.80224609375, 4243.505859375, 4243.505859375, 4221.96533203125, 4286.5869140625, 4178.8837890625, 4071.18017578125, 4049.63916015625, 4092.72021484375, 4157.34423828125, 4178.8837890625, 4135.80224609375, 4157.34423828125, 4178.8837890625, 3985.0185546875, 4028.09912109375, 4071.18017578125, 4071.18017578125, 4071.18017578125, 4178.8837890625, 4351.208984375, 4394.2900390625, 4265.04736328125, 4286.5869140625, 4178.8837890625, 4221.96533203125, 4437.37158203125, 4308.1279296875, 4265.04736328125, 4265.04736328125, 4351.208984375, 4286.5869140625, 4351.208984375, 4200.42529296875, 4157.34423828125, 4135.80224609375, 4135.80224609375, 4071.18017578125, 4200.42529296875, 4308.1279296875, 4178.8837890625, 4114.2626953125, 4114.2626953125, 4092.72021484375, 3920.39599609375, 3898.85498046875, 3963.47705078125, 3920.39599609375, 3985.0185546875, 3985.0185546875, 3920.39599609375, 4028.09912109375, 4135.80224609375, 4157.34423828125, 4178.8837890625, 4308.1279296875, 4265.04736328125, 4351.208984375, 4200.42529296875, 4135.80224609375, 4221.96533203125, 4157.34423828125, 4265.04736328125, 4308.1279296875, 4351.208984375, 4480.453125, 4437.37158203125, 4480.453125, 4394.2900390625, 4480.453125, 4997.42724609375, 4695.85888671875, 4695.85888671875, 4695.85888671875, 4825.10302734375, 4911.26611328125, 4954.34765625, 4954.34765625, 4825.10302734375, 4782.0205078125, 4738.939453125, 4695.85888671875, 4954.34765625, 4911.26611328125, 5040.50927734375, 4868.1845703125, 4782.0205078125, 5040.50927734375, 4911.26611328125, 4997.42724609375, 4997.42724609375, 4954.34765625, 4868.1845703125, 5040.50927734375, 4954.34765625, 4911.26611328125, 4911.26611328125, 4911.26611328125, 4911.26611328125, 4695.85888671875, 4695.85888671875, 4695.85888671875, 4738.939453125, 4738.939453125, 4480.453125, 4394.2900390625, 4243.505859375, 4480.453125, 4437.37158203125, 4437.37158203125, 4523.53515625, 4609.6962890625, 4695.85888671875, 4523.53515625, 4480.453125, 4394.2900390625, 4437.37158203125, 4308.1279296875, 4523.53515625, 4566.6142578125, 4782.0205078125, 4624.947265625, 4755.8427734375, 4843.10498046875, 4930.36865234375, 4799.47412109375, 4886.7373046875, 4886.7373046875, 4755.8427734375, 4755.8427734375, 4755.8427734375, 4799.47412109375, 4930.36865234375, 4886.7373046875, 4974.0009765625, 5061.26318359375, 5104.896484375, 5061.26318359375, 4930.36865234375, 5017.63232421875, 5061.26318359375, 5061.26318359375, 5192.158203125, 4974.0009765625, 4886.7373046875, 4886.7373046875, 4974.0009765625, 5061.26318359375, 5017.63232421875, 5104.896484375, 5148.52783203125, 5148.52783203125, 5192.158203125, 5148.52783203125, 5279.42333984375, 5192.158203125, 5192.158203125, 5192.158203125, 5192.158203125, 5235.7900390625, 5192.158203125, 5235.7900390625, 5235.7900390625, 5410.31640625, 5192.158203125, 5192.158203125, 5017.63232421875, 5017.63232421875, 5192.158203125, 5235.7900390625, 5366.68408203125, 5235.7900390625, 5192.158203125, 5148.52783203125, 5235.7900390625, 5148.52783203125, 5235.7900390625, 5192.158203125, 5235.7900390625, 5279.42333984375, 5279.42333984375, 5279.42333984375, 5192.158203125, 5148.52783203125, 5061.26318359375, 5061.26318359375, 5279.42333984375, 5148.52783203125, 5235.7900390625, 5279.42333984375, 5279.42333984375, 5672.10546875, 5541.2119140625, 5672.10546875, 5628.474609375, 5584.8427734375, 5453.947265625, 5584.8427734375, 5672.10546875, 5846.6318359375, 5890.26416015625, 5933.8955078125, 5846.6318359375, 6108.421875, 5977.5263671875, 5933.8955078125, 6021.158203125, 6064.7900390625, 5977.5263671875, 5890.26416015625, 5890.26416015625, 5933.8955078125, 5933.8955078125, 5803.00048828125, 5759.369140625, 5890.26416015625, 5933.8955078125, 5933.8955078125, 5977.5263671875, 6021.158203125, 6152.05322265625, 6108.421875, 5977.5263671875, 6108.421875, 6152.05322265625, 6152.05322265625, 6239.3154296875, 6239.3154296875, 6195.6845703125, 6239.3154296875, 6108.421875, 6152.05322265625, 6064.7900390625, 6021.158203125, 5933.8955078125, 6152.05322265625, 5977.5263671875, 6064.7900390625, 5970.40478515625, 5794.8046875, 5794.8046875, 5794.8046875, 5663.1044921875, 5663.1044921875, 5311.90478515625, 5619.20458984375, 5707.00537109375, 5663.1044921875, 5750.904296875, 5882.6044921875, 5794.8046875, 5750.904296875, 5619.20458984375, 5707.00537109375, 5707.00537109375, 5619.20458984375, 5882.6044921875, 5794.8046875, 5838.705078125, 5663.1044921875, 5575.30615234375, 5663.1044921875, 5663.1044921875, 5707.00537109375, 5619.20458984375, 5663.1044921875, 5707.00537109375, 5794.8046875, 5750.904296875, 5619.20458984375, 5180.20361328125, 5004.60498046875, 5092.404296875, 5180.20361328125, 5311.90478515625, 5224.10498046875, 5092.404296875, 5048.50390625, 5004.60498046875, 4785.10400390625, 4741.203125, 4916.8046875, 5136.3046875, 5180.20361328125, 5092.404296875, 4960.70458984375, 4960.70458984375, 5136.3046875, 5268.00439453125, 5311.90478515625, 5268.00439453125, 5180.20361328125, 5004.60498046875, 5224.10498046875, 5355.8046875, 5311.90478515625, 5268.00439453125, 5399.70361328125, 5487.50390625, 5487.50390625, 5619.20458984375, 5487.50390625, 5355.8046875, 5531.404296875, 5663.1044921875, 5707.00537109375, 5838.705078125, 5970.40478515625, 6058.20458984375, 6014.3046875, 6014.3046875, 6058.20458984375, 5970.40478515625, 5970.40478515625, 5838.705078125, 5882.6044921875, 5750.904296875, 5750.904296875, 5882.6044921875, 5926.50537109375, 5970.40478515625, 6014.3046875, 6058.20458984375, 6102.10498046875, 6102.10498046875, 6014.3046875, 6102.10498046875, 6233.8046875, 6146.00439453125, 6146.00439453125, 6102.10498046875, 6189.9052734375, 6146.00439453125, 6233.8046875, 6189.9052734375, 6277.70458984375, 6277.70458984375, 6409.4052734375, 6497.205078125, 6541.10595703125, 6628.90576171875, 6585.00634765625, 6585.00634765625, 6628.90576171875, 6585.00634765625, 6672.8046875, 6497.205078125, 6585.00634765625, 6365.50537109375, 6453.30615234375, 6277.70458984375, 6409.4052734375, 6321.60693359375, 6409.4052734375, 6453.30615234375, 6321.60693359375, 6409.4052734375, 6233.8046875, 6277.70458984375, 6365.50537109375, 6409.4052734375, 6277.70458984375, 6189.9052734375, 6233.8046875, 6365.50537109375, 6277.70458984375, 6233.8046875, 6233.8046875, 6233.8046875, 6277.70458984375, 6277.70458984375, 6295.43896484375, 6206.77099609375, 6206.77099609375, 6206.77099609375, 6206.77099609375, 6206.77099609375, 6339.77294921875, 6295.43896484375, 6384.10791015625, 6428.43994140625, 6384.10791015625, 6472.77392578125, 6561.443359375, 6605.7763671875, 6605.7763671875, 6605.7763671875, 6783.11279296875, 6916.11669921875, 6916.11669921875, 6960.4501953125, 6916.11669921875, 6916.11669921875, 7137.78662109375, 7137.78662109375, 7049.1181640625, 7049.1181640625, 7093.45263671875, 7359.45654296875, 7226.455078125, 7093.45263671875, 7093.45263671875, 7182.12060546875, 7315.123046875, 7226.455078125, 7359.45654296875, 7403.79052734375, 7270.78759765625, 7359.45654296875, 7581.12646484375, 7758.4619140625, 7714.1298828125, 7625.46142578125, 7359.45654296875, 7137.78662109375, 6960.4501953125, 7093.45263671875, 6960.4501953125, 7049.1181640625, 7226.455078125, 7226.455078125, 7270.78759765625, 7093.45263671875, 6871.78173828125, 7049.1181640625, 7004.783203125, 7093.45263671875, 7093.45263671875, 7226.455078125, 7270.78759765625, 7403.79052734375, 7448.1240234375, 7403.79052734375, 7137.78662109375, 7182.12060546875, 6871.78173828125, 7004.783203125, 7004.783203125, 6960.4501953125, 7049.1181640625, 6871.78173828125, 6295.43896484375, 6650.11181640625, 6517.109375, 6650.11181640625, 6694.44580078125, 6783.11279296875, 6827.44775390625, 6517.109375, 6384.10791015625, 6472.77392578125, 6650.11181640625, 6605.7763671875, 6650.11181640625, 6871.78173828125, 7049.1181640625, 7093.45263671875, 7049.1181640625, 7137.78662109375, 6871.78173828125, 6960.4501953125, 6783.11279296875, 6783.11279296875, 7049.1181640625, 7093.45263671875, 7093.45263671875, 7049.1181640625, 7093.45263671875, 7182.12060546875, 7004.783203125, 7049.1181640625, 6916.11669921875, 7093.45263671875, 7049.1181640625, 7270.78759765625, 7359.45654296875, 7226.455078125, 7226.455078125, 7315.123046875, 7226.455078125, 7137.78662109375, 7137.78662109375, 6960.4501953125, 6871.78173828125, 6916.11669921875, 6827.44775390625, 6783.11279296875, 6605.7763671875, 6694.44580078125, 6827.44775390625, 7004.783203125, 7004.783203125, 7093.45263671875, 7137.78662109375, 7004.783203125, 7177.30712890625, 7088.1474609375, 7043.568359375, 7132.72900390625, 6998.9892578125, 7043.568359375, 6954.408203125, 7132.72900390625, 7132.72900390625, 7043.568359375, 7088.1474609375, 7088.1474609375, 7177.30712890625, 7132.72900390625, 7088.1474609375, 7177.30712890625, 7132.72900390625, 7132.72900390625, 7221.88623046875, 7221.88623046875, 7177.30712890625, 7132.72900390625, 7266.46630859375, 7266.46630859375, 7221.88623046875, 7266.46630859375, 7132.72900390625, 7088.1474609375, 7088.1474609375, 7088.1474609375, 7132.72900390625, 7132.72900390625, 7221.88623046875, 7177.30712890625, 7266.46630859375, 7221.88623046875, 7088.1474609375, 7132.72900390625, 7132.72900390625, 7221.88623046875, 7177.30712890625, 7177.30712890625, 7043.568359375, 7043.568359375, 7043.568359375, 6731.5126953125, 6776.09130859375, 6597.77197265625, 6508.61279296875, 6553.193359375, 6642.35302734375, 6642.35302734375, 6731.5126953125, 6731.5126953125, 6686.93212890625, 6642.35302734375, 6597.77197265625, 6642.35302734375, 6776.09130859375, 6820.669921875, 6909.82861328125, 6865.25048828125, 6865.25048828125, 6686.93212890625, 6731.5126953125, 6686.93212890625, 6865.25048828125, 6820.669921875, 6998.9892578125, 6954.408203125, 7043.568359375, 7088.1474609375, 7132.72900390625, 7043.568359375, 7088.1474609375, 7132.72900390625, 7221.88623046875, 7221.88623046875, 7177.30712890625, 7132.72900390625, 7177.30712890625, 7177.30712890625, 6909.82861328125, 7088.1474609375, 7088.1474609375, 7043.568359375, 7043.568359375, 7132.72900390625, 7088.1474609375, 6998.9892578125, 7043.568359375, 7043.568359375, 7088.1474609375, 7132.72900390625, 7132.72900390625, 7132.72900390625, 7088.1474609375, 7132.72900390625, 6998.9892578125, 7132.72900390625, 7132.72900390625, 7132.72900390625, 7177.30712890625, 7177.30712890625, 7132.72900390625, 7132.72900390625, 7132.72900390625, 7132.72900390625, 7132.72900390625, 6909.82861328125, 6954.408203125, 6731.5126953125, 6508.61279296875, 6642.35302734375, 6642.35302734375, 6642.35302734375, 6464.03369140625, 6464.03369140625, 6464.03369140625, 6508.61279296875, 6241.13720703125, 6330.29638671875, 6151.9775390625, 6285.71484375, 6419.45458984375, 6419.45458984375, 6285.71484375, 6483.83251953125, 6438.80615234375, 6438.80615234375, 6438.80615234375, 6393.77978515625, 6573.8857421875, 6708.966796875, 6753.99365234375, 6618.912109375, 6528.859375, 6528.859375, 6618.912109375, 6708.966796875, 6573.8857421875, 6573.8857421875, 6618.912109375, 6753.99365234375, 6708.966796875, 6663.93896484375, 6663.93896484375, 6573.8857421875, 6618.912109375, 6618.912109375, 6708.966796875, 6708.966796875, 6844.0458984375, 6979.125, 6979.125, 7024.1513671875, 7069.18017578125, 6979.125, 6889.0712890625, 6799.0205078125, 6934.09912109375, 7204.25927734375, 7159.232421875, 7204.25927734375, 7159.232421875, 7069.18017578125, 6934.09912109375, 6934.09912109375, 7024.1513671875, 7069.18017578125, 7204.25927734375, 7159.232421875, 7114.2060546875, 7114.2060546875, 7159.232421875, 7249.28515625, 7114.2060546875, 7024.1513671875, 7114.2060546875, 7114.2060546875, 6979.125, 7024.1513671875, 6979.125, 7159.232421875, 7114.2060546875, 7069.18017578125, 7159.232421875, 7249.28515625, 7159.232421875, 7249.28515625, 7204.25927734375, 7114.2060546875, 7249.28515625, 7204.25927734375, 7114.2060546875, 7069.18017578125, 7204.25927734375, 7159.232421875, 7114.2060546875, 7069.18017578125, 7024.1513671875, 7114.2060546875, 7114.2060546875, 7069.18017578125, 7114.2060546875, 7069.18017578125, 7114.2060546875, 7069.18017578125, 7114.2060546875, 7159.232421875, 7159.232421875, 7204.25927734375, 7339.33837890625, 7249.28515625, 7339.33837890625, 7339.33837890625, 7384.365234375, 7339.33837890625, 7294.3125, 7384.365234375, 7384.365234375, 7339.33837890625, 7294.3125, 7384.365234375, 7384.365234375, 7474.41845703125, 7519.4453125, 7429.3916015625, 7654.52392578125, 7654.52392578125, 7609.5, 7699.55078125, 7834.6318359375, 8104.79052734375, 8149.818359375, 7744.578125, 7969.71142578125, 7969.71142578125, 8014.73779296875, 8149.818359375, 8194.8447265625, 8059.763671875, 8059.763671875, 8104.79052734375, 7924.68408203125, 8555.0576171875, 7915.9052734375, 7961.1376953125, 7961.1376953125, 7961.1376953125, 8277.7734375, 8368.2421875, 8549.17578125, 8549.17578125, 8368.2421875, 8323.009765625, 8277.7734375, 8187.30712890625, 8323.009765625, 8051.60595703125, 8323.009765625, 8323.009765625, 8232.541015625, 8232.541015625, 8277.7734375, 8187.30712890625, 8323.009765625, 8277.7734375, 8232.541015625, 8051.60595703125, 8006.3720703125, 8232.541015625, 8277.7734375, 8277.7734375, 8277.7734375, 8594.4111328125, 8413.474609375, 8413.474609375, 8413.474609375, 8458.708984375, 8413.474609375, 8549.17578125, 8549.17578125, 8730.111328125, 8911.0478515625, 9091.982421875, 8956.28125, 8956.28125, 9091.982421875, 9001.5146484375, 9182.4482421875, 9091.982421875, 8911.0478515625, 9046.75, 9091.982421875, 9227.68359375, 9272.9150390625, 9318.150390625, 9363.384765625, 9544.3193359375, 10222.8232421875, 9770.48828125, 9634.7861328125, 9951.4228515625, 9680.021484375, 9680.021484375, 9499.0849609375, 9680.021484375, 9725.2529296875, 9770.48828125, 9725.2529296875, 9680.021484375, 9634.7861328125, 9725.2529296875, 9634.7861328125, 9680.021484375, 9860.955078125, 9725.2529296875, 9589.552734375, 9860.955078125, 9634.7861328125, 9951.4228515625, 10313.2919921875, 9951.4228515625, 9996.65625, 10132.359375, 9815.7216796875, 9996.65625, 9680.021484375, 9589.552734375, 9544.3193359375, 9770.48828125, 9860.955078125, 9589.552734375, 9770.48828125, 9951.4228515625, 9951.4228515625, 9951.4228515625, 9860.955078125, 9725.2529296875, 9996.65625, 10041.8916015625, 9725.2529296875, 9951.4228515625, 9725.2529296875, 9725.2529296875, 9634.7861328125, 9725.2529296875, 9906.189453125, 9906.189453125, 9951.4228515625, 9996.65625, 9996.65625, 9951.4228515625, 9951.4228515625, 9860.955078125, 9951.4228515625, 9860.955078125, 9951.4228515625, 9906.189453125, 9860.955078125, 9906.189453125, 9680.021484375, 9860.955078125, 10016.6689453125, 9834.5478515625, 9424.775390625, 9060.533203125, 9197.1240234375, 9151.59375, 8741.8193359375, 8605.228515625, 8423.1083984375, 8559.69921875, 8468.638671875, 8923.9404296875, 9060.533203125, 9151.59375, 9060.533203125, 8605.228515625, 8377.5791015625, 8286.517578125, 8149.92578125, 8514.16796875, 8605.228515625, 9106.064453125, 9015.0029296875, 9060.533203125, 8605.228515625, 8696.2890625, 8650.759765625, 8286.517578125, 8423.1083984375, 8605.228515625, 8923.9404296875, 9197.1240234375, 9288.1845703125, 9197.1240234375, 9288.1845703125, 9288.1845703125, 9288.1845703125, 9106.064453125, 9379.244140625, 9470.3056640625, 9288.1845703125, 9424.775390625, 9197.1240234375, 9379.244140625, 9470.3056640625, 9515.8359375, 9743.48828125, 9379.244140625, 9743.48828125, 9925.609375, 9789.0166015625, 9379.244140625, 8650.759765625, 8605.228515625, 8741.8193359375, 8514.16796875, 8514.16796875, 8286.517578125, 8149.92578125, 8332.046875, 8195.4560546875, 8240.9873046875, 8104.39599609375, 8058.86572265625, 7785.68359375, 7831.21435546875, 8013.3349609375, 8514.16796875, 8923.9404296875, 9015.0029296875, 9060.533203125, 9060.533203125, 9151.59375, 9197.1240234375, 9197.1240234375, 9834.5478515625, 9561.3662109375, 9697.95703125, 9515.8359375, 9515.8359375, 9424.775390625, 9379.244140625, 9106.064453125, 9106.064453125, 9379.244140625, 9515.8359375, 9470.3056640625, 9424.775390625, 9515.8359375, 9470.3056640625, 9652.42578125, 9743.48828125, 9606.896484375, 9606.896484375, 9652.42578125, 9743.48828125, 9606.896484375, 9561.3662109375, 9743.48828125, 9789.0166015625, 9789.0166015625, 9652.42578125, 9743.48828125, 9515.8359375, 9470.3056640625, 9424.775390625, 9515.8359375, 9652.42578125, 9424.775390625, 9333.7138671875, 9151.59375, 9060.533203125, 9151.59375, 9288.1845703125, 9379.244140625, 9288.1845703125, 9151.59375, 8969.47265625, 9106.064453125, 9242.65234375, 8787.349609375, 8832.880859375, 8878.412109375, 8828.095703125, 8965.3203125, 8965.3203125, 8828.095703125, 8736.611328125, 8690.87109375, 8599.388671875, 8965.3203125, 9011.060546875, 8828.095703125, 8690.87109375, 8553.6474609375, 8690.87109375, 8645.130859375, 8736.611328125, 8462.1640625, 8690.87109375, 8645.130859375, 8599.388671875, 8782.3544921875, 8965.3203125, 8690.87109375, 8553.6474609375, 8576.5166015625, 8530.775390625, 8599.388671875, 8599.388671875, 8965.3203125, 9102.5458984375, 9148.2861328125, 9056.802734375, 8988.189453125, 9011.060546875, 9056.802734375, 9331.25390625, 9308.380859375, 8965.3203125, 9148.2861328125, 9148.2861328125, 9079.673828125, 8988.189453125, 9011.060546875, 9102.5458984375, 9285.509765625, 9376.994140625, 9194.025390625, 9285.509765625, 9422.734375, 9376.994140625, 9491.345703125, 9582.8310546875, 9514.216796875, 9376.994140625, 9514.216796875, 9559.9580078125, 9514.216796875, 9491.345703125, 9399.8623046875, 9422.734375, 9354.123046875, 9399.8623046875, 9582.8310546875, 9651.4404296875, 9674.3115234375, 9697.18359375, 9605.701171875, 9514.216796875, 9468.4755859375, 9491.345703125, 10131.7275390625, 10017.37109375, 9880.1484375, 9788.666015625, 9537.0859375, 9445.60546875, 9399.8623046875, 9422.734375, 9491.345703125, 9468.4755859375, 9697.18359375, 10017.37109375, 9971.6318359375, 10017.37109375, 9925.8896484375, 9971.6318359375, 10017.37109375, 10017.37109375, 9971.6318359375, 10154.59765625, 10291.8193359375, 10154.59765625, 10108.8564453125, 10246.0810546875, 10223.2099609375, 10108.8564453125, 10108.8564453125, 10063.115234375, 10063.115234375, 9697.18359375, 10063.115234375, 10132.1982421875, 10109.1708984375, 10109.1708984375, 10132.1982421875, 10132.1982421875, 10178.25390625, 10316.419921875, 10316.419921875, 10316.419921875, 10454.583984375, 10454.583984375, 10454.583984375, 10270.365234375, 10293.3916015625, 10523.6689453125, 10477.6142578125, 10408.5302734375, 10385.501953125, 9924.94921875, 10270.365234375, 10362.47265625, 10178.25390625, 10178.25390625, 10178.25390625, 10201.2802734375, 10362.47265625, 10362.47265625, 10316.419921875, 10201.2802734375, 10155.2255859375, 10201.2802734375, 10155.2255859375, 10178.25390625, 10040.087890625, 10132.1982421875, 10086.1396484375, 9855.8642578125, 10132.1982421875, 9971.0029296875, 10132.1982421875, 10132.1982421875, 10201.2802734375, 10109.1708984375, 10224.30859375, 10385.501953125, 10408.5302734375, 10408.5302734375, 10569.72265625, 10408.5302734375, 10408.5302734375, 10500.6416015625, 10730.9189453125, 10730.9189453125, 10730.9189453125, 10730.9189453125, 10753.947265625, 10707.888671875, 10730.9189453125, 10684.861328125, 10800.0, 10823.029296875, 10823.029296875, 10684.861328125, 10707.888671875, 10776.9736328125, 10776.9736328125, 10823.029296875, 10823.029296875, 10869.0849609375, 10846.056640625, 10753.947265625, 10846.056640625, 10869.0849609375, 10869.0849609375, 10846.056640625, 10869.0849609375, 10915.1396484375, 10915.1396484375, 10316.419921875, 10776.9736328125, 10776.9736328125, 10776.9736328125, 10869.0849609375, 11145.416015625, 11306.6123046875, 11536.8876953125, 11375.693359375, 11237.5283203125, 11099.3623046875, 11076.3330078125, 11007.2509765625, 11283.5830078125, 11559.9150390625, 11605.9716796875, 11790.1943359375, 11652.02734375, 11490.83203125, 11859.275390625, 11790.1943359375, 12043.4990234375, 12043.4990234375, 11997.443359375, 11421.7490234375, 11168.4423828125, 11329.638671875, 11490.83203125, 11513.859375, 11744.1376953125, 11790.1943359375, 11605.9716796875, 11628.99609375, 11675.0546875, 11605.9716796875, 11582.9443359375, 11628.99609375, 11744.1376953125, 11997.443359375, 12227.720703125, 12273.775390625, 12135.6103515625, 12273.775390625, 12319.8291015625, 11974.416015625, 12020.470703125, 12043.4990234375, 11997.443359375, 12066.525390625, 11951.3876953125, 11698.083984375, 11559.9150390625, 11813.2216796875, 11859.275390625, 11859.275390625, 11905.33203125, 11882.3046875, 12066.525390625, 12296.8037109375, 12204.69140625, 12273.775390625, 12227.720703125, 12204.69140625, 12181.6640625, 12066.525390625, 12066.525390625, 12043.4990234375, 12158.63671875, 12204.69140625, 12204.69140625, 12343.380859375, 12274.0380859375, 12250.921875, 12297.15234375, 12274.0380859375, 12250.921875, 12066.0029296875, 11881.0810546875, 11881.0810546875, 11996.6572265625, 12181.578125, 12089.119140625, 12158.462890625, 12204.6923828125, 12158.462890625, 12135.3466796875, 12227.8056640625, 12204.6923828125, 12112.232421875, 12135.3466796875, 11996.6572265625, 11950.427734375, 12019.7724609375, 12019.7724609375, 11950.427734375, 11973.54296875, 11973.54296875, 12019.7724609375, 12042.8876953125, 12089.119140625, 12204.6923828125, 12320.267578125, 12158.462890625, 12204.6923828125, 12274.0380859375, 12320.267578125, 12366.49609375, 12343.380859375, 12482.0712890625, 12851.9111328125, 12666.9912109375, 12666.9912109375, 12759.451171875, 12713.2197265625, 12875.0263671875, 12851.9111328125, 12967.4853515625, 12944.3701171875, 13013.7158203125, 13013.7158203125, 12990.6005859375, 12967.4853515625, 12990.6005859375, 13036.8310546875, 13013.7158203125, 13036.8310546875, 13152.404296875, 13314.208984375, 13337.32421875, 13406.6689453125, 13499.12890625, 13291.09375, 13337.32421875, 13198.6328125, 13129.291015625, 13036.8310546875, 13083.0595703125, 13036.8310546875, 13152.404296875, 13175.51953125, 13244.8623046875, 13360.439453125, 13452.8984375, 13522.244140625, 13429.7841796875, 13360.439453125, 13406.6689453125, 13707.1650390625, 13707.1650390625, 13684.0478515625, 14030.771484375, 14146.34765625, 13892.083984375, 13938.3134765625, 13915.197265625, 13892.083984375, 13822.7392578125, 13637.818359375, 13776.509765625, 13728.1123046875, 13681.5751953125, 13867.720703125, 13844.44921875, 13867.720703125, 13867.720703125, 13216.21484375, 13076.6083984375, 12564.7119140625, 12541.4443359375, 12774.1240234375, 12890.4638671875, 12750.85546875, 12750.85546875, 12820.6591796875, 12750.85546875, 12774.1240234375, 12774.1240234375, 12587.9794921875, 12657.7822265625, 12704.3203125, 12913.732421875, 13146.412109375, 13355.8232421875, 13309.287109375, 13355.8232421875, 13262.751953125, 13169.681640625, 13146.412109375, 13146.412109375, 12657.7822265625, 12681.0517578125, 12704.3203125, 12634.517578125, 12378.568359375, 12401.8349609375, 12425.103515625, 12332.0322265625, 12378.568359375, 12425.103515625, 12774.1240234375, 12681.0517578125, 12750.85546875, 12774.1240234375, 12727.5888671875, 12681.0517578125, 12541.4443359375, 12611.2490234375, 12564.7119140625, 12564.7119140625, 12564.7119140625, 12657.7822265625, 12681.0517578125, 12657.7822265625, 12285.4970703125, 12401.8349609375, 12332.0322265625, 12378.568359375, 12564.7119140625, 12657.7822265625, 12564.7119140625, 12611.2490234375, 12797.3916015625, 12774.1240234375, 12518.17578125, 12099.3525390625, 11959.7431640625, 11913.208984375, 12192.423828125, 12332.0322265625, 12378.568359375, 12750.85546875, 12843.9267578125, 12797.3916015625, 12890.4638671875, 12611.2490234375, 12238.9619140625, 12285.4970703125, 12332.0322265625, 12076.0859375, 11820.13671875, 11424.580078125, 11052.29296875, 10517.12890625, 10819.61328125, 11029.0244140625, 11727.064453125, 11959.7431640625, 12006.28125, 11703.7958984375, 11424.580078125, 11447.8486328125, 11401.3134765625, 11098.830078125, 10982.4892578125, 11098.830078125, 11098.830078125, 11098.830078125, 11261.703125, 11122.09765625, 11029.0244140625, 11378.044921875, 11424.580078125, 11331.509765625, 11308.2421875, 11052.29296875, 10982.4892578125, 10680.0048828125, 11075.5615234375, 11424.580078125, 11168.6337890625, 11052.29296875, 11680.529296875, 12052.81640625, 12099.3525390625, 12192.423828125, 12285.4970703125, 12448.37109375, 12052.81640625, 12076.0859375, 11913.208984375, 12215.69140625, 12285.4970703125, 12401.8349609375, 12471.6416015625, 12541.4443359375, 12704.3203125, 12704.3203125, 12634.517578125, 12238.9619140625, 12006.28125, 11889.9404296875, 12238.9619140625, 12494.9072265625, 12611.2490234375, 12611.2490234375, 12215.69140625, 12029.548828125, 12076.0859375, 12076.0859375, 12080.7587890625, 12057.3916015625, 12267.6923828125, 12220.958984375, 12104.125, 12291.0615234375, 12431.26171875, 12594.83203125, 12618.19921875, 12641.5654296875, 12291.0615234375, 11566.6826171875, 12384.5283203125, 12431.26171875, 12431.26171875, 12267.6923828125, 12361.162109375, 12174.2265625, 12174.2265625, 12618.19921875, 12337.7939453125, 12337.7939453125, 12244.326171875, 12594.83203125, 12711.6689453125, 12361.162109375, 12314.4287109375, 12337.7939453125, 12314.4287109375, 12454.6298828125, 12384.5283203125, 12431.26171875, 12361.162109375, 12501.36328125, 12337.7939453125, 12150.859375, 12150.859375, 11917.1875, 12244.326171875, 12314.4287109375, 12174.2265625, 12150.859375, 12127.4912109375, 12220.958984375, 12174.2265625, 12104.125, 12150.859375, 12267.6923828125, 12150.859375, 12244.326171875, 12291.0615234375, 12244.326171875, 12361.162109375, 12244.326171875, 12197.5927734375, 12291.0615234375, 12548.0966796875, 12431.26171875, 12407.8955078125, 12477.99609375, 12407.8955078125, 12477.99609375, 12524.7314453125, 12524.7314453125, 12524.7314453125, 12197.5927734375, 12314.4287109375, 12244.326171875, 12174.2265625, 12220.958984375, 12477.99609375, 12594.83203125, 12524.7314453125, 12571.46484375, 12641.5654296875, 12688.2998046875, 12688.2998046875, 12524.7314453125, 12524.7314453125, 12524.7314453125, 12524.7314453125, 12688.2998046875, 12711.6689453125, 12828.501953125, 12805.1376953125, 12875.23828125, 12758.4013671875, 12618.19921875, 12454.6298828125, 12314.4287109375, 12220.958984375, 12267.6923828125, 12431.26171875, 12431.26171875, 12454.6298828125, 12454.6298828125, 12197.5927734375, 12244.326171875, 12220.958984375, 12220.958984375, 12197.5927734375, 12197.5927734375, 12197.5927734375, 12296.53125, 12296.53125, 12296.53125, 12343.642578125, 12343.642578125, 12367.2001953125, 12343.642578125, 12202.3046875, 12296.53125, 12272.9755859375, 12296.53125, 12343.642578125, 12296.53125, 12343.642578125, 12367.2001953125, 12414.3134765625, 12390.7568359375, 12390.7568359375, 12390.7568359375, 12272.9755859375, 12249.41796875, 12272.9755859375, 12225.8603515625, 12272.9755859375, 12343.642578125, 12225.8603515625, 12249.41796875, 12272.9755859375, 12249.41796875, 12437.8701171875, 12249.41796875, 12414.3134765625, 12390.7568359375, 12367.2001953125, 12367.2001953125, 12343.642578125, 12343.642578125, 12249.41796875, 12178.7490234375, 12037.4072265625, 12108.076171875, 12178.7490234375, 12249.41796875, 12155.19140625, 12084.521484375, 12084.521484375, 12155.19140625, 12202.3046875, 12037.4072265625, 12060.96484375, 12272.9755859375, 12532.0947265625, 12555.650390625, 12461.42578125, 12720.548828125, 12956.1142578125, 13003.2275390625, 13050.33984375, 13191.6806640625, 13144.5673828125, 13474.3564453125, 13615.69921875, 13709.9248046875, 13686.3671875, 13662.810546875, 13521.4716796875, 13709.9248046875, 13592.142578125, 13615.69921875, 14016.1591796875, 14133.9423828125, 14110.38671875, 14133.9423828125, 14228.1689453125, 14228.1689453125, 14133.9423828125, 14086.830078125, 14086.830078125, 14133.9423828125, 14181.0556640625, 14251.7265625, 14322.3955078125, 14416.62109375, 14416.62109375, 14393.064453125, 14416.62109375, 14369.5087890625, 14322.3955078125, 14157.4990234375, 14133.9423828125, 14181.0556640625, 14133.9423828125, 14133.9423828125, 14133.9423828125, 14157.4990234375, 14322.3955078125, 14298.8388671875, 14181.0556640625, 14157.4990234375, 14110.38671875, 14228.1689453125, 14228.1689453125, 14369.5087890625, 14228.1689453125, 14298.8388671875, 14463.734375, 14581.517578125, 14463.734375, 15076.20703125, 14534.4052734375, 14817.0830078125, 14793.5263671875, 15052.6494140625, 15029.0927734375, 14887.751953125, 14864.1962890625, 14887.751953125, 14793.5263671875, 14887.751953125, 14699.2998046875, 14557.9609375, 14887.751953125, 14981.98046875, 15123.3173828125, 15052.6494140625, 14840.6396484375, 14887.751953125, 14769.9697265625, 14605.0732421875, 14605.0732421875, 14628.630859375, 14699.2998046875, 14628.630859375, 14557.9609375, 14581.517578125, 14534.4052734375, 14605.0732421875, 14510.84765625, 14605.0732421875, 14416.62109375, 14345.9521484375, 13827.70703125, 13545.02734375, 13709.9248046875, 13874.8203125, 13898.376953125, 13874.8203125, 13874.8203125, 13804.15234375, 13851.2646484375, 13709.9248046875, 13686.3671875, 13545.02734375, 13521.4716796875, 13474.3564453125, 13730.0185546875, 13895.728515625, 13872.0556640625, 13895.728515625, 13872.0556640625, 13919.4013671875, 13919.4013671875, 13919.4013671875, 13966.74609375, 13990.41796875, 14014.08984375, 13943.072265625, 13990.41796875, 13895.728515625, 13777.3662109375, 13682.6767578125, 14014.08984375, 13943.072265625, 14534.884765625, 14676.9189453125, 14676.9189453125, 14937.314453125, 14866.2978515625, 14842.626953125, 14771.6083984375, 14534.884765625, 14582.228515625, 14487.5390625, 14511.2109375, 14463.8662109375, 14369.1767578125, 14369.1767578125, 14487.5390625, 14558.5556640625, 14440.1943359375, 14250.81640625, 14250.81640625, 14156.125, 14487.5390625, 14582.228515625, 14629.57421875, 14487.5390625, 14605.90234375, 14629.57421875, 14653.24609375, 14771.6083984375, 14795.2802734375, 14771.6083984375, 14795.2802734375, 14203.4697265625, 14700.5908203125, 14676.9189453125, 14676.9189453125, 14676.9189453125, 14653.24609375, 14629.57421875, 14676.9189453125, 14676.9189453125, 14676.9189453125, 14676.9189453125, 14676.9189453125, 14629.57421875, 14676.9189453125, 14676.9189453125, 14653.24609375, 14653.24609375, 14629.57421875, 14676.9189453125, 14795.2802734375, 14795.2802734375, 14724.263671875, 14842.626953125, 14818.9541015625, 15032.005859375, 15103.0244140625, 15221.384765625, 15387.0927734375, 15458.1103515625, 15718.5078125, 15671.1611328125, 15671.1611328125, 15813.1962890625, 15931.556640625, 15671.1611328125, 15694.8349609375, 15860.5400390625, 15860.5400390625, 16405.009765625, 16428.6796875, 16428.6796875, 16523.37109375, 16712.75, 16428.6796875, 16147.236328125, 16147.236328125, 16147.236328125, 16528.85546875, 16671.962890625, 16600.40625, 17172.837890625, 16719.6640625, 16934.326171875, 17077.431640625, 16934.326171875, 17005.880859375, 16958.177734375, 17125.134765625, 17172.837890625, 17101.28515625, 17172.837890625, 17411.34765625, 16600.40625, 16171.0869140625, 16600.40625, 17077.431640625, 16838.91796875, 16886.62109375, 16671.962890625, 16767.365234375, 16958.177734375, 16791.21484375, 16361.89453125, 16361.89453125, 16743.515625, 16910.470703125, 16743.515625, 16982.029296875, 17101.28515625, 16886.62109375, 16934.326171875, 17053.58203125, 17148.984375, 17220.5390625, 16982.029296875, 17101.28515625, 17268.240234375, 17363.646484375, 17315.943359375, 17315.943359375, 17315.943359375, 17315.943359375, 17315.943359375, 17315.943359375, 17315.943359375, 17649.859375, 17697.5625, 17506.751953125, 17387.498046875, 17649.859375, 17459.052734375, 17482.90234375, 17578.30859375, 17649.859375, 17554.45703125, 17459.052734375, 17506.751953125, 17626.0078125, 17602.158203125, 17387.498046875, 17721.412109375, 17721.412109375, 17912.22265625, 17936.072265625, 17936.072265625, 17840.666015625, 18055.326171875, 18055.326171875, 17888.369140625, 17721.412109375, 17769.115234375, 18126.8828125, 18103.03125, 17959.923828125, 17816.81640625, 17888.369140625, 17816.81640625, 18031.478515625, 18031.478515625, 17840.666015625, 17936.072265625, 17936.072265625, 18269.98828125, 18079.181640625, 18222.287109375, 18198.435546875, 18198.435546875, 18222.287109375, 18079.181640625, 18079.181640625, 18007.62890625, 18126.8828125, 18031.478515625, 18079.181640625, 17983.77734375, 18031.478515625, 18150.734375, 18174.583984375, 18222.287109375, 18007.62890625, 18103.03125, 18198.435546875, 18174.583984375, 18174.583984375, 18961.673828125, 18770.861328125, 18747.01171875, 18842.41796875, 18913.970703125, 19367.14453125, 19390.99609375, 19414.84765625, 19390.99609375, 19343.294921875, 19510.25390625, 19414.84765625, 19438.697265625, 19438.697265625, 19844.166015625, 19724.91015625, 19772.609375, 19557.951171875, 19271.740234375, 19390.99609375, 19414.84765625, 20034.9765625, 19653.35546875, 20082.677734375, 19820.314453125, 19367.14453125, 19486.400390625, 19939.572265625, 20345.041015625, 20488.1484375, 20058.828125, 20034.9765625, 20082.677734375, 19844.166015625, 19844.166015625, 19701.05859375, 19534.1015625, 19534.1015625, 20058.828125, 20058.828125, 20201.93359375, 20058.828125, 20154.228515625, 20201.93359375, 20034.9765625, 20034.9765625, 20321.19140625, 20321.19140625, 20278.095703125, 19488.041015625, 19488.041015625, 19918.982421875, 20110.509765625, 20397.798828125, 20086.56640625, 20230.2109375, 20182.33203125, 20349.91796875, 20038.68359375, 20206.271484375, 20206.271484375, 20206.271484375, 20206.271484375, 20038.68359375, 20206.271484375, 20589.328125, 20589.328125, 20589.328125, 20613.26953125, 20996.328125, 20972.384765625, 20972.384765625, 20972.384765625, 20972.384765625, 21283.62109375, 21307.5625, 21403.328125, 21570.912109375, 21499.091796875, 21738.5, 21475.150390625, 21523.029296875, 21642.736328125, 21211.798828125, 21618.796875, 21499.091796875, 21523.029296875, 21690.619140625, 21618.796875, 21618.796875, 21738.5, 21834.265625, 21834.265625, 21762.44140625, 22384.912109375, 22959.498046875, 22791.912109375, 22528.556640625, 22504.615234375, 22696.142578125, 22576.4375, 22504.615234375, 22791.912109375, 22696.142578125, 22456.734375, 22456.734375, 23222.84765625, 23007.37890625, 23007.37890625, 22887.673828125, 23222.84765625, 22528.556640625, 22552.498046875, 22193.3828125, 22193.3828125, 21906.08984375, 21906.08984375, 21810.326171875, 21642.736328125, 22313.087890625, 22313.087890625, 22624.322265625, 22456.734375, 22408.8515625, 22384.912109375, 22360.970703125, 22360.970703125, 22289.1484375, 22384.912109375, 22456.734375, 22791.912109375, 22289.1484375, 22456.734375, 22337.029296875, 22313.087890625, 22313.087890625, 22408.8515625, 22408.8515625, 22313.087890625, 22073.67578125, 21762.44140625, 21810.326171875, 22313.087890625, 22337.029296875, 22169.44140625, 22097.0703125, 22097.0703125, 22097.0703125, 22169.44140625, 22169.44140625, 22169.44140625, 22193.564453125, 22121.1953125, 22121.1953125, 22121.1953125, 22121.1953125, 21325.12109375, 21325.12109375, 22097.0703125, 21518.111328125, 21252.75, 21518.111328125, 21252.75, 22097.0703125, 22097.0703125, 21952.330078125, 22169.44140625, 21421.61328125, 21590.48046875, 21228.62890625, 20939.14453125, 20890.8984375, 21228.62890625, 21228.62890625, 21662.849609375, 21759.341796875, 22048.822265625, 22048.822265625, 21904.083984375, 21904.083984375, 21904.083984375, 22121.1953125, 21928.205078125, 22217.6875, 22169.44140625, 21469.861328125, 21469.861328125, 21469.861328125, 21469.861328125, 21469.861328125, 21469.861328125, 21469.861328125, 21469.861328125, 20746.158203125, 20408.4296875, 21156.2578125, 21421.61328125, 20625.54296875, 20601.41796875, 20215.44140625, 20722.03515625, 20697.912109375, 19877.712890625, 20480.798828125, 20480.798828125, 20191.318359375, 21132.134765625, 21132.134765625, 21542.234375, 22024.701171875, 22217.6875, 22314.181640625, 21928.205078125, 22386.55078125, 22386.55078125, 22290.05859375, 22531.29296875, 22700.15625, 22748.404296875, 22507.169921875, 22410.67578125, 22458.923828125, 22458.923828125, 22651.91015625, 22627.7890625, 22627.7890625, 22965.517578125, 22965.517578125, 23086.1328125, 23254.99609375, 23037.884765625, 22507.169921875, 22676.03515625, 22627.7890625, 22555.416015625, 22555.416015625, 23062.009765625, 23037.884765625, 23037.884765625, 23713.33984375, 24195.810546875, 23906.330078125, 24099.31640625, 23930.453125, 24195.810546875, 23930.453125, 23906.330078125, 23882.205078125, 23158.50390625, 23833.95703125, 23978.69921875, 23882.205078125, 23882.205078125, 23062.009765625, 23158.50390625, 23134.380859375, 23086.1328125, 23158.50390625, 23158.50390625, 23110.255859375, 22869.01953125, 23086.1328125, 23086.1328125, 23351.490234375, 23158.50390625, 23303.244140625, 23110.255859375, 23110.255859375, 23086.1328125, 22772.52734375, 22241.8125, 22627.7890625, 22917.267578125, 22555.416015625, 21928.205078125, 22434.798828125, 23013.763671875, 23254.99609375, 23182.626953125, 22772.52734375, 22555.416015625, 22338.3046875, 22145.31640625, 21855.8359375, 22097.0703125, 22772.52734375, 22314.181640625, 22676.03515625, 22820.7734375, 22965.517578125, 23158.50390625, 23327.3671875, 23544.478515625, 23254.99609375, 23158.50390625, 23158.50390625, 22869.01953125, 23230.873046875, 23206.75, 23327.3671875, 23954.576171875, 24219.93359375, 24219.93359375, 23930.453125, 24219.93359375, 24219.93359375, 24340.548828125, 24605.91015625, 24557.662109375, 25281.365234375, 25136.626953125, 24976.888671875, 25364.126953125, 25315.72265625, 25460.9375, 25122.103515625, 25073.69921875, 24976.888671875, 25001.091796875, 25001.091796875, 25001.091796875, 25001.091796875, 24517.04296875, 25315.72265625, 24759.06640625, 25025.294921875, 25025.294921875, 25025.294921875, 25291.51953125, 25146.3046875, 25170.5078125, 25170.5078125, 25170.5078125, 25364.126953125, 25073.69921875, 25194.7109375, 25388.330078125, 25364.126953125, 25436.736328125, 25436.736328125, 25412.53125, 25170.5078125, 25460.9375, 25581.94921875, 25799.76953125, 26259.615234375, 26840.474609375, 27106.701171875, 26622.65234375, 26429.033203125, 26622.65234375, 26598.44921875, 26816.26953125, 26719.4609375, 27276.1171875, 27276.1171875, 26622.65234375, 26622.65234375, 26792.068359375, 26767.865234375, 26719.4609375, 26598.44921875, 26429.033203125, 26235.412109375, 26041.794921875, 25944.986328125, 26525.84375, 26041.794921875, 26622.65234375, 26646.85546875, 26574.248046875, 26574.248046875, 26888.880859375, 26937.28515625, 26695.259765625, 26816.26953125, 26792.068359375, 26598.44921875, 26574.248046875, 26574.248046875, 26332.22265625, 26646.85546875, 26622.65234375, 26622.65234375, 26525.84375, 26816.26953125, 26864.67578125, 26574.248046875, 26477.439453125, 26501.640625, 26550.044921875, 26404.830078125, 26477.439453125, 26550.044921875, 26477.439453125, 26671.05859375, 26622.65234375, 26622.65234375, 26622.65234375, 26816.26953125, 26767.865234375, 26525.84375, 26792.068359375, 26743.6640625, 26525.84375, 26622.65234375, 26646.85546875, 26598.44921875, 26598.44921875, 27227.712890625, 27227.712890625, 27227.712890625, 27251.916015625, 27501.03515625, 27330.068359375, 27452.1875, 27769.697265625, 28087.203125, 28087.203125, 27769.697265625, 27720.84765625, 27452.1875, 27647.576171875, 27842.966796875, 27501.03515625, 27403.341796875, 27403.341796875, 26841.59765625, 26670.630859375, 25791.37890625, 25302.90625, 26279.853515625, 26670.630859375, 26670.630859375, 27378.91796875, 27403.341796875, 27769.697265625, 28013.93359375, 28038.35546875, 28038.35546875, 28429.134765625, 28429.134765625, 28429.134765625, 28429.134765625, 28429.134765625, 28429.134765625, 28722.21875, 28868.76171875, 28551.251953125, 28355.86328125, 28331.439453125, 28307.015625, 28819.912109375, 28868.76171875, 28722.21875, 28697.794921875, 28868.76171875, 28648.947265625, 28990.880859375, 29283.962890625, 29259.537109375, 29308.38671875, 29308.38671875, 29259.537109375, 29161.84375, 28722.21875, 29308.38671875, 29308.38671875, 29430.505859375, 29357.232421875, 29821.283203125, 29723.587890625, 30041.095703125, 30016.673828125, 30285.333984375, 30724.958984375, 30456.298828125, 30529.568359375, 30529.568359375, 30260.908203125, 30236.484375, 30383.025390625, 30236.484375, 30334.1796875, 30114.365234375, 29308.38671875, 28722.21875, 29357.232421875, 29332.80859375, 29625.89453125, 29503.775390625, 29381.658203125, 29357.232421875, 29308.38671875, 29112.99609375, 29381.658203125, 29235.115234375, 29186.26953125, 29308.38671875, 29283.962890625, 29259.537109375, 29332.80859375, 29283.962890625, 29332.80859375, 29796.859375, 29308.38671875, 29577.048828125, 29406.080078125, 29503.775390625, 29430.505859375, 29479.3515625, 29577.048828125, 29796.859375, 29406.080078125, 29454.927734375, 29332.80859375, 29454.927734375, 29503.775390625, 29454.927734375, 29259.537109375, 29430.505859375, 29039.7265625, 28990.880859375, 29601.470703125, 29650.31640625, 29650.31640625, 29503.775390625, 29552.623046875, 29503.775390625, 29528.197265625, 29650.31640625, 29796.859375, 29650.31640625, 29845.70703125, 29918.9765625, 30285.333984375, 30163.212890625, 30358.6015625, 29870.130859375, 30089.943359375, 30383.025390625, 30773.8046875, 30651.6875, 30773.8046875, 30285.333984375, 30309.755859375, 30383.025390625, 30602.841796875, 30724.958984375, 30895.923828125, 30651.6875, 31066.888671875, 30749.380859375, 30700.533203125, 30676.111328125, 30749.380859375, 30602.841796875, 30676.111328125, 30627.263671875, 30651.6875, 30676.111328125, 30847.078125, 31018.04296875, 30773.8046875, 30798.23046875, 30651.6875, 30700.533203125, 30773.8046875, 30529.568359375, 30676.111328125, 31384.396484375, 31140.16015625, 31091.3125, 30969.193359375, 31336.708984375, 31336.708984375, 31189.703125, 31263.205078125, 31067.197265625, 31165.201171875, 31165.201171875, 31851.228515625, 33100.77734375, 32341.24609375, 32635.2578125, 32635.2578125, 32733.26171875, 32806.765625, 32757.76171875, 32782.265625, 33321.28515625, 33002.7734375, 33027.2734375, 32733.26171875, 33027.2734375, 32953.76953125, 33051.7734375, 33664.296875, 33492.79296875, 33566.29296875, 33688.80078125, 33492.79296875, 33468.2890625, 33517.29296875, 33517.29296875, 33370.28515625, 33517.29296875, 33272.28125, 33247.78125, 33027.2734375, 31753.224609375, 31557.216796875, 32341.24609375, 32978.2734375, 33027.2734375, 33125.27734375, 33247.78125, 33223.28125, 33321.28515625, 33272.28125, 32733.26171875, 32929.26953125, 32806.765625, 32806.765625, 32316.74609375, 32414.75, 31973.732421875, 31998.234375, 31459.212890625, 30822.1875, 30822.1875, 29793.1484375, 30969.193359375, 31557.216796875, 31532.71484375, 30381.171875, 28347.59375, 29033.619140625, 28666.10546875, 27245.05078125, 27245.05078125, 27245.05078125, 25088.966796875, 24500.9453125, 22785.87890625, 23202.39453125, 21707.837890625, 22050.849609375, 25872.998046875, 27000.041015625, 26926.5390625, 27073.54296875, 26853.03515625, 26510.021484375, 26926.5390625, 28102.583984375, 27710.568359375, 27612.564453125, 27416.556640625, 26951.0390625, 27024.541015625, 26877.537109375, 25676.990234375, 26583.525390625, 26240.51171875, 25722.08203125, 25647.30859375, 25522.6875, 24525.70703125, 24725.103515625, 24077.06640625, 24176.763671875, 25771.931640625, 26021.17578125, 26345.1953125, 26694.138671875, 26145.798828125, 26395.044921875, 26021.17578125, 25472.837890625, 24525.70703125, 23852.74609375, 23753.046875, 23329.330078125, 23753.046875, 24774.951171875, 24750.02734375, 26395.044921875, 25871.62890625, 26719.0625, 28812.720703125, 28862.5703125, 28538.55078125, 29410.908203125, 28937.34375, 28912.41796875, 28314.23046875, 28264.380859375, 27416.94921875, 28713.0234375, 28513.626953125, 27840.666015625, 27790.81640625, 27616.34375, 28015.13671875, 28438.853515625, 28538.55078125, 28139.759765625, 28289.306640625, 28389.00390625, 28912.41796875, 29261.361328125, 29261.361328125, 29585.380859375, 29859.548828125, 30906.37890625, 30407.888671875, 30906.37890625, 30781.755859375, 30906.37890625, 30657.1328125, 30806.6796875, 30507.5859375, 30607.28515625, 30906.37890625, 30806.6796875, 30906.37890625, 30407.888671875, 30407.888671875, 30831.60546875, 30582.359375, 31105.775390625, 30557.435546875, 30956.2265625, 30931.302734375, 31205.47265625, 30806.6796875, 30507.5859375, 30781.755859375, 31205.47265625, 31404.869140625, 31928.283203125, 31703.962890625, 31554.416015625, 31479.642578125, 31728.88671875, 31604.263671875, 32900.33984375, 32376.923828125, 31280.24609375, 32501.546875, 32077.830078125, 32401.84765625, 31803.66015625, 31330.095703125, 31579.33984375, 31130.69921875, 28962.267578125, 29435.833984375, 30158.642578125, 29211.51171875, 28663.173828125, 28688.09765625, 28064.986328125, 27940.36328125, 27167.703125, 27441.873046875, 27142.779296875, 27965.287109375, 27491.72265625, 27441.873046875, 27018.15625, 27765.892578125, 27441.873046875, 27516.646484375, 28413.927734375, 28688.09765625, 28812.720703125, 28787.796875, 29186.587890625, 29186.587890625, 29410.908203125, 28837.64453125, 28713.0234375, 29410.908203125, 28937.34375, 28812.720703125, 28912.41796875, 28762.87109375, 28987.19140625, 28862.5703125, 29012.1171875, 29361.060546875, 29012.1171875, 30657.1328125, 31404.869140625, 31330.095703125, 32302.150390625, 32601.244140625, 32003.056640625, 31853.509765625, 32302.150390625, 32651.09375, 32750.791015625, 32975.11328125, 32900.33984375, 32900.33984375, 32725.8671875, 31953.20703125, 32302.150390625, 31828.5859375, 30931.302734375, 31878.43359375, 32152.603515625, 32202.453125, 31853.509765625, 32501.546875, 32352.0, null, 32875.0, 33675.0, 34100.0, 33950.0, 34750.0, 34675.0, 34000.0, 34150.0, 33575.0, 33625.0, 33900.0, 33825.0, 33850.0, 34175.0, 35450.0, 34725.0, 34825.0, 35250.0, 36725.0, 35800.0, 35600.0, 35100.0, 34775.0, 35600.0, 35475.0, 35475.0, 35375.0, 35400.0, 35175.0, 34100.0, 33950.0, 34500.0, 33800.0, 34100.0, 34000.0, 34125.0, 34275.0, 34575.0, 34600.0, 34900.0, 34600.0, 34400.0, 34000.0, 34700.0, 34500.0, 33675.0, 34125.0, 33950.0, 34125.0, 33625.0, 33525.0, 33550.0, 35225.0, 35075.0, 35000.0, 33600.0, 34000.0, 33600.0, 33025.0, 33525.0]}],\n",
              "                        {\"legend\": {\"tracegroupgap\": 0}, \"template\": {\"data\": {\"bar\": [{\"error_x\": {\"color\": \"#2a3f5f\"}, \"error_y\": {\"color\": \"#2a3f5f\"}, \"marker\": {\"line\": {\"color\": \"#E5ECF6\", \"width\": 0.5}}, \"type\": \"bar\"}], \"barpolar\": [{\"marker\": {\"line\": {\"color\": \"#E5ECF6\", \"width\": 0.5}}, \"type\": \"barpolar\"}], \"carpet\": [{\"aaxis\": {\"endlinecolor\": \"#2a3f5f\", \"gridcolor\": \"white\", \"linecolor\": \"white\", \"minorgridcolor\": \"white\", \"startlinecolor\": \"#2a3f5f\"}, \"baxis\": {\"endlinecolor\": \"#2a3f5f\", \"gridcolor\": \"white\", \"linecolor\": \"white\", \"minorgridcolor\": \"white\", \"startlinecolor\": \"#2a3f5f\"}, \"type\": \"carpet\"}], \"choropleth\": [{\"colorbar\": {\"outlinewidth\": 0, \"ticks\": \"\"}, \"type\": \"choropleth\"}], \"contour\": [{\"colorbar\": {\"outlinewidth\": 0, \"ticks\": \"\"}, \"colorscale\": [[0.0, \"#0d0887\"], [0.1111111111111111, \"#46039f\"], [0.2222222222222222, \"#7201a8\"], [0.3333333333333333, \"#9c179e\"], [0.4444444444444444, \"#bd3786\"], [0.5555555555555556, \"#d8576b\"], [0.6666666666666666, \"#ed7953\"], [0.7777777777777778, \"#fb9f3a\"], [0.8888888888888888, \"#fdca26\"], [1.0, \"#f0f921\"]], \"type\": \"contour\"}], \"contourcarpet\": [{\"colorbar\": {\"outlinewidth\": 0, \"ticks\": \"\"}, \"type\": \"contourcarpet\"}], \"heatmap\": [{\"colorbar\": {\"outlinewidth\": 0, \"ticks\": \"\"}, \"colorscale\": [[0.0, \"#0d0887\"], [0.1111111111111111, \"#46039f\"], [0.2222222222222222, \"#7201a8\"], [0.3333333333333333, \"#9c179e\"], [0.4444444444444444, \"#bd3786\"], [0.5555555555555556, \"#d8576b\"], [0.6666666666666666, \"#ed7953\"], [0.7777777777777778, \"#fb9f3a\"], [0.8888888888888888, \"#fdca26\"], [1.0, \"#f0f921\"]], \"type\": \"heatmap\"}], \"heatmapgl\": [{\"colorbar\": {\"outlinewidth\": 0, \"ticks\": \"\"}, \"colorscale\": [[0.0, \"#0d0887\"], [0.1111111111111111, \"#46039f\"], [0.2222222222222222, \"#7201a8\"], [0.3333333333333333, \"#9c179e\"], [0.4444444444444444, \"#bd3786\"], [0.5555555555555556, \"#d8576b\"], [0.6666666666666666, \"#ed7953\"], [0.7777777777777778, \"#fb9f3a\"], [0.8888888888888888, \"#fdca26\"], [1.0, \"#f0f921\"]], \"type\": \"heatmapgl\"}], \"histogram\": [{\"marker\": {\"colorbar\": {\"outlinewidth\": 0, \"ticks\": \"\"}}, \"type\": \"histogram\"}], \"histogram2d\": [{\"colorbar\": {\"outlinewidth\": 0, \"ticks\": \"\"}, \"colorscale\": [[0.0, \"#0d0887\"], [0.1111111111111111, \"#46039f\"], [0.2222222222222222, \"#7201a8\"], [0.3333333333333333, \"#9c179e\"], [0.4444444444444444, \"#bd3786\"], [0.5555555555555556, \"#d8576b\"], [0.6666666666666666, \"#ed7953\"], [0.7777777777777778, \"#fb9f3a\"], [0.8888888888888888, \"#fdca26\"], [1.0, \"#f0f921\"]], \"type\": \"histogram2d\"}], \"histogram2dcontour\": [{\"colorbar\": {\"outlinewidth\": 0, \"ticks\": \"\"}, \"colorscale\": [[0.0, \"#0d0887\"], [0.1111111111111111, \"#46039f\"], [0.2222222222222222, \"#7201a8\"], [0.3333333333333333, \"#9c179e\"], [0.4444444444444444, \"#bd3786\"], [0.5555555555555556, \"#d8576b\"], [0.6666666666666666, \"#ed7953\"], [0.7777777777777778, \"#fb9f3a\"], [0.8888888888888888, \"#fdca26\"], [1.0, \"#f0f921\"]], \"type\": \"histogram2dcontour\"}], \"mesh3d\": [{\"colorbar\": {\"outlinewidth\": 0, \"ticks\": \"\"}, \"type\": \"mesh3d\"}], \"parcoords\": [{\"line\": {\"colorbar\": {\"outlinewidth\": 0, \"ticks\": \"\"}}, \"type\": \"parcoords\"}], \"pie\": [{\"automargin\": true, \"type\": \"pie\"}], \"scatter\": [{\"marker\": {\"colorbar\": {\"outlinewidth\": 0, \"ticks\": \"\"}}, \"type\": \"scatter\"}], \"scatter3d\": [{\"line\": {\"colorbar\": {\"outlinewidth\": 0, \"ticks\": \"\"}}, \"marker\": {\"colorbar\": {\"outlinewidth\": 0, \"ticks\": \"\"}}, \"type\": \"scatter3d\"}], \"scattercarpet\": [{\"marker\": {\"colorbar\": {\"outlinewidth\": 0, \"ticks\": \"\"}}, \"type\": \"scattercarpet\"}], \"scattergeo\": [{\"marker\": {\"colorbar\": {\"outlinewidth\": 0, \"ticks\": \"\"}}, \"type\": \"scattergeo\"}], \"scattergl\": [{\"marker\": {\"colorbar\": {\"outlinewidth\": 0, \"ticks\": \"\"}}, \"type\": \"scattergl\"}], \"scattermapbox\": [{\"marker\": {\"colorbar\": {\"outlinewidth\": 0, \"ticks\": \"\"}}, \"type\": \"scattermapbox\"}], \"scatterpolar\": [{\"marker\": {\"colorbar\": {\"outlinewidth\": 0, \"ticks\": \"\"}}, \"type\": \"scatterpolar\"}], \"scatterpolargl\": [{\"marker\": {\"colorbar\": {\"outlinewidth\": 0, \"ticks\": \"\"}}, \"type\": \"scatterpolargl\"}], \"scatterternary\": [{\"marker\": {\"colorbar\": {\"outlinewidth\": 0, \"ticks\": \"\"}}, \"type\": \"scatterternary\"}], \"surface\": [{\"colorbar\": {\"outlinewidth\": 0, \"ticks\": \"\"}, \"colorscale\": [[0.0, \"#0d0887\"], [0.1111111111111111, \"#46039f\"], [0.2222222222222222, \"#7201a8\"], [0.3333333333333333, \"#9c179e\"], [0.4444444444444444, \"#bd3786\"], [0.5555555555555556, \"#d8576b\"], [0.6666666666666666, \"#ed7953\"], [0.7777777777777778, \"#fb9f3a\"], [0.8888888888888888, \"#fdca26\"], [1.0, \"#f0f921\"]], \"type\": \"surface\"}], \"table\": [{\"cells\": {\"fill\": {\"color\": \"#EBF0F8\"}, \"line\": {\"color\": \"white\"}}, \"header\": {\"fill\": {\"color\": \"#C8D4E3\"}, \"line\": {\"color\": \"white\"}}, \"type\": \"table\"}]}, \"layout\": {\"annotationdefaults\": {\"arrowcolor\": \"#2a3f5f\", \"arrowhead\": 0, \"arrowwidth\": 1}, \"coloraxis\": {\"colorbar\": {\"outlinewidth\": 0, \"ticks\": \"\"}}, \"colorscale\": {\"diverging\": [[0, \"#8e0152\"], [0.1, \"#c51b7d\"], [0.2, \"#de77ae\"], [0.3, \"#f1b6da\"], [0.4, \"#fde0ef\"], [0.5, \"#f7f7f7\"], [0.6, \"#e6f5d0\"], [0.7, \"#b8e186\"], [0.8, \"#7fbc41\"], [0.9, \"#4d9221\"], [1, \"#276419\"]], \"sequential\": [[0.0, \"#0d0887\"], [0.1111111111111111, \"#46039f\"], [0.2222222222222222, \"#7201a8\"], [0.3333333333333333, \"#9c179e\"], [0.4444444444444444, \"#bd3786\"], [0.5555555555555556, \"#d8576b\"], [0.6666666666666666, \"#ed7953\"], [0.7777777777777778, \"#fb9f3a\"], [0.8888888888888888, \"#fdca26\"], [1.0, \"#f0f921\"]], \"sequentialminus\": [[0.0, \"#0d0887\"], [0.1111111111111111, \"#46039f\"], [0.2222222222222222, \"#7201a8\"], [0.3333333333333333, \"#9c179e\"], [0.4444444444444444, \"#bd3786\"], [0.5555555555555556, \"#d8576b\"], [0.6666666666666666, \"#ed7953\"], [0.7777777777777778, \"#fb9f3a\"], [0.8888888888888888, \"#fdca26\"], [1.0, \"#f0f921\"]]}, \"colorway\": [\"#636efa\", \"#EF553B\", \"#00cc96\", \"#ab63fa\", \"#FFA15A\", \"#19d3f3\", \"#FF6692\", \"#B6E880\", \"#FF97FF\", \"#FECB52\"], \"font\": {\"color\": \"#2a3f5f\"}, \"geo\": {\"bgcolor\": \"white\", \"lakecolor\": \"white\", \"landcolor\": \"#E5ECF6\", \"showlakes\": true, \"showland\": true, \"subunitcolor\": \"white\"}, \"hoverlabel\": {\"align\": \"left\"}, \"hovermode\": \"closest\", \"mapbox\": {\"style\": \"light\"}, \"paper_bgcolor\": \"white\", \"plot_bgcolor\": \"#E5ECF6\", \"polar\": {\"angularaxis\": {\"gridcolor\": \"white\", \"linecolor\": \"white\", \"ticks\": \"\"}, \"bgcolor\": \"#E5ECF6\", \"radialaxis\": {\"gridcolor\": \"white\", \"linecolor\": \"white\", \"ticks\": \"\"}}, \"scene\": {\"xaxis\": {\"backgroundcolor\": \"#E5ECF6\", \"gridcolor\": \"white\", \"gridwidth\": 2, \"linecolor\": \"white\", \"showbackground\": true, \"ticks\": \"\", \"zerolinecolor\": \"white\"}, \"yaxis\": {\"backgroundcolor\": \"#E5ECF6\", \"gridcolor\": \"white\", \"gridwidth\": 2, \"linecolor\": \"white\", \"showbackground\": true, \"ticks\": \"\", \"zerolinecolor\": \"white\"}, \"zaxis\": {\"backgroundcolor\": \"#E5ECF6\", \"gridcolor\": \"white\", \"gridwidth\": 2, \"linecolor\": \"white\", \"showbackground\": true, \"ticks\": \"\", \"zerolinecolor\": \"white\"}}, \"shapedefaults\": {\"line\": {\"color\": \"#2a3f5f\"}}, \"ternary\": {\"aaxis\": {\"gridcolor\": \"white\", \"linecolor\": \"white\", \"ticks\": \"\"}, \"baxis\": {\"gridcolor\": \"white\", \"linecolor\": \"white\", \"ticks\": \"\"}, \"bgcolor\": \"#E5ECF6\", \"caxis\": {\"gridcolor\": \"white\", \"linecolor\": \"white\", \"ticks\": \"\"}}, \"title\": {\"x\": 0.05}, \"xaxis\": {\"automargin\": true, \"gridcolor\": \"white\", \"linecolor\": \"white\", \"ticks\": \"\", \"title\": {\"standoff\": 15}, \"zerolinecolor\": \"white\", \"zerolinewidth\": 2}, \"yaxis\": {\"automargin\": true, \"gridcolor\": \"white\", \"linecolor\": \"white\", \"ticks\": \"\", \"title\": {\"standoff\": 15}, \"zerolinecolor\": \"white\", \"zerolinewidth\": 2}}}, \"title\": {\"text\": \"BBCA Stock Price\"}, \"xaxis\": {\"anchor\": \"y\", \"domain\": [0.0, 1.0]}, \"yaxis\": {\"anchor\": \"x\", \"domain\": [0.0, 1.0]}},\n",
              "                        {\"responsive\": true}\n",
              "                    ).then(function(){\n",
              "                            \n",
              "var gd = document.getElementById('4bba7c42-c958-4d41-928b-f695634e4516');\n",
              "var x = new MutationObserver(function (mutations, observer) {{\n",
              "        var display = window.getComputedStyle(gd).display;\n",
              "        if (!display || display === 'none') {{\n",
              "            console.log([gd, 'removed!']);\n",
              "            Plotly.purge(gd);\n",
              "            observer.disconnect();\n",
              "        }}\n",
              "}});\n",
              "\n",
              "// Listen for the removal of the full notebook cells\n",
              "var notebookContainer = gd.closest('#notebook-container');\n",
              "if (notebookContainer) {{\n",
              "    x.observe(notebookContainer, {childList: true});\n",
              "}}\n",
              "\n",
              "// Listen for the clearing of the current output cell\n",
              "var outputEl = gd.closest('.output');\n",
              "if (outputEl) {{\n",
              "    x.observe(outputEl, {childList: true});\n",
              "}}\n",
              "\n",
              "                        })\n",
              "                };\n",
              "                \n",
              "            </script>\n",
              "        </div>\n",
              "</body>\n",
              "</html>"
            ]
          },
          "metadata": {
            "tags": []
          }
        }
      ]
    },
    {
      "cell_type": "markdown",
      "metadata": {
        "id": "6t0N6zr30MTE"
      },
      "source": [
        "### Load dataset"
      ]
    },
    {
      "cell_type": "code",
      "metadata": {
        "colab": {
          "base_uri": "https://localhost:8080/",
          "height": 35
        },
        "id": "VvuEPnBB0OyJ",
        "outputId": "4ba8befd-4da4-40d3-e4d7-2931d870cc92"
      },
      "source": [
        "# Stock labels\r\n",
        "stock_labels = '^JKSE BBCA.JK BBNI.JK ICBP.JK INKP.JK KAEF.JK PTRO.JK PWON.JK'\r\n",
        "stock_labels"
      ],
      "execution_count": 85,
      "outputs": [
        {
          "output_type": "execute_result",
          "data": {
            "application/vnd.google.colaboratory.intrinsic+json": {
              "type": "string"
            },
            "text/plain": [
              "'^JKSE BBCA.JK BBNI.JK ICBP.JK INKP.JK KAEF.JK PTRO.JK PWON.JK'"
            ]
          },
          "metadata": {
            "tags": []
          },
          "execution_count": 85
        }
      ]
    },
    {
      "cell_type": "code",
      "metadata": {
        "colab": {
          "base_uri": "https://localhost:8080/"
        },
        "id": "IRMtyzpO2Dul",
        "outputId": "1eeb7927-05dc-48c2-f392-ebe042f81694"
      },
      "source": [
        "# Get data from Yahoo Finance\r\n",
        "tickers = yf.Tickers(stock_labels)\r\n",
        "tickers"
      ],
      "execution_count": 86,
      "outputs": [
        {
          "output_type": "execute_result",
          "data": {
            "text/plain": [
              "yfinance.Tickers object <^JKSE,BBCA.JK,BBNI.JK,ICBP.JK,INKP.JK,KAEF.JK,PTRO.JK,PWON.JK>"
            ]
          },
          "metadata": {
            "tags": []
          },
          "execution_count": 86
        }
      ]
    },
    {
      "cell_type": "code",
      "metadata": {
        "colab": {
          "base_uri": "https://localhost:8080/",
          "height": 419
        },
        "id": "dN2qNAhz2t7v",
        "outputId": "9d48a065-eb0f-40e5-b189-2c00d68b7320"
      },
      "source": [
        "# Create a new dataframe named as df that consist of date column\r\n",
        "df_date = tickers.tickers[0].history(start=\"2015-10-09\", end=\"2020-10-09\")\r\n",
        "df_date.reset_index(level=0, inplace=True)\r\n",
        "df_date = df_date.sort_values(by = ['Date'])\r\n",
        "stocks_df = pd.DataFrame(df_date.iloc[:,0])\r\n",
        "stocks_df"
      ],
      "execution_count": 87,
      "outputs": [
        {
          "output_type": "execute_result",
          "data": {
            "text/html": [
              "<div>\n",
              "<style scoped>\n",
              "    .dataframe tbody tr th:only-of-type {\n",
              "        vertical-align: middle;\n",
              "    }\n",
              "\n",
              "    .dataframe tbody tr th {\n",
              "        vertical-align: top;\n",
              "    }\n",
              "\n",
              "    .dataframe thead th {\n",
              "        text-align: right;\n",
              "    }\n",
              "</style>\n",
              "<table border=\"1\" class=\"dataframe\">\n",
              "  <thead>\n",
              "    <tr style=\"text-align: right;\">\n",
              "      <th></th>\n",
              "      <th>Date</th>\n",
              "    </tr>\n",
              "  </thead>\n",
              "  <tbody>\n",
              "    <tr>\n",
              "      <th>0</th>\n",
              "      <td>2015-10-09</td>\n",
              "    </tr>\n",
              "    <tr>\n",
              "      <th>1</th>\n",
              "      <td>2015-10-12</td>\n",
              "    </tr>\n",
              "    <tr>\n",
              "      <th>2</th>\n",
              "      <td>2015-10-13</td>\n",
              "    </tr>\n",
              "    <tr>\n",
              "      <th>3</th>\n",
              "      <td>2015-10-15</td>\n",
              "    </tr>\n",
              "    <tr>\n",
              "      <th>4</th>\n",
              "      <td>2015-10-16</td>\n",
              "    </tr>\n",
              "    <tr>\n",
              "      <th>...</th>\n",
              "      <td>...</td>\n",
              "    </tr>\n",
              "    <tr>\n",
              "      <th>1209</th>\n",
              "      <td>2020-10-02</td>\n",
              "    </tr>\n",
              "    <tr>\n",
              "      <th>1210</th>\n",
              "      <td>2020-10-05</td>\n",
              "    </tr>\n",
              "    <tr>\n",
              "      <th>1211</th>\n",
              "      <td>2020-10-06</td>\n",
              "    </tr>\n",
              "    <tr>\n",
              "      <th>1212</th>\n",
              "      <td>2020-10-07</td>\n",
              "    </tr>\n",
              "    <tr>\n",
              "      <th>1213</th>\n",
              "      <td>2020-10-08</td>\n",
              "    </tr>\n",
              "  </tbody>\n",
              "</table>\n",
              "<p>1214 rows × 1 columns</p>\n",
              "</div>"
            ],
            "text/plain": [
              "           Date\n",
              "0    2015-10-09\n",
              "1    2015-10-12\n",
              "2    2015-10-13\n",
              "3    2015-10-15\n",
              "4    2015-10-16\n",
              "...         ...\n",
              "1209 2020-10-02\n",
              "1210 2020-10-05\n",
              "1211 2020-10-06\n",
              "1212 2020-10-07\n",
              "1213 2020-10-08\n",
              "\n",
              "[1214 rows x 1 columns]"
            ]
          },
          "metadata": {
            "tags": []
          },
          "execution_count": 87
        }
      ]
    },
    {
      "cell_type": "code",
      "metadata": {
        "colab": {
          "base_uri": "https://localhost:8080/",
          "height": 419
        },
        "id": "r0L6bu9S271v",
        "outputId": "eec681b7-619b-4864-906c-6cda6842ec5a"
      },
      "source": [
        "# Get close price from each stock then append it to the df\r\n",
        "for i in range(0,8):\r\n",
        "  df_close = tickers.tickers[i].history(start=\"2015-10-09\", end=\"2020-10-09\")\r\n",
        "  df_close.reset_index(level=0, inplace=True)\r\n",
        "  df_close = df_close.sort_values(by = ['Date'])\r\n",
        "  stocks_df[tickers.tickers[i].info['symbol']] = df_close.iloc[:,4]\r\n",
        "stocks_df"
      ],
      "execution_count": 88,
      "outputs": [
        {
          "output_type": "execute_result",
          "data": {
            "text/html": [
              "<div>\n",
              "<style scoped>\n",
              "    .dataframe tbody tr th:only-of-type {\n",
              "        vertical-align: middle;\n",
              "    }\n",
              "\n",
              "    .dataframe tbody tr th {\n",
              "        vertical-align: top;\n",
              "    }\n",
              "\n",
              "    .dataframe thead th {\n",
              "        text-align: right;\n",
              "    }\n",
              "</style>\n",
              "<table border=\"1\" class=\"dataframe\">\n",
              "  <thead>\n",
              "    <tr style=\"text-align: right;\">\n",
              "      <th></th>\n",
              "      <th>Date</th>\n",
              "      <th>^JKSE</th>\n",
              "      <th>BBCA.JK</th>\n",
              "      <th>BBNI.JK</th>\n",
              "      <th>ICBP.JK</th>\n",
              "      <th>INKP.JK</th>\n",
              "      <th>KAEF.JK</th>\n",
              "      <th>PTRO.JK</th>\n",
              "      <th>PWON.JK</th>\n",
              "    </tr>\n",
              "  </thead>\n",
              "  <tbody>\n",
              "    <tr>\n",
              "      <th>0</th>\n",
              "      <td>2015-10-09</td>\n",
              "      <td>4589.165527</td>\n",
              "      <td>12285.497070</td>\n",
              "      <td>4248.599609</td>\n",
              "      <td>5821.094727</td>\n",
              "      <td>778.740112</td>\n",
              "      <td>757.196594</td>\n",
              "      <td>275.868896</td>\n",
              "      <td>401.370087</td>\n",
              "    </tr>\n",
              "    <tr>\n",
              "      <th>1</th>\n",
              "      <td>2015-10-12</td>\n",
              "      <td>4630.526855</td>\n",
              "      <td>12448.371094</td>\n",
              "      <td>4248.599609</td>\n",
              "      <td>5843.355469</td>\n",
              "      <td>783.431396</td>\n",
              "      <td>796.277710</td>\n",
              "      <td>287.643768</td>\n",
              "      <td>398.475555</td>\n",
              "    </tr>\n",
              "    <tr>\n",
              "      <th>2</th>\n",
              "      <td>2015-10-13</td>\n",
              "      <td>4482.901855</td>\n",
              "      <td>12052.816406</td>\n",
              "      <td>4087.956299</td>\n",
              "      <td>5676.402832</td>\n",
              "      <td>764.666504</td>\n",
              "      <td>806.047974</td>\n",
              "      <td>279.233124</td>\n",
              "      <td>371.460266</td>\n",
              "    </tr>\n",
              "    <tr>\n",
              "      <th>3</th>\n",
              "      <td>2015-10-15</td>\n",
              "      <td>4507.019531</td>\n",
              "      <td>12076.085938</td>\n",
              "      <td>4248.599609</td>\n",
              "      <td>5876.746094</td>\n",
              "      <td>764.666504</td>\n",
              "      <td>801.162842</td>\n",
              "      <td>269.981445</td>\n",
              "      <td>380.143738</td>\n",
              "    </tr>\n",
              "    <tr>\n",
              "      <th>4</th>\n",
              "      <td>2015-10-16</td>\n",
              "      <td>4521.705566</td>\n",
              "      <td>11913.208984</td>\n",
              "      <td>4312.012207</td>\n",
              "      <td>5876.746094</td>\n",
              "      <td>769.357727</td>\n",
              "      <td>835.358826</td>\n",
              "      <td>270.822510</td>\n",
              "      <td>369.530640</td>\n",
              "    </tr>\n",
              "    <tr>\n",
              "      <th>...</th>\n",
              "      <td>...</td>\n",
              "      <td>...</td>\n",
              "      <td>...</td>\n",
              "      <td>...</td>\n",
              "      <td>...</td>\n",
              "      <td>...</td>\n",
              "      <td>...</td>\n",
              "      <td>...</td>\n",
              "      <td>...</td>\n",
              "    </tr>\n",
              "    <tr>\n",
              "      <th>1209</th>\n",
              "      <td>2020-10-02</td>\n",
              "      <td>4926.733887</td>\n",
              "      <td>30906.378906</td>\n",
              "      <td>4680.000000</td>\n",
              "      <td>9111.715820</td>\n",
              "      <td>8080.842285</td>\n",
              "      <td>1715.000000</td>\n",
              "      <td>1790.000000</td>\n",
              "      <td>428.000000</td>\n",
              "    </tr>\n",
              "    <tr>\n",
              "      <th>1210</th>\n",
              "      <td>2020-10-05</td>\n",
              "      <td>4958.769043</td>\n",
              "      <td>30806.679688</td>\n",
              "      <td>4670.000000</td>\n",
              "      <td>9160.572266</td>\n",
              "      <td>7981.385742</td>\n",
              "      <td>2140.000000</td>\n",
              "      <td>1800.000000</td>\n",
              "      <td>420.000000</td>\n",
              "    </tr>\n",
              "    <tr>\n",
              "      <th>1211</th>\n",
              "      <td>2020-10-06</td>\n",
              "      <td>4999.221191</td>\n",
              "      <td>30906.378906</td>\n",
              "      <td>4710.000000</td>\n",
              "      <td>9185.000000</td>\n",
              "      <td>8031.113770</td>\n",
              "      <td>2670.000000</td>\n",
              "      <td>1915.000000</td>\n",
              "      <td>426.000000</td>\n",
              "    </tr>\n",
              "    <tr>\n",
              "      <th>1212</th>\n",
              "      <td>2020-10-07</td>\n",
              "      <td>5004.327148</td>\n",
              "      <td>30407.888672</td>\n",
              "      <td>4610.000000</td>\n",
              "      <td>9175.000000</td>\n",
              "      <td>7633.287598</td>\n",
              "      <td>2740.000000</td>\n",
              "      <td>1895.000000</td>\n",
              "      <td>424.000000</td>\n",
              "    </tr>\n",
              "    <tr>\n",
              "      <th>1213</th>\n",
              "      <td>2020-10-08</td>\n",
              "      <td>5039.142090</td>\n",
              "      <td>30407.888672</td>\n",
              "      <td>4650.000000</td>\n",
              "      <td>9000.000000</td>\n",
              "      <td>7608.423828</td>\n",
              "      <td>2550.000000</td>\n",
              "      <td>1905.000000</td>\n",
              "      <td>428.000000</td>\n",
              "    </tr>\n",
              "  </tbody>\n",
              "</table>\n",
              "<p>1214 rows × 9 columns</p>\n",
              "</div>"
            ],
            "text/plain": [
              "           Date        ^JKSE  ...      PTRO.JK     PWON.JK\n",
              "0    2015-10-09  4589.165527  ...   275.868896  401.370087\n",
              "1    2015-10-12  4630.526855  ...   287.643768  398.475555\n",
              "2    2015-10-13  4482.901855  ...   279.233124  371.460266\n",
              "3    2015-10-15  4507.019531  ...   269.981445  380.143738\n",
              "4    2015-10-16  4521.705566  ...   270.822510  369.530640\n",
              "...         ...          ...  ...          ...         ...\n",
              "1209 2020-10-02  4926.733887  ...  1790.000000  428.000000\n",
              "1210 2020-10-05  4958.769043  ...  1800.000000  420.000000\n",
              "1211 2020-10-06  4999.221191  ...  1915.000000  426.000000\n",
              "1212 2020-10-07  5004.327148  ...  1895.000000  424.000000\n",
              "1213 2020-10-08  5039.142090  ...  1905.000000  428.000000\n",
              "\n",
              "[1214 rows x 9 columns]"
            ]
          },
          "metadata": {
            "tags": []
          },
          "execution_count": 88
        }
      ]
    },
    {
      "cell_type": "code",
      "metadata": {
        "id": "Ib_edonF3w5l"
      },
      "source": [
        ""
      ],
      "execution_count": null,
      "outputs": []
    }
  ]
}