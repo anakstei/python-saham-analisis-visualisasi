{
  "nbformat": 4,
  "nbformat_minor": 0,
  "metadata": {
    "colab": {
      "name": "python-saham-analisis-visualisasi.ipynb",
      "provenance": [],
      "collapsed_sections": [],
      "authorship_tag": "ABX9TyNrCMmO0fZI48nn/TZ4LZDR",
      "include_colab_link": true
    },
    "kernelspec": {
      "name": "python3",
      "display_name": "Python 3"
    }
  },
  "cells": [
    {
      "cell_type": "markdown",
      "metadata": {
        "id": "view-in-github",
        "colab_type": "text"
      },
      "source": [
        "<a href=\"https://colab.research.google.com/github/anakstei/python-saham-analisis-visualisasi/blob/main/python_saham_analisis_visualisasi.ipynb\" target=\"_parent\"><img src=\"https://colab.research.google.com/assets/colab-badge.svg\" alt=\"Open In Colab\"/></a>"
      ]
    },
    {
      "cell_type": "markdown",
      "metadata": {
        "id": "biwlgcDBygiY"
      },
      "source": [
        "# **Analisis dan Visualisasi Data Saham Menggunakan Python — Part 1**"
      ]
    },
    {
      "cell_type": "markdown",
      "metadata": {
        "id": "9OY8quQjyYUr"
      },
      "source": [
        "### Import libraries"
      ]
    },
    {
      "cell_type": "code",
      "metadata": {
        "colab": {
          "base_uri": "https://localhost:8080/"
        },
        "id": "avsekgNGo4l0",
        "outputId": "3223be6a-bf7f-412b-c53e-e7a92e0a8abe"
      },
      "source": [
        "# Install yfinance library\r\n",
        "# https://pypi.org/project/yfinance/\r\n",
        "!pip install yfinance"
      ],
      "execution_count": 2,
      "outputs": [
        {
          "output_type": "stream",
          "text": [
            "Collecting yfinance\n",
            "  Downloading https://files.pythonhosted.org/packages/7a/e8/b9d7104d3a4bf39924799067592d9e59119fcfc900a425a12e80a3123ec8/yfinance-0.1.55.tar.gz\n",
            "Requirement already satisfied: pandas>=0.24 in /usr/local/lib/python3.7/dist-packages (from yfinance) (1.1.5)\n",
            "Requirement already satisfied: numpy>=1.15 in /usr/local/lib/python3.7/dist-packages (from yfinance) (1.19.5)\n",
            "Requirement already satisfied: requests>=2.20 in /usr/local/lib/python3.7/dist-packages (from yfinance) (2.23.0)\n",
            "Requirement already satisfied: multitasking>=0.0.7 in /usr/local/lib/python3.7/dist-packages (from yfinance) (0.0.9)\n",
            "Collecting lxml>=4.5.1\n",
            "\u001b[?25l  Downloading https://files.pythonhosted.org/packages/d2/88/b25778f17e5320c1c58f8c5060fb5b037288e162bd7554c30799e9ea90db/lxml-4.6.2-cp37-cp37m-manylinux1_x86_64.whl (5.5MB)\n",
            "\u001b[K     |████████████████████████████████| 5.5MB 15.4MB/s \n",
            "\u001b[?25hRequirement already satisfied: pytz>=2017.2 in /usr/local/lib/python3.7/dist-packages (from pandas>=0.24->yfinance) (2018.9)\n",
            "Requirement already satisfied: python-dateutil>=2.7.3 in /usr/local/lib/python3.7/dist-packages (from pandas>=0.24->yfinance) (2.8.1)\n",
            "Requirement already satisfied: certifi>=2017.4.17 in /usr/local/lib/python3.7/dist-packages (from requests>=2.20->yfinance) (2020.12.5)\n",
            "Requirement already satisfied: chardet<4,>=3.0.2 in /usr/local/lib/python3.7/dist-packages (from requests>=2.20->yfinance) (3.0.4)\n",
            "Requirement already satisfied: idna<3,>=2.5 in /usr/local/lib/python3.7/dist-packages (from requests>=2.20->yfinance) (2.10)\n",
            "Requirement already satisfied: urllib3!=1.25.0,!=1.25.1,<1.26,>=1.21.1 in /usr/local/lib/python3.7/dist-packages (from requests>=2.20->yfinance) (1.24.3)\n",
            "Requirement already satisfied: six>=1.5 in /usr/local/lib/python3.7/dist-packages (from python-dateutil>=2.7.3->pandas>=0.24->yfinance) (1.15.0)\n",
            "Building wheels for collected packages: yfinance\n",
            "  Building wheel for yfinance (setup.py) ... \u001b[?25l\u001b[?25hdone\n",
            "  Created wheel for yfinance: filename=yfinance-0.1.55-py2.py3-none-any.whl size=22616 sha256=159a795d90a865655f38f9296f10eb81d686e3e2eba7ab9dbea48dfa0afcd6a4\n",
            "  Stored in directory: /root/.cache/pip/wheels/04/98/cc/2702a4242d60bdc14f48b4557c427ded1fe92aedf257d4565c\n",
            "Successfully built yfinance\n",
            "Installing collected packages: lxml, yfinance\n",
            "  Found existing installation: lxml 4.2.6\n",
            "    Uninstalling lxml-4.2.6:\n",
            "      Successfully uninstalled lxml-4.2.6\n",
            "Successfully installed lxml-4.6.2 yfinance-0.1.55\n"
          ],
          "name": "stdout"
        }
      ]
    },
    {
      "cell_type": "code",
      "metadata": {
        "id": "5DfCM_8-pFgE"
      },
      "source": [
        "# Import libraries\r\n",
        "import pandas as pd\r\n",
        "import matplotlib.pyplot as plt\r\n",
        "import seaborn as sns\r\n",
        "import plotly.express as px\r\n",
        "import plotly.figure_factory as ff\r\n",
        "import yfinance as yf"
      ],
      "execution_count": 4,
      "outputs": []
    },
    {
      "cell_type": "markdown",
      "metadata": {
        "id": "YVSQtoStyLGO"
      },
      "source": [
        "### Test yfinance"
      ]
    },
    {
      "cell_type": "code",
      "metadata": {
        "id": "O6m0EJJFu7H9"
      },
      "source": [
        "bbca = yf.Ticker(\"BBCA.JK\")"
      ],
      "execution_count": 37,
      "outputs": []
    },
    {
      "cell_type": "code",
      "metadata": {
        "colab": {
          "base_uri": "https://localhost:8080/"
        },
        "id": "skn8IQ9Evj2e",
        "outputId": "97d4b6fb-a630-44dc-c54d-54d24abb79b6"
      },
      "source": [
        "# Get stock info\r\n",
        "bbca.info"
      ],
      "execution_count": 45,
      "outputs": [
        {
          "output_type": "execute_result",
          "data": {
            "text/plain": [
              "{'52WeekChange': 0.12905979,\n",
              " 'SandP52WeekChange': 0.4136821,\n",
              " 'address1': 'Menara BCA',\n",
              " 'address2': 'Grand Indonesia Jl. M.H. Thamrin No. 1',\n",
              " 'algorithm': None,\n",
              " 'annualHoldingsTurnover': None,\n",
              " 'annualReportExpenseRatio': None,\n",
              " 'ask': 33525,\n",
              " 'askSize': 0,\n",
              " 'averageDailyVolume10Day': 23731271,\n",
              " 'averageVolume': 18795986,\n",
              " 'averageVolume10days': 23731271,\n",
              " 'beta': 0.528512,\n",
              " 'beta3Year': None,\n",
              " 'bid': 33500,\n",
              " 'bidSize': 0,\n",
              " 'bookValue': 7487.173,\n",
              " 'category': None,\n",
              " 'circulatingSupply': None,\n",
              " 'city': 'Jakarta',\n",
              " 'companyOfficers': [],\n",
              " 'country': 'Indonesia',\n",
              " 'currency': 'IDR',\n",
              " 'dateShortInterest': None,\n",
              " 'dayHigh': 33600,\n",
              " 'dayLow': 33100,\n",
              " 'dividendRate': 553,\n",
              " 'dividendYield': 0.0165,\n",
              " 'earningsQuarterlyGrowth': -0.072,\n",
              " 'enterpriseToEbitda': None,\n",
              " 'enterpriseToRevenue': 9.188,\n",
              " 'enterpriseValue': 583706322403328,\n",
              " 'exDividendDate': 1607472000,\n",
              " 'exchange': 'JKT',\n",
              " 'exchangeTimezoneName': 'Asia/Jakarta',\n",
              " 'exchangeTimezoneShortName': 'WIB',\n",
              " 'expireDate': None,\n",
              " 'fax': '62 21 2358 8300',\n",
              " 'fiftyDayAverage': 34346.43,\n",
              " 'fiftyTwoWeekHigh': 36900,\n",
              " 'fiftyTwoWeekLow': 21625,\n",
              " 'fiveYearAverageReturn': None,\n",
              " 'fiveYearAvgDividendYield': 1.22,\n",
              " 'floatShares': 9799133724,\n",
              " 'forwardEps': 1204.84,\n",
              " 'forwardPE': 27.825272,\n",
              " 'fromCurrency': None,\n",
              " 'fullTimeEmployees': 26123,\n",
              " 'fundFamily': None,\n",
              " 'fundInceptionDate': None,\n",
              " 'gmtOffSetMilliseconds': '25200000',\n",
              " 'heldPercentInsiders': 0.59733003,\n",
              " 'heldPercentInstitutions': 0.21236,\n",
              " 'impliedSharesOutstanding': None,\n",
              " 'industry': 'Banks—Regional',\n",
              " 'isEsgPopulated': False,\n",
              " 'lastCapGain': None,\n",
              " 'lastDividendDate': 1607472000,\n",
              " 'lastDividendValue': 98,\n",
              " 'lastFiscalYearEnd': 1609372800,\n",
              " 'lastMarket': None,\n",
              " 'lastSplitDate': 1201478400,\n",
              " 'lastSplitFactor': '2:1',\n",
              " 'legalType': None,\n",
              " 'logo_url': 'https://logo.clearbit.com/bca.co.id',\n",
              " 'longBusinessSummary': 'PT Bank Central Asia Tbk, together with its subsidiaries, provides banking products and services to individual, corporate, and small and medium enterprise customers in Indonesia and internationally. It offers deposits accounts, loans, transaction banking services, electronic banking services, cash management services, credit cards, bancassurance products, mutual fund and treasury investment products, credit facilities, standby LC/bank guarantees, export import facilities, local LC, and foreign exchange facilities. The company also provides investment financing, working capital financing, auto and multipurpose financing, operating lease, other financing activities, money lending and remittance, securities brokerage dealing and securities issuance underwriting, general or loss insurance, life insurance, Sharia banking, and venture capital services. As of December 31, 2020, it operated 1,248 offices comprising 139 main branches, 874 sub-branches, and 235 cash offices; and 17,623 automated teller machines. PT Bank Central Asia Tbk was founded in 1955 and is headquartered in Jakarta, Indonesia. PT Bank Central Asia Tbk is a subsidiary of PT Dwimuria Investama Andalan.',\n",
              " 'longName': 'PT Bank Central Asia Tbk',\n",
              " 'market': 'id_market',\n",
              " 'marketCap': 826558872813568,\n",
              " 'maxAge': 1,\n",
              " 'maxSupply': None,\n",
              " 'messageBoardId': 'finmb_1945186',\n",
              " 'morningStarOverallRating': None,\n",
              " 'morningStarRiskRating': None,\n",
              " 'mostRecentQuarter': 1609372800,\n",
              " 'navPrice': None,\n",
              " 'netIncomeToCommon': 27131109179392,\n",
              " 'nextFiscalYearEnd': 1672444800,\n",
              " 'open': 33600,\n",
              " 'openInterest': None,\n",
              " 'payoutRatio': 0.50270003,\n",
              " 'pegRatio': None,\n",
              " 'phone': '62 21 2358 8000',\n",
              " 'previousClose': 33025,\n",
              " 'priceHint': 2,\n",
              " 'priceToBook': 4.4776583,\n",
              " 'priceToSalesTrailing12Months': 13.010275,\n",
              " 'profitMargins': 0.42705002,\n",
              " 'quoteType': 'EQUITY',\n",
              " 'regularMarketDayHigh': 33600,\n",
              " 'regularMarketDayLow': 33100,\n",
              " 'regularMarketOpen': 33600,\n",
              " 'regularMarketPreviousClose': 33025,\n",
              " 'regularMarketPrice': 33600,\n",
              " 'regularMarketVolume': 10060400,\n",
              " 'revenueQuarterlyGrowth': None,\n",
              " 'sector': 'Financial Services',\n",
              " 'sharesOutstanding': 24654999552,\n",
              " 'sharesPercentSharesOut': None,\n",
              " 'sharesShort': None,\n",
              " 'sharesShortPreviousMonthDate': None,\n",
              " 'sharesShortPriorMonth': None,\n",
              " 'shortName': 'Bank Central Asia Tbk.',\n",
              " 'shortPercentOfFloat': None,\n",
              " 'shortRatio': None,\n",
              " 'startDate': None,\n",
              " 'strikePrice': None,\n",
              " 'symbol': 'BBCA.JK',\n",
              " 'threeYearAverageReturn': None,\n",
              " 'toCurrency': None,\n",
              " 'totalAssets': None,\n",
              " 'tradeable': False,\n",
              " 'trailingAnnualDividendRate': 455,\n",
              " 'trailingAnnualDividendYield': 0.013777441,\n",
              " 'trailingEps': 1100,\n",
              " 'trailingPE': 30.477272,\n",
              " 'twoHundredDayAverage': 32150.887,\n",
              " 'volume': 10060400,\n",
              " 'volume24Hr': None,\n",
              " 'volumeAllCurrencies': None,\n",
              " 'website': 'http://www.bca.co.id',\n",
              " 'yield': None,\n",
              " 'ytdReturn': None,\n",
              " 'zip': '10310'}"
            ]
          },
          "metadata": {
            "tags": []
          },
          "execution_count": 45
        }
      ]
    },
    {
      "cell_type": "code",
      "metadata": {
        "id": "JgHTo1_xvlF-"
      },
      "source": [
        "# Get historical market data\r\n",
        "hist = bbca.history(period=\"max\")\r\n",
        "# hist = bbca.history(start=\"2020-02-15\", end=\"2021-02-15\")"
      ],
      "execution_count": 42,
      "outputs": []
    },
    {
      "cell_type": "code",
      "metadata": {
        "colab": {
          "base_uri": "https://localhost:8080/"
        },
        "id": "M2q0xbbvvvLV",
        "outputId": "b72b2fa8-108b-4929-995a-22b0cb24eaa6"
      },
      "source": [
        "type(hist)"
      ],
      "execution_count": 43,
      "outputs": [
        {
          "output_type": "execute_result",
          "data": {
            "text/plain": [
              "pandas.core.frame.DataFrame"
            ]
          },
          "metadata": {
            "tags": []
          },
          "execution_count": 43
        }
      ]
    },
    {
      "cell_type": "code",
      "metadata": {
        "colab": {
          "base_uri": "https://localhost:8080/",
          "height": 450
        },
        "id": "9cYDC4pjvyg9",
        "outputId": "7cb552b7-4ae5-488f-9454-8517797c38fa"
      },
      "source": [
        "hist"
      ],
      "execution_count": 44,
      "outputs": [
        {
          "output_type": "execute_result",
          "data": {
            "text/html": [
              "<div>\n",
              "<style scoped>\n",
              "    .dataframe tbody tr th:only-of-type {\n",
              "        vertical-align: middle;\n",
              "    }\n",
              "\n",
              "    .dataframe tbody tr th {\n",
              "        vertical-align: top;\n",
              "    }\n",
              "\n",
              "    .dataframe thead th {\n",
              "        text-align: right;\n",
              "    }\n",
              "</style>\n",
              "<table border=\"1\" class=\"dataframe\">\n",
              "  <thead>\n",
              "    <tr style=\"text-align: right;\">\n",
              "      <th></th>\n",
              "      <th>Open</th>\n",
              "      <th>High</th>\n",
              "      <th>Low</th>\n",
              "      <th>Close</th>\n",
              "      <th>Volume</th>\n",
              "      <th>Dividends</th>\n",
              "      <th>Stock Splits</th>\n",
              "    </tr>\n",
              "    <tr>\n",
              "      <th>Date</th>\n",
              "      <th></th>\n",
              "      <th></th>\n",
              "      <th></th>\n",
              "      <th></th>\n",
              "      <th></th>\n",
              "      <th></th>\n",
              "      <th></th>\n",
              "    </tr>\n",
              "  </thead>\n",
              "  <tbody>\n",
              "    <tr>\n",
              "      <th>2004-06-08</th>\n",
              "      <td>553.559837</td>\n",
              "      <td>569.375832</td>\n",
              "      <td>553.559837</td>\n",
              "      <td>561.467834</td>\n",
              "      <td>99830000.0</td>\n",
              "      <td>0.0</td>\n",
              "      <td>0.0</td>\n",
              "    </tr>\n",
              "    <tr>\n",
              "      <th>2004-06-09</th>\n",
              "      <td>561.468037</td>\n",
              "      <td>577.284038</td>\n",
              "      <td>553.560037</td>\n",
              "      <td>569.376038</td>\n",
              "      <td>58858000.0</td>\n",
              "      <td>0.0</td>\n",
              "      <td>0.0</td>\n",
              "    </tr>\n",
              "    <tr>\n",
              "      <th>2004-06-10</th>\n",
              "      <td>569.376038</td>\n",
              "      <td>569.376038</td>\n",
              "      <td>561.468037</td>\n",
              "      <td>569.376038</td>\n",
              "      <td>33118000.0</td>\n",
              "      <td>0.0</td>\n",
              "      <td>0.0</td>\n",
              "    </tr>\n",
              "    <tr>\n",
              "      <th>2004-06-11</th>\n",
              "      <td>561.468037</td>\n",
              "      <td>569.376038</td>\n",
              "      <td>561.468037</td>\n",
              "      <td>569.376038</td>\n",
              "      <td>27166000.0</td>\n",
              "      <td>0.0</td>\n",
              "      <td>0.0</td>\n",
              "    </tr>\n",
              "    <tr>\n",
              "      <th>2004-06-14</th>\n",
              "      <td>569.375832</td>\n",
              "      <td>569.375832</td>\n",
              "      <td>553.559837</td>\n",
              "      <td>561.467834</td>\n",
              "      <td>31708000.0</td>\n",
              "      <td>0.0</td>\n",
              "      <td>0.0</td>\n",
              "    </tr>\n",
              "    <tr>\n",
              "      <th>...</th>\n",
              "      <td>...</td>\n",
              "      <td>...</td>\n",
              "      <td>...</td>\n",
              "      <td>...</td>\n",
              "      <td>...</td>\n",
              "      <td>...</td>\n",
              "      <td>...</td>\n",
              "    </tr>\n",
              "    <tr>\n",
              "      <th>2021-03-04</th>\n",
              "      <td>34525.000000</td>\n",
              "      <td>35000.000000</td>\n",
              "      <td>33600.000000</td>\n",
              "      <td>33600.000000</td>\n",
              "      <td>24160500.0</td>\n",
              "      <td>0.0</td>\n",
              "      <td>0.0</td>\n",
              "    </tr>\n",
              "    <tr>\n",
              "      <th>2021-03-05</th>\n",
              "      <td>33600.000000</td>\n",
              "      <td>34625.000000</td>\n",
              "      <td>33600.000000</td>\n",
              "      <td>34000.000000</td>\n",
              "      <td>22374300.0</td>\n",
              "      <td>0.0</td>\n",
              "      <td>0.0</td>\n",
              "    </tr>\n",
              "    <tr>\n",
              "      <th>2021-03-08</th>\n",
              "      <td>34750.000000</td>\n",
              "      <td>34750.000000</td>\n",
              "      <td>33600.000000</td>\n",
              "      <td>33600.000000</td>\n",
              "      <td>18176600.0</td>\n",
              "      <td>0.0</td>\n",
              "      <td>0.0</td>\n",
              "    </tr>\n",
              "    <tr>\n",
              "      <th>2021-03-09</th>\n",
              "      <td>33500.000000</td>\n",
              "      <td>33575.000000</td>\n",
              "      <td>33000.000000</td>\n",
              "      <td>33025.000000</td>\n",
              "      <td>27116400.0</td>\n",
              "      <td>0.0</td>\n",
              "      <td>0.0</td>\n",
              "    </tr>\n",
              "    <tr>\n",
              "      <th>2021-03-10</th>\n",
              "      <td>33600.000000</td>\n",
              "      <td>33600.000000</td>\n",
              "      <td>33100.000000</td>\n",
              "      <td>33525.000000</td>\n",
              "      <td>10060400.0</td>\n",
              "      <td>0.0</td>\n",
              "      <td>0.0</td>\n",
              "    </tr>\n",
              "  </tbody>\n",
              "</table>\n",
              "<p>4164 rows × 7 columns</p>\n",
              "</div>"
            ],
            "text/plain": [
              "                    Open          High  ...  Dividends  Stock Splits\n",
              "Date                                    ...                         \n",
              "2004-06-08    553.559837    569.375832  ...        0.0           0.0\n",
              "2004-06-09    561.468037    577.284038  ...        0.0           0.0\n",
              "2004-06-10    569.376038    569.376038  ...        0.0           0.0\n",
              "2004-06-11    561.468037    569.376038  ...        0.0           0.0\n",
              "2004-06-14    569.375832    569.375832  ...        0.0           0.0\n",
              "...                  ...           ...  ...        ...           ...\n",
              "2021-03-04  34525.000000  35000.000000  ...        0.0           0.0\n",
              "2021-03-05  33600.000000  34625.000000  ...        0.0           0.0\n",
              "2021-03-08  34750.000000  34750.000000  ...        0.0           0.0\n",
              "2021-03-09  33500.000000  33575.000000  ...        0.0           0.0\n",
              "2021-03-10  33600.000000  33600.000000  ...        0.0           0.0\n",
              "\n",
              "[4164 rows x 7 columns]"
            ]
          },
          "metadata": {
            "tags": []
          },
          "execution_count": 44
        }
      ]
    },
    {
      "cell_type": "markdown",
      "metadata": {
        "id": "6t0N6zr30MTE"
      },
      "source": [
        "### Load dataset"
      ]
    },
    {
      "cell_type": "code",
      "metadata": {
        "id": "VvuEPnBB0OyJ"
      },
      "source": [
        ""
      ],
      "execution_count": null,
      "outputs": []
    }
  ]
}